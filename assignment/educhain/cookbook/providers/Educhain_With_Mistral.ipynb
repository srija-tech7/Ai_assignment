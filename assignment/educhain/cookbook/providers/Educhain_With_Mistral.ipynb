{
  "cells": [
    {
      "cell_type": "markdown",
      "metadata": {
        "id": "Mz8bgljA2xo5"
      },
      "source": [
        "<img src=\"https://github.com/Shubhwithai/GRE_Geometry_quiz/blob/main/Group%2042.png?raw=true\" width=\"\" height=\"50\">\n",
        "\n",
        "Educhain is a powerful Python package that leverages Generative AI to create engaging and personalized educational content. From generating multiple-choice questions to crafting comprehensive lesson plans, Educhain makes it easy to apply AI in various educational scenarios."
      ]
    },
    {
      "cell_type": "markdown",
      "metadata": {
        "id": "aSRyamS1QTbN"
      },
      "source": [
        "[![Open In Colab](https://colab.research.google.com/assets/colab-badge.svg)](https://colab.research.google.com/drive/1gaHuBSGIZdBNiRPcE9XeTvXkyDWzG-Wa#scrollTo=uIL4oKH3KjxS)"
      ]
    },
    {
      "cell_type": "markdown",
      "metadata": {
        "id": "uIL4oKH3KjxS"
      },
      "source": [
        "<img src=\"https://github.com/satvik314/educhain/blob/main/images/educhain_diagram.png?raw=true\" width=\"800\" height=\"500\">\n"
      ]
    },
    {
      "cell_type": "markdown",
      "metadata": {
        "id": "tIQKcRCVbBzT"
      },
      "source": [
        "# How to Use Educhain With mistral Model\n",
        "---"
      ]
    },
    {
      "cell_type": "markdown",
      "metadata": {
        "id": "Bgdt6TlVI3v5"
      },
      "source": [
        "###Setup"
      ]
    },
    {
      "cell_type": "code",
      "execution_count": null,
      "metadata": {
        "id": "7inIre43Ua6D"
      },
      "outputs": [],
      "source": [
        "!pip install langchain langchain-mistralai educhain"
      ]
    },
    {
      "cell_type": "markdown",
      "metadata": {
        "id": "Xy8GMfeJJV3B"
      },
      "source": [
        "###Imports"
      ]
    },
    {
      "cell_type": "code",
      "execution_count": null,
      "metadata": {
        "id": "AvyyAE5sUgzH"
      },
      "outputs": [],
      "source": [
        "import os\n",
        "from langchain_mistralai.chat_models import ChatMistralAI\n",
        "from google.colab import userdata\n",
        "from educhain import Educhain, LLMConfig"
      ]
    },
    {
      "cell_type": "markdown",
      "metadata": {
        "id": "ImU0ooSAJYwu"
      },
      "source": [
        "###Setup API Keys"
      ]
    },
    {
      "cell_type": "code",
      "execution_count": null,
      "metadata": {
        "id": "5_fT4ynFUjyS"
      },
      "outputs": [],
      "source": [
        "# Set your Together AI API key\n",
        "os.environ[\"Mistral_api_key\"] = userdata.get(\"Mistral_api_key\")"
      ]
    },
    {
      "cell_type": "markdown",
      "metadata": {
        "id": "JL6Uq5tFYstX"
      },
      "source": [
        "### **Quickstart**\n",
        "\n"
      ]
    },
    {
      "cell_type": "markdown",
      "metadata": {
        "id": "W5vJF1He71Nh"
      },
      "source": [
        "###Configure Cohere Model"
      ]
    },
    {
      "cell_type": "code",
      "execution_count": null,
      "metadata": {
        "id": "3fvWl2-076vu"
      },
      "outputs": [],
      "source": [
        "Mistral = ChatMistralAI(\n",
        "    # model=\"pixtral-12b-2409\",\n",
        ")\n",
        "\n",
        "Mistral_config = LLMConfig(custom_model=Mistral)"
      ]
    },
    {
      "cell_type": "markdown",
      "metadata": {
        "id": "lwmxYuPO8G1Z"
      },
      "source": [
        "###**Create MCQs just by entering the topic**"
      ]
    },
    {
      "cell_type": "code",
      "execution_count": null,
      "metadata": {
        "colab": {
          "base_uri": "https://localhost:8080/",
          "height": 365
        },
        "id": "94pzqvrs7VaX",
        "outputId": "f2641fd4-00c4-4dc8-c872-7a98b6924770"
      },
      "outputs": [],
      "source": [
        "client = Educhain(Mistral_config)\n",
        "\n",
        "ques = client.qna_engine.generate_questions(topic=\"Generative AI\",\n",
        "                                            num=5,\n",
        "                                            level=\"Easy\")\n",
        "ques.model_dump_json()   #you can Generate Dictionaries with this model_dump_json"
      ]
    },
    {
      "cell_type": "code",
      "execution_count": null,
      "metadata": {
        "colab": {
          "base_uri": "https://localhost:8080/"
        },
        "id": "pOA-wz7o8kiu",
        "outputId": "20321cae-0287-4b0e-e985-0cdc115c923c"
      },
      "outputs": [
        {
          "name": "stdout",
          "output_type": "stream",
          "text": [
            "Question 1:\n",
            "Question: Which of the following best describes Newton's First Law of Motion?\n",
            "Options:\n",
            "  A. A. An object at rest stays at rest and an object in motion stays in motion with the same speed and in the same direction unless acted upon by an unbalanced force.\n",
            "  B. B. An object at rest stays at rest and an object in motion stays in motion with the same speed and in the opposite direction unless acted upon by an unbalanced force.\n",
            "  C. C. An object at rest stays at rest and an object in motion stays in motion with different speeds and in the same direction unless acted upon by an unbalanced force.\n",
            "  D. D. An object at rest stays at rest and an object in motion stays in motion with the same speed and in a different direction unless acted upon by an unbalanced force.\n",
            "  E. E. An object at rest stays at rest and an object in motion stays in motion with the same speed and in the same direction if acted upon by an unbalanced force.\n",
            "\n",
            "Correct Answer: An object at rest stays at rest and an object in motion stays in motion with the same speed and in the same direction unless acted upon by an unbalanced force.\n",
            "Explanation: This law, also known as the law of inertia, states that objects will not change their state of motion unless a force acts upon them.\n",
            "\n",
            "Question 2:\n",
            "Question: What is the relationship between force (F), mass (m), and acceleration (a) according to Newton's Second Law of Motion?\n",
            "Options:\n",
            "  A. A. F = ma\n",
            "  B. B. F = m/a\n",
            "  C. C. F = a/m\n",
            "  D. D. F = m + a\n",
            "  E. E. F = m - a\n",
            "\n",
            "Correct Answer: F = ma\n",
            "Explanation: This law states that the force applied to an object is directly proportional to its mass and the acceleration it experiences.\n",
            "\n",
            "Question 3:\n",
            "Question: What happens to the acceleration of an object when the force acting on it is doubled, assuming the mass remains constant?\n",
            "Options:\n",
            "  A. A. The acceleration remains the same.\n",
            "  B. B. The acceleration is doubled.\n",
            "  C. C. The acceleration is halved.\n",
            "  D. D. The acceleration is quadrupled.\n",
            "  E. E. The acceleration is halved.\n",
            "\n",
            "Correct Answer: The acceleration is also doubled.\n",
            "Explanation: Newton's Second Law can be rearranged to show that acceleration is directly proportional to force.\n",
            "\n",
            "Question 4:\n",
            "Question: What is the third law of motion?\n",
            "Options:\n",
            "  A. A. For every action, there is an equal and opposite reaction.\n",
            "  B. B. For every action, there is an equal and opposite attraction.\n",
            "  C. C. For every action, there is an equal and opposite repulsion.\n",
            "  D. D. For every action, there is an equal and opposite motion.\n",
            "  E. E. For every action, there is an equal and opposite force.\n",
            "\n",
            "Correct Answer: For every action, there is an equal and opposite reaction.\n",
            "Explanation: This law describes the interaction between two objects and the forces they exert on each other.\n",
            "\n",
            "Question 5:\n",
            "Question: A 10 kg object is accelerated from rest to 20 m/s over a distance of 50 meters. What force was applied to the object?\n",
            "Options:\n",
            "  A. A. 200 N\n",
            "  B. B. 100 N\n",
            "  C. C. 300 N\n",
            "  D. D. 400 N\n",
            "  E. E. 500 N\n",
            "\n",
            "Correct Answer: 200 N\n",
            "Explanation: Using Newton's Second Law (F = ma), we can calculate the force applied.\n",
            "\n"
          ]
        }
      ],
      "source": [
        "ques.show()"
      ]
    },
    {
      "cell_type": "markdown",
      "metadata": {
        "id": "E6sTBX5s89SF"
      },
      "source": [
        "###You can also pass level, number of questions and custom instructions as an input"
      ]
    },
    {
      "cell_type": "code",
      "execution_count": null,
      "metadata": {
        "colab": {
          "base_uri": "https://localhost:8080/"
        },
        "id": "KIeP94H88_AA",
        "outputId": "00a2fdd8-821f-423d-abcc-e5f56666b779"
      },
      "outputs": [
        {
          "data": {
            "text/plain": [
              "{'questions': [{'question': \"What does Newton's Second Law of Motion state?\",\n",
              "   'answer': 'F = ma',\n",
              "   'explanation': \"Newton's Second Law states that the force (F) applied to an object is equal to the mass (m) of the object multiplied by its acceleration (a).\",\n",
              "   'options': ['F = ma', 'F = m/a', 'F = a/m', 'F = m + a', 'F = m - a']},\n",
              "  {'question': 'How does the acceleration of an object change when a constant force is applied?',\n",
              "   'answer': 'The acceleration is directly proportional to the force and inversely proportional to the mass.',\n",
              "   'explanation': \"According to Newton's Second Law, if the force is constant, the acceleration will be directly proportional to the force. Additionally, the acceleration will be inversely proportional to the mass of the object.\",\n",
              "   'options': ['The acceleration increases with force and decreases with mass.',\n",
              "    'The acceleration decreases with force and increases with mass.',\n",
              "    'The acceleration remains constant regardless of force and mass.',\n",
              "    'The acceleration is independent of both force and mass.',\n",
              "    'The acceleration is directly proportional to mass and inversely proportional to force.']},\n",
              "  {'question': \"A constant force is applied to an object. How does the object's velocity change over time?\",\n",
              "   'answer': 'The velocity increases linearly with time.',\n",
              "   'explanation': 'When a constant force is applied, the acceleration is also constant. According to the kinematic equations, if the acceleration is constant, the velocity will increase linearly with time.',\n",
              "   'options': ['The velocity remains constant.',\n",
              "    'The velocity increases exponentially with time.',\n",
              "    'The velocity decreases with time.',\n",
              "    'The velocity oscillates between increasing and decreasing.',\n",
              "    'The velocity increases linearly with time.']},\n",
              "  {'question': 'A 10 N force is applied to an object with a mass of 5 kg. What is the acceleration of the object?',\n",
              "   'answer': '2 m/s²',\n",
              "   'explanation': \"Using Newton's Second Law (F = ma), we can calculate the acceleration by dividing the force by the mass. Acceleration = Force / Mass = 10 N / 5 kg = 2 m/s².\",\n",
              "   'options': ['1 m/s²', '2 m/s²', '5 m/s²', '10 m/s²', '20 m/s²']},\n",
              "  {'question': \"If an object's mass is doubled while the applied force remains constant, what happens to its acceleration?\",\n",
              "   'answer': 'The acceleration is halved.',\n",
              "   'explanation': \"According to Newton's Second Law, if the mass is doubled and the force remains constant, the acceleration will be halved. This is because acceleration is inversely proportional to mass.\",\n",
              "   'options': ['The acceleration doubles.',\n",
              "    'The acceleration remains the same.',\n",
              "    'The acceleration is halved.',\n",
              "    'The acceleration is doubled and then halved.',\n",
              "    'The acceleration becomes unpredictable.']}]}"
            ]
          },
          "execution_count": 30,
          "metadata": {},
          "output_type": "execute_result"
        }
      ],
      "source": [
        "client = Educhain(Mistral_config)\n",
        "\n",
        "ques = client.qna_engine.generate_questions(topic=\"Generative AI\",\n",
        "                                            num=5,\n",
        "                                            level= \"Medium\",\n",
        "                                            custom_instructions=\"Focus on Latest Trends Of LLMS\")\n",
        "ques.model_dump()  #you can Generate Dictionaries with this model_dump()"
      ]
    },
    {
      "cell_type": "code",
      "execution_count": null,
      "metadata": {
        "colab": {
          "base_uri": "https://localhost:8080/"
        },
        "id": "WCRT6Zw7-bK-",
        "outputId": "f215925d-294c-47bb-ac16-0bef300f58c8"
      },
      "outputs": [
        {
          "name": "stdout",
          "output_type": "stream",
          "text": [
            "Question 1:\n",
            "Question: What does Newton's Second Law of Motion state?\n",
            "Options:\n",
            "  A. F = ma\n",
            "  B. F = m/a\n",
            "  C. F = a/m\n",
            "  D. F = m + a\n",
            "  E. F = m - a\n",
            "\n",
            "Correct Answer: F = ma\n",
            "Explanation: Newton's Second Law states that the force (F) applied to an object is equal to the mass (m) of the object multiplied by its acceleration (a).\n",
            "\n",
            "Question 2:\n",
            "Question: How does the acceleration of an object change when a constant force is applied?\n",
            "Options:\n",
            "  A. The acceleration increases with force and decreases with mass.\n",
            "  B. The acceleration decreases with force and increases with mass.\n",
            "  C. The acceleration remains constant regardless of force and mass.\n",
            "  D. The acceleration is independent of both force and mass.\n",
            "  E. The acceleration is directly proportional to mass and inversely proportional to force.\n",
            "\n",
            "Correct Answer: The acceleration is directly proportional to the force and inversely proportional to the mass.\n",
            "Explanation: According to Newton's Second Law, if the force is constant, the acceleration will be directly proportional to the force. Additionally, the acceleration will be inversely proportional to the mass of the object.\n",
            "\n",
            "Question 3:\n",
            "Question: A constant force is applied to an object. How does the object's velocity change over time?\n",
            "Options:\n",
            "  A. The velocity remains constant.\n",
            "  B. The velocity increases exponentially with time.\n",
            "  C. The velocity decreases with time.\n",
            "  D. The velocity oscillates between increasing and decreasing.\n",
            "  E. The velocity increases linearly with time.\n",
            "\n",
            "Correct Answer: The velocity increases linearly with time.\n",
            "Explanation: When a constant force is applied, the acceleration is also constant. According to the kinematic equations, if the acceleration is constant, the velocity will increase linearly with time.\n",
            "\n",
            "Question 4:\n",
            "Question: A 10 N force is applied to an object with a mass of 5 kg. What is the acceleration of the object?\n",
            "Options:\n",
            "  A. 1 m/s²\n",
            "  B. 2 m/s²\n",
            "  C. 5 m/s²\n",
            "  D. 10 m/s²\n",
            "  E. 20 m/s²\n",
            "\n",
            "Correct Answer: 2 m/s²\n",
            "Explanation: Using Newton's Second Law (F = ma), we can calculate the acceleration by dividing the force by the mass. Acceleration = Force / Mass = 10 N / 5 kg = 2 m/s².\n",
            "\n",
            "Question 5:\n",
            "Question: If an object's mass is doubled while the applied force remains constant, what happens to its acceleration?\n",
            "Options:\n",
            "  A. The acceleration doubles.\n",
            "  B. The acceleration remains the same.\n",
            "  C. The acceleration is halved.\n",
            "  D. The acceleration is doubled and then halved.\n",
            "  E. The acceleration becomes unpredictable.\n",
            "\n",
            "Correct Answer: The acceleration is halved.\n",
            "Explanation: According to Newton's Second Law, if the mass is doubled and the force remains constant, the acceleration will be halved. This is because acceleration is inversely proportional to mass.\n",
            "\n"
          ]
        }
      ],
      "source": [
        "ques.show()"
      ]
    },
    {
      "cell_type": "markdown",
      "metadata": {
        "id": "skTzrJr5Hu4n"
      },
      "source": [
        "###✅Fill in the blanks\n"
      ]
    },
    {
      "cell_type": "code",
      "execution_count": null,
      "metadata": {
        "colab": {
          "base_uri": "https://localhost:8080/"
        },
        "id": "S_N4HtCVHlFy",
        "outputId": "c234e153-e816-43a5-fb83-9eba0637bcb7"
      },
      "outputs": [
        {
          "name": "stdout",
          "output_type": "stream",
          "text": [
            "Question 1:\n",
            "Question: The force of __________ is responsible for the attraction between objects with mass, as described by Newton's law of universal gravitation.\n",
            "Answer: gravitation\n",
            "Explanation: The force of gravitation is the fundamental force that attracts objects with mass towards each other, as described by Newton's law of universal gravitation.\n",
            "\n",
            "Word to fill: gravitation\n",
            "\n",
            "Question 2:\n",
            "Question: The gravitational force between two objects is directly proportional to the product of their masses and inversely proportional to the square of the distance between their centers. This is known as __________.\n",
            "Answer: Newton's law of universal gravitation\n",
            "Explanation: Newton's law of universal gravitation states that the gravitational force between two objects is directly proportional to the product of their masses and inversely proportional to the square of the distance between their centers.\n",
            "\n",
            "Word to fill: Newton's law of universal gravitation\n",
            "\n",
            "Question 3:\n",
            "Question: The __________ of an object is the point where the gravitational force acts, and it is always directed towards the center of the Earth or the object causing the gravitational pull.\n",
            "Answer: center of mass\n",
            "Explanation: The center of mass of an object is the point where the gravitational force acts, and it is always directed towards the center of the Earth or the object causing the gravitational pull.\n",
            "\n",
            "Word to fill: center of mass\n",
            "\n",
            "Question 4:\n",
            "Question: The __________ is the distance between the centers of two objects, and it plays a crucial role in determining the gravitational force between them.\n",
            "Answer: separation\n",
            "Explanation: The separation is the distance between the centers of two objects, and it plays a crucial role in determining the gravitational force between them.\n",
            "\n",
            "Word to fill: separation\n",
            "\n",
            "Question 5:\n",
            "Question: The gravitational force between two objects is __________ if the masses of the objects are equal or if the distance between them is doubled.\n",
            "Answer: weakened\n",
            "Explanation: The gravitational force between two objects is weakened if the masses of the objects are equal or if the distance between them is doubled.\n",
            "\n",
            "Word to fill: weakened\n",
            "\n",
            "Question 6:\n",
            "Question: The __________ is the acceleration experienced by an object due to the gravitational force acting on it.\n",
            "Answer: gravitational acceleration\n",
            "Explanation: The gravitational acceleration is the acceleration experienced by an object due to the gravitational force acting on it.\n",
            "\n",
            "Word to fill: gravitational acceleration\n",
            "\n",
            "Question 7:\n",
            "Question: The gravitational force between two objects is __________ if the masses of the objects are halved or if the distance between them is halved.\n",
            "Answer: doubled\n",
            "Explanation: The gravitational force between two objects is doubled if the masses of the objects are halved or if the distance between them is halved.\n",
            "\n",
            "Word to fill: doubled\n",
            "\n",
            "Question 8:\n",
            "Question: The __________ is the measure of the strength of the gravitational field at a point in space.\n",
            "Answer: gravitational field strength\n",
            "Explanation: The gravitational field strength is the measure of the strength of the gravitational field at a point in space.\n",
            "\n",
            "Word to fill: gravitational field strength\n",
            "\n",
            "Question 9:\n",
            "Question: The gravitational force between two objects is __________ if the masses of the objects are increased by a factor of 4 or if the distance between them is reduced to a quarter of its original value.\n",
            "Answer: quadrupled\n",
            "Explanation: The gravitational force between two objects is quadrupled if the masses of the objects are increased by a factor of 4 or if the distance between them is reduced to a quarter of its original value.\n",
            "\n",
            "Word to fill: quadrupled\n",
            "\n",
            "Question 10:\n",
            "Question: The __________ is the ratio of the gravitational force between two objects to the product of their masses.\n",
            "Answer: gravitational constant\n",
            "Explanation: The gravitational constant is the ratio of the gravitational force between two objects to the product of their masses.\n",
            "\n",
            "Word to fill: gravitational constant\n",
            "\n"
          ]
        }
      ],
      "source": [
        "client = Educhain(Mistral_config)\n",
        "\n",
        "questions = client.qna_engine.generate_questions(\n",
        "    topic=\"Gravitation\",\n",
        "    num=10,\n",
        "    question_type=\"Fill in the Blank\",) # #supported types : \"Multiple Choice\", \"Short Answer\", \"True/False\", \"Fill in the Blank\"\n",
        "\n",
        "questions.show()"
      ]
    },
    {
      "cell_type": "markdown",
      "metadata": {
        "id": "SP0Rk1fuTy5F"
      },
      "source": [
        "###✅ Short Answer\n"
      ]
    },
    {
      "cell_type": "code",
      "execution_count": null,
      "metadata": {
        "id": "0I0fQM-JT0Di"
      },
      "outputs": [],
      "source": [
        "client = Educhain(Mistral_config)\n",
        "\n",
        "questions = client.qna_engine.generate_questions(\n",
        "    topic=\"Atoms\",\n",
        "    num=5,\n",
        "    question_type=\"Short Answer\",\n",
        "   difficulty_level=\"Intermediate\", ) # #supported types : \"Multiple Choice\", \"Short Answer\", \"True/False\", \"Fill in the Blank\"\n",
        "\n",
        "questions.show()"
      ]
    },
    {
      "cell_type": "markdown",
      "metadata": {
        "id": "Avq9n1m4T53M"
      },
      "source": [
        "###✅ True/False Questions\n"
      ]
    },
    {
      "cell_type": "code",
      "execution_count": null,
      "metadata": {
        "id": "_dXucdBtT6Rc"
      },
      "outputs": [],
      "source": [
        "client = Educhain(Mistral_config)\n",
        "\n",
        "questions = client.qna_engine.generate_questions(\n",
        "    topic=\"quntum Computing\",\n",
        "    num=5,\n",
        "    question_type=\"True/False\",\n",
        "   difficulty_level=\"Intermediate\", ) # #supported types : \"Multiple Choice\", \"Short Answer\", \"True/False\", \"Fill in the Blank\"\n",
        "\n",
        "questions.show()\n"
      ]
    },
    {
      "cell_type": "markdown",
      "metadata": {
        "id": "IbpEX0XEZA9S"
      },
      "source": [
        "### Generate Questions Using Text\n"
      ]
    },
    {
      "cell_type": "code",
      "execution_count": null,
      "metadata": {
        "colab": {
          "base_uri": "https://localhost:8080/"
        },
        "id": "JxzxVqMpA83c",
        "outputId": "75a63144-9986-4620-81b6-271c98d75afd"
      },
      "outputs": [
        {
          "name": "stdout",
          "output_type": "stream",
          "text": [
            "Question 1:\n",
            "Question: What is a key component of Large Language Models (LLMs)?\n",
            "Options:\n",
            "  A. Transformers\n",
            "  B. Recurrent Neural Networks (RNNs)\n",
            "  C. Convolutional Neural Networks (CNNs)\n",
            "  D. Long Short-Term Memory (LSTM) networks\n",
            "\n",
            "Correct Answer: Transformers\n",
            "Explanation: Transformers are a type of neural network architecture that is widely used in LLMs for tasks like natural language processing.\n",
            "\n",
            "Question 2:\n",
            "Question: What is the primary function of Prompt Engineering in LLMs?\n",
            "Options:\n",
            "  A. To train the LLM on new data\n",
            "  B. To increase the LLM's computational power\n",
            "  C. To optimize input and output for better performance\n",
            "  D. To reduce the LLM's memory usage\n",
            "\n",
            "Correct Answer: To optimize input and output for better performance\n",
            "Explanation: Prompt engineering involves crafting input prompts to guide the LLM's output, improving its accuracy and relevance.\n",
            "\n",
            "Question 3:\n",
            "Question: What is a common challenge when working with LLMs?\n",
            "Options:\n",
            "  A. Data bias and ethical considerations\n",
            "  B. Technical complexity and resource-intensive training\n",
            "  C. Lack of interpretability and explainability\n",
            "  D. High computational costs and energy consumption\n",
            "\n",
            "Correct Answer: Data bias and ethical considerations\n",
            "Explanation: LLMs can reflect biases present in their training data, leading to potentially unfair or harmful outputs. Ethical considerations are crucial when deploying these models.\n",
            "\n",
            "Question 4:\n",
            "Question: What is the role of Transformers in LLMs?\n",
            "Options:\n",
            "  A. To generate new content\n",
            "  B. To process and understand sequential data\n",
            "  C. To classify and categorize data\n",
            "  D. To reduce the model's size and complexity\n",
            "\n",
            "Correct Answer: To process and understand sequential data\n",
            "Explanation: Transformers excel at handling sequential data, making them ideal for tasks like language translation, text summarization, and question-answering in LLMs.\n",
            "\n",
            "Question 5:\n",
            "Question: What is a key advantage of LLMs over traditional rule-based systems?\n",
            "Options:\n",
            "  A. Adaptability and continuous learning\n",
            "  B. Preciseness and accuracy\n",
            "  C. Simplicity and ease of use\n",
            "  D. Cost-effectiveness and scalability\n",
            "\n",
            "Correct Answer: Adaptability and continuous learning\n",
            "Explanation: LLMs can adapt to new data and learn from user interactions, allowing them to improve over time without explicit programming.\n",
            "\n",
            "Question 6:\n",
            "Question: What is the purpose of fine-tuning in LLMs?\n",
            "Options:\n",
            "  A. To create a new LLM from scratch\n",
            "  B. To adapt a pre-trained model to a specific task or domain\n",
            "  C. To increase the model's size and complexity\n",
            "  D. To reduce the model's training time\n",
            "\n",
            "Correct Answer: To adapt a pre-trained model to a specific task or domain\n",
            "Explanation: Fine-tuning involves training a pre-existing LLM on a smaller, task-specific dataset to improve its performance on that particular task.\n",
            "\n",
            "Question 7:\n",
            "Question: What is a potential risk of LLMs?\n",
            "Options:\n",
            "  A. Generating harmful or biased content\n",
            "  B. Overfitting to training data\n",
            "  C. Lack of real-time updates\n",
            "  D. High computational costs and energy consumption\n",
            "\n",
            "Correct Answer: Generating harmful or biased content\n",
            "Explanation: LLMs can sometimes produce outputs that are biased, toxic, or factually incorrect, requiring careful monitoring and mitigation strategies.\n",
            "\n",
            "Question 8:\n",
            "Question: What is the significance of prompt engineering in LLMs?\n",
            "Options:\n",
            "  A. To guide the model's output and improve performance\n",
            "  B. To reduce the model's training time\n",
            "  C. To increase the model's size and complexity\n",
            "  D. To enhance the model's interpretability\n",
            "\n",
            "Correct Answer: To guide the model's output and improve performance\n",
            "Explanation: Prompt engineering is crucial for providing clear and specific instructions to the LLM, ensuring it generates relevant and accurate responses.\n",
            "\n",
            "Question 9:\n",
            "Question: What is a key feature of Transformer-based LLMs?\n",
            "Options:\n",
            "  A. Sequential processing and memory\n",
            "  B. Parallel processing and attention mechanisms\n",
            "  C. Rule-based decision-making\n",
            "  D. Static input-output mapping\n",
            "\n",
            "Correct Answer: Parallel processing and attention mechanisms\n",
            "Explanation: Transformers enable parallel processing and use attention mechanisms to focus on relevant parts of the input, making them highly efficient and effective.\n",
            "\n",
            "Question 10:\n",
            "Question: What is a common use case for LLMs?\n",
            "Options:\n",
            "  A. Text generation and language translation\n",
            "  B. Image recognition and object detection\n",
            "  C. Speech recognition and synthesis\n",
            "  D. Data analysis and prediction\n",
            "\n",
            "Correct Answer: Text generation and language translation\n",
            "Explanation: LLMs are widely used for generating human-like text, translating languages, summarizing content, and answering questions, among other natural language processing tasks.\n",
            "\n"
          ]
        }
      ],
      "source": [
        "client = Educhain(Mistral_config)\n",
        "\n",
        "\n",
        "text_questions = client.qna_engine.generate_questions_from_data(\n",
        "    source=\"\"\"Navigate the AI Landscape\n",
        "            After Week 1, you'll possess a deep understanding of LLMs, Transformers, and Prompt Engineering, enabling you to guide AI initiatives with confidence.\"\"\",\n",
        "    source_type=\"text\",\n",
        "    num=10,\n",
        "    question_type=\"Multiple Choice\",\n",
        "    difficulty_level=\"Intermediate\",\n",
        "    custom_instructions= \"Focus on LLMS\"\n",
        ")\n",
        "\n",
        "text_questions.show()"
      ]
    },
    {
      "cell_type": "markdown",
      "metadata": {
        "id": "S5UWqxCDM8i7"
      },
      "source": [
        "###Generate Questions Using URL"
      ]
    },
    {
      "cell_type": "code",
      "execution_count": null,
      "metadata": {
        "id": "CYNQJKphM8Um"
      },
      "outputs": [],
      "source": [
        "client = Educhain(Mistral_config)\n",
        "\n",
        "url_list = client.qna_engine.generate_questions_from_data(\n",
        "    source=\"https://www.buildfastwithai.com/genai-course\",\n",
        "    source_type=\"url\",\n",
        "    num=10,\n",
        "    question_type=\"Multiple Choice\",\n",
        "    difficulty_level=\"Intermediate\",\n",
        "    custom_instructions= \"Ask questions only about Satvik\"\n",
        "\n",
        ")\n",
        "\n",
        "url_list.show()"
      ]
    },
    {
      "cell_type": "markdown",
      "metadata": {
        "id": "JhSsWBQhNLuk"
      },
      "source": [
        "###Generate Questions Using PDF"
      ]
    },
    {
      "cell_type": "code",
      "execution_count": null,
      "metadata": {
        "id": "b9zs5fS0NJtY"
      },
      "outputs": [],
      "source": [
        "pdf_questions = client.qna_engine.generate_questions_from_data(\n",
        "    source=\"/content/NIPS-2017-attention-is-all-you-need-Paper.pdf\",\n",
        "    source_type=\"pdf\",\n",
        "    num=10,\n",
        "    question_type=\"Multiple Choice\",\n",
        "    learning_objective=\"\",\n",
        "    difficulty_level=\"Intermediate\",\n",
        "    custom_instructions= \"what is this pdf about\"\n",
        ")\n",
        "\n",
        "pdf_questions.show()"
      ]
    }
  ],
  "metadata": {
    "colab": {
      "provenance": []
    },
    "kernelspec": {
      "display_name": "Python 3",
      "name": "python3"
    },
    "language_info": {
      "name": "python"
    }
  },
  "nbformat": 4,
  "nbformat_minor": 0
}
