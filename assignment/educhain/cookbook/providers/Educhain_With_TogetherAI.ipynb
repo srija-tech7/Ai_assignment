{
  "cells": [
    {
      "cell_type": "markdown",
      "metadata": {
        "id": "Mz8bgljA2xo5"
      },
      "source": [
        "<img src=\"https://github.com/Shubhwithai/GRE_Geometry_quiz/blob/main/Group%2042.png?raw=true\" width=\"\" height=\"50\">\n",
        "\n",
        "Educhain is a powerful Python package that leverages Generative AI to create\n",
        "engaging and personalized educational content. From generating multiple-choice questions to crafting comprehensive lesson plans, Educhain makes it easy to apply AI in various educational scenarios."
      ]
    },
    {
      "cell_type": "markdown",
      "metadata": {
        "id": "thiLtYCOPUC9"
      },
      "source": [
        "[![Open In Colab](https://colab.research.google.com/assets/colab-badge.svg)](https://colab.research.google.com/drive/1mpMQqUmo9i031aMuZTYdbcSvcukFgyVF?usp=chrome_ntp#scrollTo=r1rJRhc6J_W2)"
      ]
    },
    {
      "cell_type": "markdown",
      "metadata": {
        "id": "r1rJRhc6J_W2"
      },
      "source": [
        "<img src=\"https://github.com/satvik314/educhain/blob/main/images/educhain_diagram.png?raw=true\" width=\"800\" height=\"500\">\n"
      ]
    },
    {
      "cell_type": "markdown",
      "metadata": {
        "id": "tIQKcRCVbBzT"
      },
      "source": [
        "# How to Use Educhain With Together-AI Model\n",
        "---"
      ]
    },
    {
      "cell_type": "markdown",
      "metadata": {
        "id": "Bgdt6TlVI3v5"
      },
      "source": [
        "###Setup"
      ]
    },
    {
      "cell_type": "code",
      "execution_count": null,
      "metadata": {
        "id": "7inIre43Ua6D"
      },
      "outputs": [],
      "source": [
        "!pip install langchain langchain-together educhain"
      ]
    },
    {
      "cell_type": "markdown",
      "metadata": {
        "id": "Xy8GMfeJJV3B"
      },
      "source": [
        "###Imports"
      ]
    },
    {
      "cell_type": "code",
      "execution_count": null,
      "metadata": {
        "id": "AvyyAE5sUgzH"
      },
      "outputs": [],
      "source": [
        "import os\n",
        "from langchain_together import ChatTogether\n",
        "from google.colab import userdata\n",
        "from educhain import Educhain, LLMConfig"
      ]
    },
    {
      "cell_type": "markdown",
      "metadata": {
        "id": "ImU0ooSAJYwu"
      },
      "source": [
        "###Setup API Keys"
      ]
    },
    {
      "cell_type": "code",
      "execution_count": null,
      "metadata": {
        "id": "5_fT4ynFUjyS"
      },
      "outputs": [],
      "source": [
        "# Set your Together AI API key\n",
        "os.environ[\"TOGETHER_API_KEY\"] = userdata.get(\"TOGETHER_API_KEY\")"
      ]
    },
    {
      "cell_type": "markdown",
      "metadata": {
        "id": "JL6Uq5tFYstX"
      },
      "source": [
        "### **Quickstart**\n",
        "\n"
      ]
    },
    {
      "cell_type": "markdown",
      "metadata": {
        "id": "W5vJF1He71Nh"
      },
      "source": [
        "###Configure Together-AI Model"
      ]
    },
    {
      "cell_type": "code",
      "execution_count": null,
      "metadata": {
        "id": "3fvWl2-076vu"
      },
      "outputs": [],
      "source": [
        "Together = ChatTogether(\n",
        "    model=\"deepseek-ai/DeepSeek-R1\",\n",
        ")\n",
        "\n",
        "\n",
        "Together_config = LLMConfig(custom_model=Together)"
      ]
    },
    {
      "cell_type": "markdown",
      "metadata": {
        "id": "lwmxYuPO8G1Z"
      },
      "source": [
        "###**Create MCQs just by entering the topic**"
      ]
    },
    {
      "cell_type": "code",
      "execution_count": null,
      "metadata": {
        "colab": {
          "base_uri": "https://localhost:8080/",
          "height": 143
        },
        "id": "94pzqvrs7VaX",
        "outputId": "2da36ebe-c47e-49f0-8fbf-bfc6ac0bfcf9"
      },
      "outputs": [
        {
          "data": {
            "application/vnd.google.colaboratory.intrinsic+json": {
              "type": "string"
            },
            "text/plain": [
              "'{\"questions\":[{\"question\":\"What is the primary goal of Generative AI?\",\"answer\":\"To generate new, original data or content\",\"explanation\":\"Generative AI aims to create new data or content that is similar to a given dataset or model, but not identical.\",\"options\":[\"To analyze existing data\",\"To generate new, original data or content\",\"To classify data into categories\",\"To predict a specific outcome\"]},{\"question\":\"Which of the following is an example of a Generative AI model?\",\"answer\":\"Generative Adversarial Networks (GANs)\",\"explanation\":\"GANs are a type of deep learning model that can generate new data samples that are similar to a given dataset.\",\"options\":[\"Decision Trees\",\"Neural Networks\",\"Generative Adversarial Networks (GANs)\",\"Support Vector Machines\"]},{\"question\":\"What is the term for the process of generating new data or content using Generative AI?\",\"answer\":\"Synthesis\",\"explanation\":\"Synthesis refers to the process of generating new data or content using Generative AI models.\",\"options\":[\"Analysis\",\"Synthesis\",\"Classification\",\"Regression\"]},{\"question\":\"Which of the following industries is likely to be heavily impacted by Generative AI?\",\"answer\":\"Entertainment\",\"explanation\":\"Generative AI has the potential to revolutionize the entertainment industry by generating new content, such as music, videos, and stories.\",\"options\":[\"Finance\",\"Healthcare\",\"Entertainment\",\"Manufacturing\"]},{\"question\":\"What is the main challenge in evaluating the performance of Generative AI models?\",\"answer\":\"Lack of objective metrics\",\"explanation\":\"Evaluating the performance of Generative AI models is challenging due to the lack of objective metrics to measure the quality and realism of generated data.\",\"options\":[\"Overfitting\",\"Underfitting\",\"Lack of objective metrics\",\"Computational complexity\"]}]}'"
            ]
          },
          "execution_count": 5,
          "metadata": {},
          "output_type": "execute_result"
        }
      ],
      "source": [
        "client = Educhain(Together_config)\n",
        "\n",
        "ques = client.qna_engine.generate_questions(topic=\"Generative AI\",\n",
        "                                            num=5,\n",
        "                                            level=\"Easy\")\n",
        "ques.model_dump_json()   #you can Generate Dictionaries with this model_dump_json"
      ]
    },
    {
      "cell_type": "code",
      "execution_count": null,
      "metadata": {
        "colab": {
          "base_uri": "https://localhost:8080/"
        },
        "id": "pOA-wz7o8kiu",
        "outputId": "0048a7ab-b3a9-4998-b628-972c4923d57e"
      },
      "outputs": [
        {
          "name": "stdout",
          "output_type": "stream",
          "text": [
            "Question 1:\n",
            "Question: What is the primary goal of Generative AI?\n",
            "Options:\n",
            "  A. To analyze existing data\n",
            "  B. To generate new, original data or content\n",
            "  C. To classify data into categories\n",
            "  D. To predict a specific outcome\n",
            "\n",
            "Correct Answer: To generate new, original data or content\n",
            "Explanation: Generative AI aims to create new data or content that is similar to a given dataset or model, but not identical.\n",
            "\n",
            "Question 2:\n",
            "Question: Which of the following is an example of a Generative AI model?\n",
            "Options:\n",
            "  A. Decision Trees\n",
            "  B. Neural Networks\n",
            "  C. Generative Adversarial Networks (GANs)\n",
            "  D. Support Vector Machines\n",
            "\n",
            "Correct Answer: Generative Adversarial Networks (GANs)\n",
            "Explanation: GANs are a type of deep learning model that can generate new data samples that are similar to a given dataset.\n",
            "\n",
            "Question 3:\n",
            "Question: What is the term for the process of generating new data or content using Generative AI?\n",
            "Options:\n",
            "  A. Analysis\n",
            "  B. Synthesis\n",
            "  C. Classification\n",
            "  D. Regression\n",
            "\n",
            "Correct Answer: Synthesis\n",
            "Explanation: Synthesis refers to the process of generating new data or content using Generative AI models.\n",
            "\n",
            "Question 4:\n",
            "Question: Which of the following industries is likely to be heavily impacted by Generative AI?\n",
            "Options:\n",
            "  A. Finance\n",
            "  B. Healthcare\n",
            "  C. Entertainment\n",
            "  D. Manufacturing\n",
            "\n",
            "Correct Answer: Entertainment\n",
            "Explanation: Generative AI has the potential to revolutionize the entertainment industry by generating new content, such as music, videos, and stories.\n",
            "\n",
            "Question 5:\n",
            "Question: What is the main challenge in evaluating the performance of Generative AI models?\n",
            "Options:\n",
            "  A. Overfitting\n",
            "  B. Underfitting\n",
            "  C. Lack of objective metrics\n",
            "  D. Computational complexity\n",
            "\n",
            "Correct Answer: Lack of objective metrics\n",
            "Explanation: Evaluating the performance of Generative AI models is challenging due to the lack of objective metrics to measure the quality and realism of generated data.\n",
            "\n"
          ]
        }
      ],
      "source": [
        "ques.show()"
      ]
    },
    {
      "cell_type": "markdown",
      "metadata": {
        "id": "E6sTBX5s89SF"
      },
      "source": [
        "###You can also pass level, number of questions and custom instructions as an input"
      ]
    },
    {
      "cell_type": "code",
      "execution_count": null,
      "metadata": {
        "colab": {
          "base_uri": "https://localhost:8080/"
        },
        "id": "KIeP94H88_AA",
        "outputId": "10304675-ff5e-466b-ebf5-441a40eff3d7"
      },
      "outputs": [
        {
          "data": {
            "text/plain": [
              "{'questions': [{'question': 'What is the primary goal of Large Language Models (LLMs) in Generative AI?',\n",
              "   'answer': 'To generate human-like language responses',\n",
              "   'explanation': 'LLMs are designed to process and generate human-like language, enabling applications such as chatbots, language translation, and text summarization.',\n",
              "   'options': ['To generate human-like language responses',\n",
              "    'To perform mathematical calculations',\n",
              "    'To recognize images',\n",
              "    'To make decisions autonomously']},\n",
              "  {'question': 'Which of the following is a key characteristic of Generative AI models like LLMS?',\n",
              "   'answer': 'Ability to learn from large datasets',\n",
              "   'explanation': 'Generative AI models like LLMS are trained on massive datasets, enabling them to learn patterns and relationships in language.',\n",
              "   'options': ['Ability to learn from small datasets',\n",
              "    'Ability to learn from large datasets',\n",
              "    'Ability to reason abstractly',\n",
              "    'Ability to understand emotions']},\n",
              "  {'question': 'What is the name of the popular Generative AI model that uses a transformer architecture to generate human-like text?',\n",
              "   'answer': 'BERT',\n",
              "   'explanation': 'BERT (Bidirectional Encoder Representations from Transformers) is a popular Generative AI model that uses a transformer architecture to generate human-like text.',\n",
              "   'options': ['BERT',\n",
              "    'Transformer',\n",
              "    'Generative Adversarial Network (GAN)',\n",
              "    'Long Short-Term Memory (LSTM) network']},\n",
              "  {'question': 'What is the term for the process of generating new text based on a given prompt or input?',\n",
              "   'answer': 'Text generation',\n",
              "   'explanation': 'Text generation is the process of generating new text based on a given prompt or input, a key capability of Generative AI models like LLMS.',\n",
              "   'options': ['Text recognition',\n",
              "    'Text classification',\n",
              "    'Text generation',\n",
              "    'Text summarization']},\n",
              "  {'question': 'What is the potential application of Generative AI models like LLMS in the field of education?',\n",
              "   'answer': 'Personalized learning',\n",
              "   'explanation': 'Generative AI models like LLMS can be used to create personalized learning experiences for students, tailoring educational content to individual needs and abilities.',\n",
              "   'options': ['Automated grading',\n",
              "    'Personalized learning',\n",
              "    'Intelligent tutoring systems',\n",
              "    'Virtual teaching assistants']}]}"
            ]
          },
          "execution_count": 7,
          "metadata": {},
          "output_type": "execute_result"
        }
      ],
      "source": [
        "client = Educhain(Together_config)\n",
        "\n",
        "ques = client.qna_engine.generate_questions(topic=\"Generative AI\",\n",
        "                                            num=5,\n",
        "                                            level= \"Medium\",\n",
        "                                            custom_instructions=\"Focus on Latest Trends Of LLMS\")\n",
        "ques.model_dump()  #you can Generate Dictionaries with this model_dump()"
      ]
    },
    {
      "cell_type": "code",
      "execution_count": null,
      "metadata": {
        "colab": {
          "base_uri": "https://localhost:8080/"
        },
        "id": "WCRT6Zw7-bK-",
        "outputId": "3aaa6f93-56dc-4a9c-c46b-32c341134fb0"
      },
      "outputs": [
        {
          "name": "stdout",
          "output_type": "stream",
          "text": [
            "Question 1:\n",
            "Question: What is the primary goal of Large Language Models (LLMs) in Generative AI?\n",
            "Options:\n",
            "  A. To generate human-like language responses\n",
            "  B. To perform mathematical calculations\n",
            "  C. To recognize images\n",
            "  D. To make decisions autonomously\n",
            "\n",
            "Correct Answer: To generate human-like language responses\n",
            "Explanation: LLMs are designed to process and generate human-like language, enabling applications such as chatbots, language translation, and text summarization.\n",
            "\n",
            "Question 2:\n",
            "Question: Which of the following is a key characteristic of Generative AI models like LLMS?\n",
            "Options:\n",
            "  A. Ability to learn from small datasets\n",
            "  B. Ability to learn from large datasets\n",
            "  C. Ability to reason abstractly\n",
            "  D. Ability to understand emotions\n",
            "\n",
            "Correct Answer: Ability to learn from large datasets\n",
            "Explanation: Generative AI models like LLMS are trained on massive datasets, enabling them to learn patterns and relationships in language.\n",
            "\n",
            "Question 3:\n",
            "Question: What is the name of the popular Generative AI model that uses a transformer architecture to generate human-like text?\n",
            "Options:\n",
            "  A. BERT\n",
            "  B. Transformer\n",
            "  C. Generative Adversarial Network (GAN)\n",
            "  D. Long Short-Term Memory (LSTM) network\n",
            "\n",
            "Correct Answer: BERT\n",
            "Explanation: BERT (Bidirectional Encoder Representations from Transformers) is a popular Generative AI model that uses a transformer architecture to generate human-like text.\n",
            "\n",
            "Question 4:\n",
            "Question: What is the term for the process of generating new text based on a given prompt or input?\n",
            "Options:\n",
            "  A. Text recognition\n",
            "  B. Text classification\n",
            "  C. Text generation\n",
            "  D. Text summarization\n",
            "\n",
            "Correct Answer: Text generation\n",
            "Explanation: Text generation is the process of generating new text based on a given prompt or input, a key capability of Generative AI models like LLMS.\n",
            "\n",
            "Question 5:\n",
            "Question: What is the potential application of Generative AI models like LLMS in the field of education?\n",
            "Options:\n",
            "  A. Automated grading\n",
            "  B. Personalized learning\n",
            "  C. Intelligent tutoring systems\n",
            "  D. Virtual teaching assistants\n",
            "\n",
            "Correct Answer: Personalized learning\n",
            "Explanation: Generative AI models like LLMS can be used to create personalized learning experiences for students, tailoring educational content to individual needs and abilities.\n",
            "\n"
          ]
        }
      ],
      "source": [
        "ques.show()"
      ]
    },
    {
      "cell_type": "markdown",
      "metadata": {
        "id": "IbpEX0XEZA9S"
      },
      "source": [
        "### Generate Questions Using URL -- Multiple Choice"
      ]
    },
    {
      "cell_type": "code",
      "execution_count": null,
      "metadata": {
        "colab": {
          "base_uri": "https://localhost:8080/"
        },
        "id": "JxzxVqMpA83c",
        "outputId": "db507db7-7cc9-4f47-8c00-2229bd36fbf3"
      },
      "outputs": [
        {
          "name": "stdout",
          "output_type": "stream",
          "text": [
            "Question 1:\n",
            "Question: What is Satvik's educational background?\n",
            "Options:\n",
            "  A. Bachelor's and Master's degrees from IIT Delhi\n",
            "  B. Bachelor's degree from IIT Delhi\n",
            "  C. Master's degree from IIT Delhi\n",
            "  D. Ph.D. from IIT Delhi\n",
            "\n",
            "Correct Answer: Bachelor's and Master's degrees from IIT Delhi\n",
            "\n",
            "Question 2:\n",
            "Question: What is Satvik's industry experience?\n",
            "Options:\n",
            "  A. Collaborated with tech giants like Google, Microsoft, and BCG for over 70 events\n",
            "  B. Worked at Google for 5 years\n",
            "  C. Founded his own AI startup\n",
            "  D. Has no industry experience\n",
            "\n",
            "Correct Answer: Collaborated with tech giants like Google, Microsoft, and BCG for over 70 events\n",
            "\n",
            "Question 3:\n",
            "Question: How many students has Satvik taught?\n",
            "Options:\n",
            "  A. Over 5,000 students\n",
            "  B. Over 1,000 students\n",
            "  C. Over 10,000 students\n",
            "  D. Less than 100 students\n",
            "\n",
            "Correct Answer: Over 5,000 students\n",
            "\n",
            "Question 4:\n",
            "Question: What is Satvik's approach to teaching?\n",
            "Options:\n",
            "  A. Theoretical approach\n",
            "  B. Pr!actical approach\n",
            "  C. Hybrid approach\n",
            "  D. Experimental approach\n",
            "\n",
            "Correct Answer: Practical approach\n",
            "\n",
            "Question 5:\n",
            "Question: What is Satvik's role in the bootcamp?\n",
            "Options:\n",
            "  A. Founder of Build Fast with AI\n",
            "  B. Instructor of the bootcamp\n",
            "  C. Mentor of the bootcamp\n",
            "  D. Student of the bootcamp\n",
            "\n",
            "Correct Answer: Founder of Build Fast with AI\n",
            "\n",
            "Question 6:\n",
            "Question: What is Satvik's expertise?\n",
            "Options:\n",
            "  A. Data science and machine learning\n",
            "  B. Artificial intelligence and deep learning\n",
            "  C. Natural language processing and computer vision\n",
            "  D. Robotics and autonomous systems\n",
            "\n",
            "Correct Answer: Data science and machine learning\n",
            "\n",
            "Question 7:\n",
            "Question: What is Satvik's teaching style?\n",
            "Options:\n",
            "  A. Patient, conscientious, and well-intentioned\n",
            "  B. Strict, demanding, and critical\n",
            "  C. Friendly, approachable, and encouraging\n",
            "  D. Distant, uninterested, and unresponsive\n",
            "\n",
            "Correct Answer: Patient, conscientious, and well-intentioned\n",
            "\n",
            "Question 8:\n",
            "Question: How does Satvik assist his students?\n",
            "Options:\n",
            "  A. Goes out of his way to assist students in answering their queries outside of class\n",
            "  B. Only answers questions during class\n",
            "  C. Does not assist students with their queries\n",
            "  D. Refers students to other resources\n",
            "\n",
            "Correct Answer: Goes out of his way to assist students in answering their queries outside of class\n",
            "\n",
            "Question 9:\n",
            "Question: What do Satvik's students appreciate about him?\n",
            "Options:\n",
            "  A. His ability to explain complex concepts in an easy-to-understand way\n",
            "  B. His extensive knowledge of AI\n",
            "  C. His industry experience\n",
            "  D. His charismatic personality\n",
            "\n",
            "Correct Answer: His ability to explain complex concepts in an easy-to-understand way\n",
            "\n",
            "Question 10:\n",
            "Question: What is Satvik's goal for his students?\n",
            "Options:\n",
            "  A. To enable them to translate their knowledge into actionable skills for real-world success\n",
            "  B. To help them pass a certification exam\n",
            "  C. To make them experts in AI\n",
            "  D. To inspire them to pursue a Ph.D. in AI\n",
            "\n",
            "Correct Answer: To enable them to translate their knowledge into actionable skills for real-world success\n",
            "\n"
          ]
        }
      ],
      "source": [
        "client = Educhain(Together_config)\n",
        "\n",
        "\n",
        "url_list = client.qna_engine.generate_questions_from_data(\n",
        "    source=\"https://www.buildfastwithai.com/genai-course\",\n",
        "    source_type=\"url\",\n",
        "    num=10,\n",
        "    question_type=\"Multiple Choice\",\n",
        "    difficulty_level=\"Intermediate\",\n",
        "    custom_instructions= \"Ask questions only about Satvik\"\n",
        "\n",
        ")\n",
        "\n",
        "url_list.show()"
      ]
    },
    {
      "cell_type": "markdown",
      "metadata": {
        "id": "S5UWqxCDM8i7"
      },
      "source": [
        "###Generate Questions Using URL -- Fill in the Blank"
      ]
    },
    {
      "cell_type": "code",
      "execution_count": null,
      "metadata": {
        "colab": {
          "base_uri": "https://localhost:8080/"
        },
        "id": "CYNQJKphM8Um",
        "outputId": "d0aabf78-d9e8-4b4b-f26a-180af5514ded"
      },
      "outputs": [
        {
          "name": "stdout",
          "output_type": "stream",
          "text": [
            "Question 1:\n",
            "Question: Satvik, an _______________ alumnus and AI expert, has trained 5000+ people.\n",
            "Answer: IIT Delhi\n",
            "\n",
            "Word to fill: IIT Delhi\n",
            "\n",
            "Question 2:\n",
            "Question: Satvik is a patient, conscientious, and well-intentioned _______________ who is adept and up to date on innovations occurring in the GenAI space.\n",
            "Answer: teacher\n",
            "\n",
            "Word to fill: teacher\n",
            "\n",
            "Question 3:\n",
            "Question: Satvik has collaborated with tech giants like Google, Microsoft, and BCG for over _______________ events.\n",
            "Answer: 70\n",
            "\n",
            "Word to fill: 70\n",
            "\n",
            "Question 4:\n",
            "Question: Satvik has experience teaching over _______________ students.\n",
            "Answer: 5000\n",
            "\n",
            "Word to fill: 5000\n",
            "\n",
            "Question 5:\n",
            "Question: Satvik believes in a practical approach, enabling participants to translate their knowledge into _______________ skills for real-world success.\n",
            "Answer: actionable\n",
            "\n",
            "Word to fill: actionable\n",
            "\n",
            "Question 6:\n",
            "Question: Satvik is the founder of _______________ with AI.\n",
            "Answer: Build Fast\n",
            "\n",
            "Word to fill: Build Fast\n",
            "\n",
            "Question 7:\n",
            "Question: Satvik has a Bachelor's and Master's degree from _______________.\n",
            "Answer: IIT Delhi\n",
            "\n",
            "Word to fill: IIT Delhi\n",
            "\n",
            "Question 8:\n",
            "Question: Satvik offers top-tier expertise in _______________ science and machine learning.\n",
            "Answer: data\n",
            "\n",
            "Word to fill: data\n",
            "\n",
            "Question 9:\n",
            "Question: Satvik has a proven track record of teaching _______________ students.\n",
            "Answer: over 5000\n",
            "\n",
            "Word to fill: over 5000\n",
            "\n",
            "Question 10:\n",
            "Question: Satvik is a leading consultant who has collaborated with tech giants like Google, Microsoft, and _______________.\n",
            "Answer: BCG\n",
            "\n",
            "Word to fill: BCG\n",
            "\n"
          ]
        }
      ],
      "source": [
        "client = Educhain(Together_config)\n",
        "\n",
        "\n",
        "url_list = client.qna_engine.generate_questions_from_data(\n",
        "    source=\"https://www.buildfastwithai.com/genai-course\",\n",
        "    source_type=\"url\",\n",
        "    num=10,\n",
        "    question_type=\"Fill in the Blank\",\n",
        "    difficulty_level=\"Intermediate\",\n",
        "    custom_instructions= \"Ask questions only about Satvik\"\n",
        "\n",
        ")\n",
        "\n",
        "url_list.show()"
      ]
    },
    {
      "cell_type": "markdown",
      "metadata": {
        "id": "JhSsWBQhNLuk"
      },
      "source": [
        "###Generate Questions Using URL - Short Answer"
      ]
    },
    {
      "cell_type": "code",
      "execution_count": null,
      "metadata": {
        "colab": {
          "base_uri": "https://localhost:8080/"
        },
        "id": "b9zs5fS0NJtY",
        "outputId": "8c6ddf0b-8105-42b7-f512-7f8a6c0e785d"
      },
      "outputs": [
        {
          "name": "stdout",
          "output_type": "stream",
          "text": [
            "Question 1:\n",
            "Question: Who is the founder of Build Fast with AI?\n",
            "Answer: Satvik Paramkusham\n",
            "\n",
            "Keywords: Satvik, Build Fast with AI, Founder\n",
            "\n",
            "Question 2:\n",
            "Question: What is Satvik's educational background?\n",
            "Answer: Bachelor's and Master's degrees from IIT Delhi\n",
            "\n",
            "Keywords: Satvik, IIT Delhi, Education\n",
            "\n",
            "Question 3:\n",
            "Question: What is Satvik's industry experience?\n",
            "Answer: Leading consultant with tech giants like Google, Microsoft, and BCG\n",
            "\n",
            "Keywords: Satvik, Industry experience, Google, Microsoft, BCG\n",
            "\n",
            "Question 4:\n",
            "Question: How many students has Satvik taught?\n",
            "Answer: Over 5000 students\n",
            "\n",
            "Keywords: Satvik, Teaching experience, Students\n",
            "\n",
            "Question 5:\n",
            "Question: What is Satvik's approach to teaching?\n",
            "Answer: Practical approach that enables participants to translate knowledge into actionable skills\n",
            "\n",
            "Keywords: Satvik, Teaching approach, Practical skills\n",
            "\n",
            "Question 6:\n",
            "Question: What is Satvik's expertise in?\n",
            "Answer: Data science and machine learning\n",
            "\n",
            "Keywords: Satvik, Expertise, Data science, Machine learning\n",
            "\n",
            "Question 7:\n",
            "Question: What is the focus of Satvik's bootcamp?\n",
            "Answer: Building AI applications and products\n",
            "\n",
            "Keywords: Satvik, Bootcamp, AI applications, AI products\n",
            "\n",
            "Question 8:\n",
            "Question: How does Satvik help learners in his bootcamp?\n",
            "Answer: Through hands-on projects, mentorship sessions, and practical coding challenges\n",
            "\n",
            "Keywords: Satvik, Bootcamp, Hands-on projects, Mentorship\n",
            "\n",
            "Question 9:\n",
            "Question: What is the outcome of Satvik's bootcamp?\n",
            "Answer: Learners can build AI-powered solutions and integrate AI into their products and services\n",
            "\n",
            "Keywords: Satvik, Bootcamp outcome, AI-powered solutions\n",
            "\n",
            "Question 10:\n",
            "Question: What do learners say about Satvik's teaching style?\n",
            "Answer: Patient, conscientious, and well-intentioned teacher who is adept and up-to-date on innovations in the GenAI space\n",
            "\n",
            "Keywords: Satvik, Teaching style, Learner feedback\n",
            "\n"
          ]
        }
      ],
      "source": [
        "client = Educhain(Together_config)\n",
        "\n",
        "\n",
        "url_list = client.qna_engine.generate_questions_from_data(\n",
        "    source=\"https://www.buildfastwithai.com/genai-course\",\n",
        "    source_type=\"url\",\n",
        "    num=10,\n",
        "    question_type=\"Short Answer\",\n",
        "    difficulty_level=\"Intermediate\",\n",
        "    custom_instructions= \"Ask questions only about Satvik\"\n",
        "\n",
        ")\n",
        "\n",
        "url_list.show()"
      ]
    },
    {
      "cell_type": "markdown",
      "metadata": {
        "id": "7InJHPCWTR7n"
      },
      "source": [
        "###Generate Math Questions"
      ]
    },
    {
      "cell_type": "code",
      "execution_count": null,
      "metadata": {
        "colab": {
          "base_uri": "https://localhost:8080/"
        },
        "id": "w98kT1LIR6Ij",
        "outputId": "5d326bb1-0c5d-483f-86df-55714527ca8e"
      },
      "outputs": [
        {
          "name": "stdout",
          "output_type": "stream",
          "text": [
            "\n",
            "\n",
            "\u001b[1m> Entering new LLMMathChain chain...\u001b[0m\n",
            "What is the sum of 457 and 279?\u001b[32;1m\u001b[1;3mHere is the translation:\n",
            "\n",
            "Question: What is the sum of 457 and 279?\n",
            "```text\n",
            "457 + 279\n",
            "```\n",
            "...numexpr.evaluate(\"457 + 279\")...\n",
            "\u001b[0mLLMMathChain failed to answer: unknown format from LLM: Here is the translation:\n",
            "\n",
            "Question: What is the sum of 457 and 279?\n",
            "```text\n",
            "457 + 279\n",
            "```\n",
            "...numexpr.evaluate(\"457 + 279\")...\n",
            "\n",
            "\n",
            "\u001b[1m> Entering new LLMMathChain chain...\u001b[0m\n",
            "What is the result of subtracting 149 from 357?\u001b[32;1m\u001b[1;3mHere is the translation:\n",
            "\n",
            "Question: What is the result of subtracting 149 from 357?\n",
            "```text\n",
            "357 - 149\n",
            "```\n",
            "...numexpr.evaluate(\"357 - 149\")...\n",
            "\u001b[0mLLMMathChain failed to answer: unknown format from LLM: Here is the translation:\n",
            "\n",
            "Question: What is the result of subtracting 149 from 357?\n",
            "```text\n",
            "357 - 149\n",
            "```\n",
            "...numexpr.evaluate(\"357 - 149\")...\n",
            "\n",
            "\n",
            "\u001b[1m> Entering new LLMMathChain chain...\u001b[0m\n",
            "What is the sum of 945 and 117?\u001b[32;1m\u001b[1;3mHere is the translation:\n",
            "\n",
            "Question: What is the sum of 945 and 117?\n",
            "```text\n",
            "945 + 117\n",
            "```\n",
            "...numexpr.evaluate(\"945 + 117\")...\n",
            "\u001b[0mLLMMathChain failed to answer: unknown format from LLM: Here is the translation:\n",
            "\n",
            "Question: What is the sum of 945 and 117?\n",
            "```text\n",
            "945 + 117\n",
            "```\n",
            "...numexpr.evaluate(\"945 + 117\")...\n",
            "\n",
            "\n",
            "\u001b[1m> Entering new LLMMathChain chain...\u001b[0m\n",
            "What is the result of subtracting 275 from 542?\u001b[32;1m\u001b[1;3mHere is the translation:\n",
            "\n",
            "Question: What is the result of subtracting 275 from 542?\n",
            "```text\n",
            "542 - 275\n",
            "```\n",
            "...numexpr.evaluate(\"542 - 275\")...\n",
            "\u001b[0mLLMMathChain failed to answer: unknown format from LLM: Here is the translation:\n",
            "\n",
            "Question: What is the result of subtracting 275 from 542?\n",
            "```text\n",
            "542 - 275\n",
            "```\n",
            "...numexpr.evaluate(\"542 - 275\")...\n",
            "\n",
            "\n",
            "\u001b[1m> Entering new LLMMathChain chain...\u001b[0m\n",
            "What is the sum of 189 and 256?\u001b[32;1m\u001b[1;3mHere is the translation:\n",
            "\n",
            "Question: What is the sum of 189 and 256?\n",
            "```text\n",
            "189 + 256\n",
            "```\n",
            "...numexpr.evaluate(\"189 + 256\")...\n",
            "\u001b[0mLLMMathChain failed to answer: unknown format from LLM: Here is the translation:\n",
            "\n",
            "Question: What is the sum of 189 and 256?\n",
            "```text\n",
            "189 + 256\n",
            "```\n",
            "...numexpr.evaluate(\"189 + 256\")...\n",
            "Question 1:\n",
            "Question: What is the sum of 457 and 279?\n",
            "  A. Unable to compute (Correct)\n",
            "  B. N/A \n",
            "  C. N/A \n",
            "  D. N/A \n",
            "Explanation: To find the sum, add 457 and 279. 457 + 279 = 736.\n",
            "\n",
            "Math solution: Unable to compute.\n",
            "\n",
            "Question 2:\n",
            "Question: What is the result of subtracting 149 from 357?\n",
            "  A. Unable to compute (Correct)\n",
            "  B. N/A \n",
            "  C. N/A \n",
            "  D. N/A \n",
            "Explanation: To find the result, subtract 149 from 357. 357 - 149 = 208.\n",
            "\n",
            "Math solution: Unable to compute.\n",
            "\n",
            "Question 3:\n",
            "Question: What is the sum of 945 and 117?\n",
            "  A. Unable to compute (Correct)\n",
            "  B. N/A \n",
            "  C. N/A \n",
            "  D. N/A \n",
            "Explanation: To find the sum, add 945 and 117. 945 + 117 = 1062.\n",
            "\n",
            "Math solution: Unable to compute.\n",
            "\n",
            "Question 4:\n",
            "Question: What is the result of subtracting 275 from 542?\n",
            "  A. Unable to compute (Correct)\n",
            "  B. N/A \n",
            "  C. N/A \n",
            "  D. N/A \n",
            "Explanation: To find the result, subtract 275 from 542. 542 - 275 = 267.\n",
            "\n",
            "Math solution: Unable to compute.\n",
            "\n",
            "Question 5:\n",
            "Question: What is the sum of 189 and 256?\n",
            "  A. Unable to compute (Correct)\n",
            "  B. N/A \n",
            "  C. N/A \n",
            "  D. N/A \n",
            "Explanation: To find the sum, add 189 and 256. 189 + 256 = 445.\n",
            "\n",
            "Math solution: Unable to compute.\n",
            "\n"
          ]
        }
      ],
      "source": [
        "client = Educhain(Together_config)\n",
        "maths_ques = client.qna_engine.generate_mcq_math(topic = \"Addition Subtractions\" , num = 5, custom_instruction = \"Include questions with demicals\")\n",
        "maths_ques.show()"
      ]
    }
  ],
  "metadata": {
    "colab": {
      "provenance": []
    },
    "kernelspec": {
      "display_name": "Python 3",
      "name": "python3"
    },
    "language_info": {
      "name": "python"
    }
  },
  "nbformat": 4,
  "nbformat_minor": 0
}
