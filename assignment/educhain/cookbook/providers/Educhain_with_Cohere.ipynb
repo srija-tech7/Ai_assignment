{
  "nbformat": 4,
  "nbformat_minor": 0,
  "metadata": {
    "colab": {
      "provenance": []
    },
    "kernelspec": {
      "name": "python3",
      "display_name": "Python 3"
    },
    "language_info": {
      "name": "python"
    }
  },
  "cells": [
    {
      "cell_type": "markdown",
      "source": [
        "<img src=\"https://github.com/Shubhwithai/GRE_Geometry_quiz/blob/main/Group%2042.png?raw=true\" width=\"\" height=\"50\">\n",
        "\n",
        "Educhain is a powerful Python package that leverages Generative AI to create engaging and personalized educational content. From generating multiple-choice questions to crafting comprehensive lesson plans, Educhain makes it easy to apply AI in various educational scenarios."
      ],
      "metadata": {
        "id": "Mz8bgljA2xo5"
      }
    },
    {
      "cell_type": "markdown",
      "source": [
        "[![Open In Colab](https://colab.research.google.com/assets/colab-badge.svg)](https://colab.research.google.com/drive/1XgGlHsz_aZPlEI3b79dupWgZwkmVg0Jf#scrollTo=21QJ9ODNKiEL)"
      ],
      "metadata": {
        "id": "-eH5RA8zP_jl"
      }
    },
    {
      "cell_type": "markdown",
      "source": [
        "<img src=\"https://github.com/satvik314/educhain/blob/main/images/educhain_diagram.png?raw=true\" width=\"800\" height=\"500\">\n"
      ],
      "metadata": {
        "id": "21QJ9ODNKiEL"
      }
    },
    {
      "cell_type": "markdown",
      "source": [
        "# How to Use Educhain With Cohere Model\n",
        "---"
      ],
      "metadata": {
        "id": "tIQKcRCVbBzT"
      }
    },
    {
      "cell_type": "markdown",
      "source": [
        "###Setup"
      ],
      "metadata": {
        "id": "Bgdt6TlVI3v5"
      }
    },
    {
      "cell_type": "code",
      "execution_count": null,
      "metadata": {
        "id": "7inIre43Ua6D"
      },
      "outputs": [],
      "source": [
        "!pip install langchain langchain-cohere educhain"
      ]
    },
    {
      "cell_type": "markdown",
      "source": [
        "###Imports"
      ],
      "metadata": {
        "id": "Xy8GMfeJJV3B"
      }
    },
    {
      "cell_type": "code",
      "source": [
        "import os\n",
        "from langchain_cohere import ChatCohere\n",
        "from google.colab import userdata\n",
        "from educhain import Educhain, LLMConfig"
      ],
      "metadata": {
        "id": "AvyyAE5sUgzH"
      },
      "execution_count": null,
      "outputs": []
    },
    {
      "cell_type": "markdown",
      "source": [
        "###Setup API Keys"
      ],
      "metadata": {
        "id": "ImU0ooSAJYwu"
      }
    },
    {
      "cell_type": "code",
      "source": [
        "# Set your Together AI API key\n",
        "os.environ[\"CO_API_KEY\"] = userdata.get(\"CO_API_KEY\")"
      ],
      "metadata": {
        "id": "5_fT4ynFUjyS"
      },
      "execution_count": null,
      "outputs": []
    },
    {
      "cell_type": "markdown",
      "source": [
        "### **Quickstart**\n",
        "\n"
      ],
      "metadata": {
        "id": "JL6Uq5tFYstX"
      }
    },
    {
      "cell_type": "markdown",
      "source": [
        "###Configure Cohere Model"
      ],
      "metadata": {
        "id": "W5vJF1He71Nh"
      }
    },
    {
      "cell_type": "code",
      "source": [
        "Cohere = ChatCohere(\n",
        "    model=\"command-r7b-12-2024\",\n",
        ")\n",
        "\n",
        "Cohere_config = LLMConfig(custom_model=Cohere)"
      ],
      "metadata": {
        "id": "3fvWl2-076vu"
      },
      "execution_count": null,
      "outputs": []
    },
    {
      "cell_type": "markdown",
      "source": [
        "###**Create MCQs just by entering the topic**"
      ],
      "metadata": {
        "id": "lwmxYuPO8G1Z"
      }
    },
    {
      "cell_type": "code",
      "source": [
        "client = Educhain(Cohere_config)\n",
        "\n",
        "ques = client.qna_engine.generate_questions(topic=\"Newton's Law of Motion\",\n",
        "                                            num=5,\n",
        "                                            level=\"Easy\")\n",
        "ques.model_dump_json()   #you can Generate Dictionaries with this model_dump_json"
      ],
      "metadata": {
        "colab": {
          "base_uri": "https://localhost:8080/",
          "height": 143
        },
        "id": "94pzqvrs7VaX",
        "outputId": "91e0f677-7a65-42e9-aabe-08abb68bfad1"
      },
      "execution_count": null,
      "outputs": [
        {
          "output_type": "execute_result",
          "data": {
            "text/plain": [
              "'{\"questions\":[{\"question\":\"Which of the following best describes Newton\\'s First Law of Motion?\",\"answer\":\"An object at rest stays at rest and an object in motion stays in motion with the same speed and in the same direction unless acted upon by an unbalanced force.\",\"explanation\":\"This law, also known as the law of inertia, states that objects will not change their state of motion unless a force acts upon them.\",\"options\":[\"A. An object at rest stays at rest and an object in motion stays in motion with the same speed and in the same direction unless acted upon by an unbalanced force.\",\"B. An object at rest stays at rest and an object in motion stays in motion with the same speed and in the opposite direction unless acted upon by an unbalanced force.\",\"C. An object at rest stays at rest and an object in motion stays in motion with different speeds and in the same direction unless acted upon by an unbalanced force.\",\"D. An object at rest stays at rest and an object in motion stays in motion with the same speed and in a different direction unless acted upon by an unbalanced force.\",\"E. An object at rest stays at rest and an object in motion stays in motion with the same speed and in the same direction if acted upon by an unbalanced force.\"]},{\"question\":\"What does the term \\'unbalanced force\\' mean in Newton\\'s First Law of Motion?\",\"answer\":\"A force that causes a change in the motion of an object.\",\"explanation\":\"An unbalanced force is one that is not equal and opposite to another force acting on an object, thus causing a change in its motion.\",\"options\":[\"A. A force that causes a change in the motion of an object.\",\"B. A force that maintains the motion of an object.\",\"C. A force that acts in the opposite direction to the object\\'s motion.\",\"D. A force that is equal and opposite to another force acting on an object.\",\"E. A force that does not act on the object.\"]},{\"question\":\"According to Newton\\'s Second Law, what is the relationship between force (F), mass (m), and acceleration (a)?\",\"answer\":\"F = ma\",\"explanation\":\"This law states that the force applied to an object is directly proportional to its mass and the acceleration it experiences.\",\"options\":[\"A. F = ma\",\"B. F = m/a\",\"C. F = a/m\",\"D. F = m + a\",\"E. F = m - a\"]},{\"question\":\"What is the unit of measurement for force in the International System of Units (SI)?\",\"answer\":\"Newton (N)\",\"explanation\":\"The Newton is the standard unit of force in the SI system and is defined as the force required to accelerate a one-kilogram mass by one meter per second squared.\",\"options\":[\"A. Newton (N)\",\"B. Kilogram-meter per second squared (kg·m/s²)\",\"C. Meter per second squared (m/s²)\",\"D. Kilogram per second (kg/s)\",\"E. Joule (J)\"]},{\"question\":\"Newton\\'s Third Law of Motion states that for every action, there is an equal and opposite reaction. What does this mean?\",\"answer\":\"For every force applied by one object to another, there is an equal and opposite force applied by the second object to the first.\",\"explanation\":\"This law highlights the interactive nature of forces between two objects and is often demonstrated in everyday situations.\",\"options\":[\"A. For every force applied by one object to another, there is an equal and opposite force applied by the second object to the first.\",\"B. For every force applied by one object, there is no equal and opposite force.\",\"C. For every force applied by one object, there is a force in the same direction.\",\"D. For every force applied by one object, there is a force in the opposite direction but not equal.\",\"E. For every force applied by one object, there is no force applied by the second object.\"]}]}'"
            ],
            "application/vnd.google.colaboratory.intrinsic+json": {
              "type": "string"
            }
          },
          "metadata": {},
          "execution_count": 18
        }
      ]
    },
    {
      "cell_type": "code",
      "source": [
        "ques.show()"
      ],
      "metadata": {
        "colab": {
          "base_uri": "https://localhost:8080/"
        },
        "id": "pOA-wz7o8kiu",
        "outputId": "20321cae-0287-4b0e-e985-0cdc115c923c"
      },
      "execution_count": null,
      "outputs": [
        {
          "output_type": "stream",
          "name": "stdout",
          "text": [
            "Question 1:\n",
            "Question: Which of the following best describes Newton's First Law of Motion?\n",
            "Options:\n",
            "  A. A. An object at rest stays at rest and an object in motion stays in motion with the same speed and in the same direction unless acted upon by an unbalanced force.\n",
            "  B. B. An object at rest stays at rest and an object in motion stays in motion with the same speed and in the opposite direction unless acted upon by an unbalanced force.\n",
            "  C. C. An object at rest stays at rest and an object in motion stays in motion with different speeds and in the same direction unless acted upon by an unbalanced force.\n",
            "  D. D. An object at rest stays at rest and an object in motion stays in motion with the same speed and in a different direction unless acted upon by an unbalanced force.\n",
            "  E. E. An object at rest stays at rest and an object in motion stays in motion with the same speed and in the same direction if acted upon by an unbalanced force.\n",
            "\n",
            "Correct Answer: An object at rest stays at rest and an object in motion stays in motion with the same speed and in the same direction unless acted upon by an unbalanced force.\n",
            "Explanation: This law, also known as the law of inertia, states that objects will not change their state of motion unless a force acts upon them.\n",
            "\n",
            "Question 2:\n",
            "Question: What is the relationship between force (F), mass (m), and acceleration (a) according to Newton's Second Law of Motion?\n",
            "Options:\n",
            "  A. A. F = ma\n",
            "  B. B. F = m/a\n",
            "  C. C. F = a/m\n",
            "  D. D. F = m + a\n",
            "  E. E. F = m - a\n",
            "\n",
            "Correct Answer: F = ma\n",
            "Explanation: This law states that the force applied to an object is directly proportional to its mass and the acceleration it experiences.\n",
            "\n",
            "Question 3:\n",
            "Question: What happens to the acceleration of an object when the force acting on it is doubled, assuming the mass remains constant?\n",
            "Options:\n",
            "  A. A. The acceleration remains the same.\n",
            "  B. B. The acceleration is doubled.\n",
            "  C. C. The acceleration is halved.\n",
            "  D. D. The acceleration is quadrupled.\n",
            "  E. E. The acceleration is halved.\n",
            "\n",
            "Correct Answer: The acceleration is also doubled.\n",
            "Explanation: Newton's Second Law can be rearranged to show that acceleration is directly proportional to force.\n",
            "\n",
            "Question 4:\n",
            "Question: What is the third law of motion?\n",
            "Options:\n",
            "  A. A. For every action, there is an equal and opposite reaction.\n",
            "  B. B. For every action, there is an equal and opposite attraction.\n",
            "  C. C. For every action, there is an equal and opposite repulsion.\n",
            "  D. D. For every action, there is an equal and opposite motion.\n",
            "  E. E. For every action, there is an equal and opposite force.\n",
            "\n",
            "Correct Answer: For every action, there is an equal and opposite reaction.\n",
            "Explanation: This law describes the interaction between two objects and the forces they exert on each other.\n",
            "\n",
            "Question 5:\n",
            "Question: A 10 kg object is accelerated from rest to 20 m/s over a distance of 50 meters. What force was applied to the object?\n",
            "Options:\n",
            "  A. A. 200 N\n",
            "  B. B. 100 N\n",
            "  C. C. 300 N\n",
            "  D. D. 400 N\n",
            "  E. E. 500 N\n",
            "\n",
            "Correct Answer: 200 N\n",
            "Explanation: Using Newton's Second Law (F = ma), we can calculate the force applied.\n",
            "\n"
          ]
        }
      ]
    },
    {
      "cell_type": "markdown",
      "source": [
        "###You can also pass level, number of questions and custom instructions as an input"
      ],
      "metadata": {
        "id": "E6sTBX5s89SF"
      }
    },
    {
      "cell_type": "code",
      "source": [
        "client = Educhain(Cohere_config)\n",
        "\n",
        "ques = client.qna_engine.generate_questions(topic=\"Newton's Law of Motion\",\n",
        "                                            num=5,\n",
        "                                            level= \"Medium\",\n",
        "                                            custom_instructions=\"Focus on Newton's Second Law\")\n",
        "ques.model_dump()  #you can Generate Dictionaries with this model_dump()"
      ],
      "metadata": {
        "colab": {
          "base_uri": "https://localhost:8080/"
        },
        "id": "KIeP94H88_AA",
        "outputId": "00a2fdd8-821f-423d-abcc-e5f56666b779"
      },
      "execution_count": null,
      "outputs": [
        {
          "output_type": "execute_result",
          "data": {
            "text/plain": [
              "{'questions': [{'question': \"What does Newton's Second Law of Motion state?\",\n",
              "   'answer': 'F = ma',\n",
              "   'explanation': \"Newton's Second Law states that the force (F) applied to an object is equal to the mass (m) of the object multiplied by its acceleration (a).\",\n",
              "   'options': ['F = ma', 'F = m/a', 'F = a/m', 'F = m + a', 'F = m - a']},\n",
              "  {'question': 'How does the acceleration of an object change when a constant force is applied?',\n",
              "   'answer': 'The acceleration is directly proportional to the force and inversely proportional to the mass.',\n",
              "   'explanation': \"According to Newton's Second Law, if the force is constant, the acceleration will be directly proportional to the force. Additionally, the acceleration will be inversely proportional to the mass of the object.\",\n",
              "   'options': ['The acceleration increases with force and decreases with mass.',\n",
              "    'The acceleration decreases with force and increases with mass.',\n",
              "    'The acceleration remains constant regardless of force and mass.',\n",
              "    'The acceleration is independent of both force and mass.',\n",
              "    'The acceleration is directly proportional to mass and inversely proportional to force.']},\n",
              "  {'question': \"A constant force is applied to an object. How does the object's velocity change over time?\",\n",
              "   'answer': 'The velocity increases linearly with time.',\n",
              "   'explanation': 'When a constant force is applied, the acceleration is also constant. According to the kinematic equations, if the acceleration is constant, the velocity will increase linearly with time.',\n",
              "   'options': ['The velocity remains constant.',\n",
              "    'The velocity increases exponentially with time.',\n",
              "    'The velocity decreases with time.',\n",
              "    'The velocity oscillates between increasing and decreasing.',\n",
              "    'The velocity increases linearly with time.']},\n",
              "  {'question': 'A 10 N force is applied to an object with a mass of 5 kg. What is the acceleration of the object?',\n",
              "   'answer': '2 m/s²',\n",
              "   'explanation': \"Using Newton's Second Law (F = ma), we can calculate the acceleration by dividing the force by the mass. Acceleration = Force / Mass = 10 N / 5 kg = 2 m/s².\",\n",
              "   'options': ['1 m/s²', '2 m/s²', '5 m/s²', '10 m/s²', '20 m/s²']},\n",
              "  {'question': \"If an object's mass is doubled while the applied force remains constant, what happens to its acceleration?\",\n",
              "   'answer': 'The acceleration is halved.',\n",
              "   'explanation': \"According to Newton's Second Law, if the mass is doubled and the force remains constant, the acceleration will be halved. This is because acceleration is inversely proportional to mass.\",\n",
              "   'options': ['The acceleration doubles.',\n",
              "    'The acceleration remains the same.',\n",
              "    'The acceleration is halved.',\n",
              "    'The acceleration is doubled and then halved.',\n",
              "    'The acceleration becomes unpredictable.']}]}"
            ]
          },
          "metadata": {},
          "execution_count": 30
        }
      ]
    },
    {
      "cell_type": "code",
      "source": [
        "ques.show()"
      ],
      "metadata": {
        "colab": {
          "base_uri": "https://localhost:8080/"
        },
        "id": "WCRT6Zw7-bK-",
        "outputId": "f215925d-294c-47bb-ac16-0bef300f58c8"
      },
      "execution_count": null,
      "outputs": [
        {
          "output_type": "stream",
          "name": "stdout",
          "text": [
            "Question 1:\n",
            "Question: What does Newton's Second Law of Motion state?\n",
            "Options:\n",
            "  A. F = ma\n",
            "  B. F = m/a\n",
            "  C. F = a/m\n",
            "  D. F = m + a\n",
            "  E. F = m - a\n",
            "\n",
            "Correct Answer: F = ma\n",
            "Explanation: Newton's Second Law states that the force (F) applied to an object is equal to the mass (m) of the object multiplied by its acceleration (a).\n",
            "\n",
            "Question 2:\n",
            "Question: How does the acceleration of an object change when a constant force is applied?\n",
            "Options:\n",
            "  A. The acceleration increases with force and decreases with mass.\n",
            "  B. The acceleration decreases with force and increases with mass.\n",
            "  C. The acceleration remains constant regardless of force and mass.\n",
            "  D. The acceleration is independent of both force and mass.\n",
            "  E. The acceleration is directly proportional to mass and inversely proportional to force.\n",
            "\n",
            "Correct Answer: The acceleration is directly proportional to the force and inversely proportional to the mass.\n",
            "Explanation: According to Newton's Second Law, if the force is constant, the acceleration will be directly proportional to the force. Additionally, the acceleration will be inversely proportional to the mass of the object.\n",
            "\n",
            "Question 3:\n",
            "Question: A constant force is applied to an object. How does the object's velocity change over time?\n",
            "Options:\n",
            "  A. The velocity remains constant.\n",
            "  B. The velocity increases exponentially with time.\n",
            "  C. The velocity decreases with time.\n",
            "  D. The velocity oscillates between increasing and decreasing.\n",
            "  E. The velocity increases linearly with time.\n",
            "\n",
            "Correct Answer: The velocity increases linearly with time.\n",
            "Explanation: When a constant force is applied, the acceleration is also constant. According to the kinematic equations, if the acceleration is constant, the velocity will increase linearly with time.\n",
            "\n",
            "Question 4:\n",
            "Question: A 10 N force is applied to an object with a mass of 5 kg. What is the acceleration of the object?\n",
            "Options:\n",
            "  A. 1 m/s²\n",
            "  B. 2 m/s²\n",
            "  C. 5 m/s²\n",
            "  D. 10 m/s²\n",
            "  E. 20 m/s²\n",
            "\n",
            "Correct Answer: 2 m/s²\n",
            "Explanation: Using Newton's Second Law (F = ma), we can calculate the acceleration by dividing the force by the mass. Acceleration = Force / Mass = 10 N / 5 kg = 2 m/s².\n",
            "\n",
            "Question 5:\n",
            "Question: If an object's mass is doubled while the applied force remains constant, what happens to its acceleration?\n",
            "Options:\n",
            "  A. The acceleration doubles.\n",
            "  B. The acceleration remains the same.\n",
            "  C. The acceleration is halved.\n",
            "  D. The acceleration is doubled and then halved.\n",
            "  E. The acceleration becomes unpredictable.\n",
            "\n",
            "Correct Answer: The acceleration is halved.\n",
            "Explanation: According to Newton's Second Law, if the mass is doubled and the force remains constant, the acceleration will be halved. This is because acceleration is inversely proportional to mass.\n",
            "\n"
          ]
        }
      ]
    },
    {
      "cell_type": "markdown",
      "source": [
        "###Generate Lesson Plans\n"
      ],
      "metadata": {
        "id": "06Xwk9ewHH8_"
      }
    },
    {
      "cell_type": "code",
      "source": [
        "client = Educhain(Cohere_config)\n",
        "\n",
        "plan = client.content_engine.generate_lesson_plan(\n",
        "                              topic = \"Newton's Law of Motion\")\n",
        "\n",
        "plan.show()"
      ],
      "metadata": {
        "colab": {
          "base_uri": "https://localhost:8080/"
        },
        "id": "aMJ2ECLpHCeO",
        "outputId": "1ebda262-7035-4c91-d167-66978ce56c54"
      },
      "execution_count": null,
      "outputs": [
        {
          "output_type": "stream",
          "name": "stdout",
          "text": [
            "================================================================================\n",
            "Lesson Plan: Exploring Newton's Laws of Motion\n",
            "Subject: Physics\n",
            "================================================================================\n",
            "\n",
            "1. Newton's First Law of Motion\n",
            "\n",
            "   1.1 Inertia and Mass\n",
            "      - Inertia: The resistance of any physical object to a change in its velocity. Mass: A measure of the amount of matter in an object.\n",
            "      - A stationary book on a table remains stationary unless acted upon by an external force.\n",
            "      - Objects with greater mass have higher inertia, making them harder to accelerate.\n",
            "\n",
            "   1.2 Law of Inertia\n",
            "      - An object at rest stays at rest and an object in motion stays in motion with the same speed and in the same direction unless acted upon by an unbalanced force.\n",
            "      - A car continues to move at a constant speed on a straight, flat road unless the brakes are applied or the engine is turned off.\n",
            "\n",
            "   1.3 Activities\n",
            "      - Experiment: Observe how different objects respond to pushes and pulls. Predict and record their movements.\n",
            "      - Simulation: Use online simulations to demonstrate the concept of inertia and the effects of forces on objects.\n",
            "\n",
            "2. Newton's Second Law of Motion\n",
            "\n",
            "   2.1 Force and Acceleration\n",
            "      - Force: A physical cause that changes or tends to change the state of motion of an object. Acceleration: The rate of change of velocity.\n",
            "      - Pushing a car will make it accelerate, while a gentle nudge might not.\n",
            "      - The greater the force applied, the greater the acceleration, assuming mass remains constant.\n",
            "\n",
            "   2.2 Mathematical Representation\n",
            "      - F = ma, where F is force, m is mass, and a is acceleration.\n",
            "      - If a force of 20 N is applied to an object with a mass of 5 kg, the acceleration will be 4 m/s².\n",
            "\n",
            "3. Newton's Third Law of Motion\n",
            "\n",
            "   3.1 Action and Reaction\n",
            "      - For every action, there is an equal and opposite reaction.\n",
            "      - When you swim, you push the water backward, and the water pushes you forward.\n",
            "      - Action and reaction forces act on different objects and are always equal in magnitude but opposite in direction.\n",
            "\n",
            "   3.2 Applications\n",
            "      - Rocket propulsion: Gases are expelled in one direction, creating an equal and opposite reaction force that propels the rocket forward.\n",
            "\n",
            "================================================================================\n"
          ]
        }
      ]
    },
    {
      "cell_type": "markdown",
      "source": [
        "###✅Fill in the blanks\n"
      ],
      "metadata": {
        "id": "skTzrJr5Hu4n"
      }
    },
    {
      "cell_type": "code",
      "source": [
        "client = Educhain(Cohere_config)\n",
        "\n",
        "questions = client.qna_engine.generate_questions(\n",
        "    topic=\"Gravitation\",\n",
        "    num=10,\n",
        "    question_type=\"Fill in the Blank\",) # #supported types : \"Multiple Choice\", \"Short Answer\", \"True/False\", \"Fill in the Blank\"\n",
        "\n",
        "questions.show()"
      ],
      "metadata": {
        "colab": {
          "base_uri": "https://localhost:8080/"
        },
        "id": "S_N4HtCVHlFy",
        "outputId": "c234e153-e816-43a5-fb83-9eba0637bcb7"
      },
      "execution_count": null,
      "outputs": [
        {
          "output_type": "stream",
          "name": "stdout",
          "text": [
            "Question 1:\n",
            "Question: The force of __________ is responsible for the attraction between objects with mass, as described by Newton's law of universal gravitation.\n",
            "Answer: gravitation\n",
            "Explanation: The force of gravitation is the fundamental force that attracts objects with mass towards each other, as described by Newton's law of universal gravitation.\n",
            "\n",
            "Word to fill: gravitation\n",
            "\n",
            "Question 2:\n",
            "Question: The gravitational force between two objects is directly proportional to the product of their masses and inversely proportional to the square of the distance between their centers. This is known as __________.\n",
            "Answer: Newton's law of universal gravitation\n",
            "Explanation: Newton's law of universal gravitation states that the gravitational force between two objects is directly proportional to the product of their masses and inversely proportional to the square of the distance between their centers.\n",
            "\n",
            "Word to fill: Newton's law of universal gravitation\n",
            "\n",
            "Question 3:\n",
            "Question: The __________ of an object is the point where the gravitational force acts, and it is always directed towards the center of the Earth or the object causing the gravitational pull.\n",
            "Answer: center of mass\n",
            "Explanation: The center of mass of an object is the point where the gravitational force acts, and it is always directed towards the center of the Earth or the object causing the gravitational pull.\n",
            "\n",
            "Word to fill: center of mass\n",
            "\n",
            "Question 4:\n",
            "Question: The __________ is the distance between the centers of two objects, and it plays a crucial role in determining the gravitational force between them.\n",
            "Answer: separation\n",
            "Explanation: The separation is the distance between the centers of two objects, and it plays a crucial role in determining the gravitational force between them.\n",
            "\n",
            "Word to fill: separation\n",
            "\n",
            "Question 5:\n",
            "Question: The gravitational force between two objects is __________ if the masses of the objects are equal or if the distance between them is doubled.\n",
            "Answer: weakened\n",
            "Explanation: The gravitational force between two objects is weakened if the masses of the objects are equal or if the distance between them is doubled.\n",
            "\n",
            "Word to fill: weakened\n",
            "\n",
            "Question 6:\n",
            "Question: The __________ is the acceleration experienced by an object due to the gravitational force acting on it.\n",
            "Answer: gravitational acceleration\n",
            "Explanation: The gravitational acceleration is the acceleration experienced by an object due to the gravitational force acting on it.\n",
            "\n",
            "Word to fill: gravitational acceleration\n",
            "\n",
            "Question 7:\n",
            "Question: The gravitational force between two objects is __________ if the masses of the objects are halved or if the distance between them is halved.\n",
            "Answer: doubled\n",
            "Explanation: The gravitational force between two objects is doubled if the masses of the objects are halved or if the distance between them is halved.\n",
            "\n",
            "Word to fill: doubled\n",
            "\n",
            "Question 8:\n",
            "Question: The __________ is the measure of the strength of the gravitational field at a point in space.\n",
            "Answer: gravitational field strength\n",
            "Explanation: The gravitational field strength is the measure of the strength of the gravitational field at a point in space.\n",
            "\n",
            "Word to fill: gravitational field strength\n",
            "\n",
            "Question 9:\n",
            "Question: The gravitational force between two objects is __________ if the masses of the objects are increased by a factor of 4 or if the distance between them is reduced to a quarter of its original value.\n",
            "Answer: quadrupled\n",
            "Explanation: The gravitational force between two objects is quadrupled if the masses of the objects are increased by a factor of 4 or if the distance between them is reduced to a quarter of its original value.\n",
            "\n",
            "Word to fill: quadrupled\n",
            "\n",
            "Question 10:\n",
            "Question: The __________ is the ratio of the gravitational force between two objects to the product of their masses.\n",
            "Answer: gravitational constant\n",
            "Explanation: The gravitational constant is the ratio of the gravitational force between two objects to the product of their masses.\n",
            "\n",
            "Word to fill: gravitational constant\n",
            "\n"
          ]
        }
      ]
    },
    {
      "cell_type": "markdown",
      "source": [
        "### Generate Questions Using Text\n"
      ],
      "metadata": {
        "id": "IbpEX0XEZA9S"
      }
    },
    {
      "cell_type": "code",
      "source": [
        "client = Educhain(Cohere_config)\n",
        "\n",
        "\n",
        "text_questions = client.qna_engine.generate_questions_from_data(\n",
        "    source=\"\"\"Navigate the AI Landscape\n",
        "            After Week 1, you'll possess a deep understanding of LLMs, Transformers, and Prompt Engineering, enabling you to guide AI initiatives with confidence.\"\"\",\n",
        "    source_type=\"text\",\n",
        "    num=10,\n",
        "    question_type=\"Multiple Choice\",\n",
        "    difficulty_level=\"Intermediate\",\n",
        "    custom_instructions= \"Focus on LLMS\"\n",
        ")\n",
        "\n",
        "text_questions.show()"
      ],
      "metadata": {
        "colab": {
          "base_uri": "https://localhost:8080/"
        },
        "id": "JxzxVqMpA83c",
        "outputId": "75a63144-9986-4620-81b6-271c98d75afd"
      },
      "execution_count": null,
      "outputs": [
        {
          "output_type": "stream",
          "name": "stdout",
          "text": [
            "Question 1:\n",
            "Question: What is a key component of Large Language Models (LLMs)?\n",
            "Options:\n",
            "  A. Transformers\n",
            "  B. Recurrent Neural Networks (RNNs)\n",
            "  C. Convolutional Neural Networks (CNNs)\n",
            "  D. Long Short-Term Memory (LSTM) networks\n",
            "\n",
            "Correct Answer: Transformers\n",
            "Explanation: Transformers are a type of neural network architecture that is widely used in LLMs for tasks like natural language processing.\n",
            "\n",
            "Question 2:\n",
            "Question: What is the primary function of Prompt Engineering in LLMs?\n",
            "Options:\n",
            "  A. To train the LLM on new data\n",
            "  B. To increase the LLM's computational power\n",
            "  C. To optimize input and output for better performance\n",
            "  D. To reduce the LLM's memory usage\n",
            "\n",
            "Correct Answer: To optimize input and output for better performance\n",
            "Explanation: Prompt engineering involves crafting input prompts to guide the LLM's output, improving its accuracy and relevance.\n",
            "\n",
            "Question 3:\n",
            "Question: What is a common challenge when working with LLMs?\n",
            "Options:\n",
            "  A. Data bias and ethical considerations\n",
            "  B. Technical complexity and resource-intensive training\n",
            "  C. Lack of interpretability and explainability\n",
            "  D. High computational costs and energy consumption\n",
            "\n",
            "Correct Answer: Data bias and ethical considerations\n",
            "Explanation: LLMs can reflect biases present in their training data, leading to potentially unfair or harmful outputs. Ethical considerations are crucial when deploying these models.\n",
            "\n",
            "Question 4:\n",
            "Question: What is the role of Transformers in LLMs?\n",
            "Options:\n",
            "  A. To generate new content\n",
            "  B. To process and understand sequential data\n",
            "  C. To classify and categorize data\n",
            "  D. To reduce the model's size and complexity\n",
            "\n",
            "Correct Answer: To process and understand sequential data\n",
            "Explanation: Transformers excel at handling sequential data, making them ideal for tasks like language translation, text summarization, and question-answering in LLMs.\n",
            "\n",
            "Question 5:\n",
            "Question: What is a key advantage of LLMs over traditional rule-based systems?\n",
            "Options:\n",
            "  A. Adaptability and continuous learning\n",
            "  B. Preciseness and accuracy\n",
            "  C. Simplicity and ease of use\n",
            "  D. Cost-effectiveness and scalability\n",
            "\n",
            "Correct Answer: Adaptability and continuous learning\n",
            "Explanation: LLMs can adapt to new data and learn from user interactions, allowing them to improve over time without explicit programming.\n",
            "\n",
            "Question 6:\n",
            "Question: What is the purpose of fine-tuning in LLMs?\n",
            "Options:\n",
            "  A. To create a new LLM from scratch\n",
            "  B. To adapt a pre-trained model to a specific task or domain\n",
            "  C. To increase the model's size and complexity\n",
            "  D. To reduce the model's training time\n",
            "\n",
            "Correct Answer: To adapt a pre-trained model to a specific task or domain\n",
            "Explanation: Fine-tuning involves training a pre-existing LLM on a smaller, task-specific dataset to improve its performance on that particular task.\n",
            "\n",
            "Question 7:\n",
            "Question: What is a potential risk of LLMs?\n",
            "Options:\n",
            "  A. Generating harmful or biased content\n",
            "  B. Overfitting to training data\n",
            "  C. Lack of real-time updates\n",
            "  D. High computational costs and energy consumption\n",
            "\n",
            "Correct Answer: Generating harmful or biased content\n",
            "Explanation: LLMs can sometimes produce outputs that are biased, toxic, or factually incorrect, requiring careful monitoring and mitigation strategies.\n",
            "\n",
            "Question 8:\n",
            "Question: What is the significance of prompt engineering in LLMs?\n",
            "Options:\n",
            "  A. To guide the model's output and improve performance\n",
            "  B. To reduce the model's training time\n",
            "  C. To increase the model's size and complexity\n",
            "  D. To enhance the model's interpretability\n",
            "\n",
            "Correct Answer: To guide the model's output and improve performance\n",
            "Explanation: Prompt engineering is crucial for providing clear and specific instructions to the LLM, ensuring it generates relevant and accurate responses.\n",
            "\n",
            "Question 9:\n",
            "Question: What is a key feature of Transformer-based LLMs?\n",
            "Options:\n",
            "  A. Sequential processing and memory\n",
            "  B. Parallel processing and attention mechanisms\n",
            "  C. Rule-based decision-making\n",
            "  D. Static input-output mapping\n",
            "\n",
            "Correct Answer: Parallel processing and attention mechanisms\n",
            "Explanation: Transformers enable parallel processing and use attention mechanisms to focus on relevant parts of the input, making them highly efficient and effective.\n",
            "\n",
            "Question 10:\n",
            "Question: What is a common use case for LLMs?\n",
            "Options:\n",
            "  A. Text generation and language translation\n",
            "  B. Image recognition and object detection\n",
            "  C. Speech recognition and synthesis\n",
            "  D. Data analysis and prediction\n",
            "\n",
            "Correct Answer: Text generation and language translation\n",
            "Explanation: LLMs are widely used for generating human-like text, translating languages, summarizing content, and answering questions, among other natural language processing tasks.\n",
            "\n"
          ]
        }
      ]
    }
  ]
}