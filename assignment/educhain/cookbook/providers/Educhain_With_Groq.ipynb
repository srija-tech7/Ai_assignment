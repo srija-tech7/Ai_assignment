{
  "nbformat": 4,
  "nbformat_minor": 0,
  "metadata": {
    "colab": {
      "provenance": []
    },
    "kernelspec": {
      "name": "python3",
      "display_name": "Python 3"
    },
    "language_info": {
      "name": "python"
    }
  },
  "cells": [
    {
      "cell_type": "markdown",
      "source": [
        "<img src=\"https://github.com/Shubhwithai/GRE_Geometry_quiz/blob/main/Group%2042.png?raw=true\" width=\"\" height=\"50\">\n",
        "\n",
        "Educhain is a powerful Python package that leverages Generative AI to create engaging and personalized educational content. From generating multiple-choice questions to crafting comprehensive lesson plans, Educhain makes it easy to apply AI in various educational scenarios."
      ],
      "metadata": {
        "id": "Mz8bgljA2xo5"
      }
    },
    {
      "cell_type": "markdown",
      "source": [
        "[![Open In Colab](https://colab.research.google.com/assets/colab-badge.svg)](https://colab.research.google.com/drive/1GbJF9TC95-3sFpROQKlUdEEh0Nb3YqKq#scrollTo=uIL4oKH3KjxS)"
      ],
      "metadata": {
        "id": "pmjETFIAQnnX"
      }
    },
    {
      "cell_type": "markdown",
      "source": [
        "<img src=\"https://github.com/satvik314/educhain/blob/main/images/educhain_diagram.png?raw=true\" width=\"800\" height=\"500\">\n"
      ],
      "metadata": {
        "id": "uIL4oKH3KjxS"
      }
    },
    {
      "cell_type": "markdown",
      "source": [
        "# How to Use Educhain With Gorq\n",
        "---"
      ],
      "metadata": {
        "id": "tIQKcRCVbBzT"
      }
    },
    {
      "cell_type": "markdown",
      "source": [
        "###Setup"
      ],
      "metadata": {
        "id": "Bgdt6TlVI3v5"
      }
    },
    {
      "cell_type": "code",
      "execution_count": null,
      "metadata": {
        "id": "7inIre43Ua6D"
      },
      "outputs": [],
      "source": [
        "!pip install langchain langchain-groq educhain"
      ]
    },
    {
      "cell_type": "markdown",
      "source": [
        "###Imports"
      ],
      "metadata": {
        "id": "Xy8GMfeJJV3B"
      }
    },
    {
      "cell_type": "code",
      "source": [
        "import os\n",
        "from langchain_groq import ChatGroq\n",
        "from google.colab import userdata\n",
        "from educhain import Educhain, LLMConfig"
      ],
      "metadata": {
        "id": "AvyyAE5sUgzH"
      },
      "execution_count": null,
      "outputs": []
    },
    {
      "cell_type": "markdown",
      "source": [
        "###Setup API Keys"
      ],
      "metadata": {
        "id": "ImU0ooSAJYwu"
      }
    },
    {
      "cell_type": "code",
      "source": [
        "# Set your Together AI API key\n",
        "os.environ[\"GROQ_API_KEY\"] = userdata.get(\"GROQ_API_KEY\")"
      ],
      "metadata": {
        "id": "5_fT4ynFUjyS"
      },
      "execution_count": null,
      "outputs": []
    },
    {
      "cell_type": "markdown",
      "source": [
        "### **Quickstart**\n",
        "\n"
      ],
      "metadata": {
        "id": "JL6Uq5tFYstX"
      }
    },
    {
      "cell_type": "markdown",
      "source": [
        "###Configure Cohere Model"
      ],
      "metadata": {
        "id": "W5vJF1He71Nh"
      }
    },
    {
      "cell_type": "code",
      "source": [
        "Groq = ChatGroq(\n",
        "     model=\"llama-3.3-70b-versatile\")\n",
        "\n",
        "Groq_config = LLMConfig(custom_model=Groq)"
      ],
      "metadata": {
        "id": "3fvWl2-076vu"
      },
      "execution_count": null,
      "outputs": []
    },
    {
      "cell_type": "markdown",
      "source": [
        "###**Create MCQs just by entering the topic**"
      ],
      "metadata": {
        "id": "lwmxYuPO8G1Z"
      }
    },
    {
      "cell_type": "code",
      "source": [
        "client = Educhain(Groq_config)\n",
        "\n",
        "ques = client.qna_engine.generate_questions(topic=\"Generative AI\",\n",
        "                                            num=5,\n",
        "                                            level=\"Easy\")\n",
        "ques.model_dump_json()   #you can Generate Dictionaries with this model_dump_json"
      ],
      "metadata": {
        "colab": {
          "base_uri": "https://localhost:8080/",
          "height": 143
        },
        "id": "94pzqvrs7VaX",
        "outputId": "df33b596-906a-4ba4-cba6-192971c99c5c"
      },
      "execution_count": null,
      "outputs": [
        {
          "output_type": "execute_result",
          "data": {
            "text/plain": [
              "'{\"questions\":[{\"question\":\"What is the primary function of Generative AI?\",\"answer\":\"To generate new content\",\"explanation\":\"Generative AI is a type of artificial intelligence that is capable of generating new content, such as images, videos, music, and text, based on a given input or prompt.\",\"options\":[\"To analyze existing data\",\"To generate new content\",\"To classify images\",\"To recognize speech\"]},{\"question\":\"Which of the following is an example of a Generative AI model?\",\"answer\":\"Generative Adversarial Network (GAN)\",\"explanation\":\"A Generative Adversarial Network (GAN) is a type of deep learning model that consists of two neural networks: a generator and a discriminator. The generator generates new content, while the discriminator evaluates the generated content and tells the generator whether it is realistic or not.\",\"options\":[\"Support Vector Machine (SVM)\",\"Random Forest\",\"Generative Adversarial Network (GAN)\",\"K-Means Clustering\"]},{\"question\":\"What is the main advantage of using Generative AI?\",\"answer\":\"Ability to generate new and unique content\",\"explanation\":\"The main advantage of using Generative AI is its ability to generate new and unique content, such as images, videos, music, and text, that can be used in a variety of applications, such as entertainment, education, and advertising.\",\"options\":[\"Ability to analyze large datasets\",\"Ability to generate new and unique content\",\"Ability to classify images with high accuracy\",\"Ability to recognize speech with high accuracy\"]},{\"question\":\"Which of the following applications is a potential use case for Generative AI?\",\"answer\":\"Content creation for social media\",\"explanation\":\"Generative AI can be used to generate new and unique content, such as images and videos, that can be used for social media platforms, such as Facebook, Instagram, and Twitter.\",\"options\":[\"Data analysis for business intelligence\",\"Content creation for social media\",\"Speech recognition for virtual assistants\",\"Image classification for medical diagnosis\"]},{\"question\":\"What is the main challenge of training a Generative AI model?\",\"answer\":\"Mode collapse\",\"explanation\":\"Mode collapse is a common challenge when training Generative AI models, where the generator produces limited variations of the same output, instead of exploring the full range of possibilities.\",\"options\":[\"Overfitting\",\"Underfitting\",\"Mode collapse\",\"Vanishing gradients\"]}]}'"
            ],
            "application/vnd.google.colaboratory.intrinsic+json": {
              "type": "string"
            }
          },
          "metadata": {},
          "execution_count": 6
        }
      ]
    },
    {
      "cell_type": "code",
      "source": [
        "ques.show()"
      ],
      "metadata": {
        "colab": {
          "base_uri": "https://localhost:8080/"
        },
        "id": "pOA-wz7o8kiu",
        "outputId": "3e9b6306-16ba-4fbe-b239-d1daa1544df5"
      },
      "execution_count": null,
      "outputs": [
        {
          "output_type": "stream",
          "name": "stdout",
          "text": [
            "Question 1:\n",
            "Question: What is the primary function of Generative AI?\n",
            "Options:\n",
            "  A. To analyze existing data\n",
            "  B. To generate new content\n",
            "  C. To classify images\n",
            "  D. To recognize speech\n",
            "\n",
            "Correct Answer: To generate new content\n",
            "Explanation: Generative AI is a type of artificial intelligence that is capable of generating new content, such as images, videos, music, and text, based on a given input or prompt.\n",
            "\n",
            "Question 2:\n",
            "Question: Which of the following is an example of a Generative AI model?\n",
            "Options:\n",
            "  A. Support Vector Machine (SVM)\n",
            "  B. Random Forest\n",
            "  C. Generative Adversarial Network (GAN)\n",
            "  D. K-Means Clustering\n",
            "\n",
            "Correct Answer: Generative Adversarial Network (GAN)\n",
            "Explanation: A Generative Adversarial Network (GAN) is a type of deep learning model that consists of two neural networks: a generator and a discriminator. The generator generates new content, while the discriminator evaluates the generated content and tells the generator whether it is realistic or not.\n",
            "\n",
            "Question 3:\n",
            "Question: What is the main advantage of using Generative AI?\n",
            "Options:\n",
            "  A. Ability to analyze large datasets\n",
            "  B. Ability to generate new and unique content\n",
            "  C. Ability to classify images with high accuracy\n",
            "  D. Ability to recognize speech with high accuracy\n",
            "\n",
            "Correct Answer: Ability to generate new and unique content\n",
            "Explanation: The main advantage of using Generative AI is its ability to generate new and unique content, such as images, videos, music, and text, that can be used in a variety of applications, such as entertainment, education, and advertising.\n",
            "\n",
            "Question 4:\n",
            "Question: Which of the following applications is a potential use case for Generative AI?\n",
            "Options:\n",
            "  A. Data analysis for business intelligence\n",
            "  B. Content creation for social media\n",
            "  C. Speech recognition for virtual assistants\n",
            "  D. Image classification for medical diagnosis\n",
            "\n",
            "Correct Answer: Content creation for social media\n",
            "Explanation: Generative AI can be used to generate new and unique content, such as images and videos, that can be used for social media platforms, such as Facebook, Instagram, and Twitter.\n",
            "\n",
            "Question 5:\n",
            "Question: What is the main challenge of training a Generative AI model?\n",
            "Options:\n",
            "  A. Overfitting\n",
            "  B. Underfitting\n",
            "  C. Mode collapse\n",
            "  D. Vanishing gradients\n",
            "\n",
            "Correct Answer: Mode collapse\n",
            "Explanation: Mode collapse is a common challenge when training Generative AI models, where the generator produces limited variations of the same output, instead of exploring the full range of possibilities.\n",
            "\n"
          ]
        }
      ]
    },
    {
      "cell_type": "markdown",
      "source": [
        "###You can also pass level, number of questions and custom instructions as an input"
      ],
      "metadata": {
        "id": "E6sTBX5s89SF"
      }
    },
    {
      "cell_type": "code",
      "source": [
        "client = Educhain(Groq_config)\n",
        "\n",
        "ques = client.qna_engine.generate_questions(topic=\"Quantum Computing\",\n",
        "                                            num=5,\n",
        "                                            level= \"Medium\",\n",
        "                                            custom_instructions=\"Focus on Latest Trends Of Quantum Computing\")\n",
        "ques.model_dump()  #you can Generate Dictionaries with this model_dump()"
      ],
      "metadata": {
        "colab": {
          "base_uri": "https://localhost:8080/"
        },
        "id": "KIeP94H88_AA",
        "outputId": "6bac0d6d-a1fc-4c9c-f261-3860e32c0b68"
      },
      "execution_count": null,
      "outputs": [
        {
          "output_type": "execute_result",
          "data": {
            "text/plain": [
              "{'questions': [{'question': 'What is the primary advantage of using quantum computing for simulations?',\n",
              "   'answer': 'Ability to simulate complex systems more accurately',\n",
              "   'explanation': 'Quantum computing can simulate complex systems more accurately than classical computing, which is particularly useful in fields like chemistry and materials science.',\n",
              "   'options': ['Ability to simulate complex systems more accurately',\n",
              "    'Faster processing of large datasets',\n",
              "    'Improved security for sensitive information',\n",
              "    'Reduced energy consumption for computing operations']},\n",
              "  {'question': 'Which of the following quantum computing models is based on the principles of quantum mechanics and uses quantum bits or qubits?',\n",
              "   'answer': 'Quantum Circuit Model',\n",
              "   'explanation': 'The Quantum Circuit Model is a quantum computing model that uses quantum bits or qubits and is based on the principles of quantum mechanics.',\n",
              "   'options': ['Quantum Circuit Model',\n",
              "    'Quantum Adiabatic Model',\n",
              "    'Topological Quantum Computer',\n",
              "    'Digital Quantum Computer']},\n",
              "  {'question': 'What is the term for the phenomenon where a quantum system can exist in multiple states simultaneously?',\n",
              "   'answer': 'Superposition',\n",
              "   'explanation': 'Superposition is a fundamental concept in quantum mechanics where a quantum system can exist in multiple states simultaneously, which is a key feature of quantum computing.',\n",
              "   'options': ['Superposition',\n",
              "    'Entanglement',\n",
              "    'Interference',\n",
              "    'Quantum fluctuation']},\n",
              "  {'question': 'Which company has developed a 53-qubit quantum computer called Sycamore?',\n",
              "   'answer': 'Google',\n",
              "   'explanation': 'Google has developed a 53-qubit quantum computer called Sycamore, which has demonstrated quantum supremacy by performing a complex calculation that is beyond the capabilities of classical computers.',\n",
              "   'options': ['Google', 'IBM', 'Microsoft', 'Rigetti Computing']},\n",
              "  {'question': 'What is the term for the process of controlling and manipulating the behavior of qubits in a quantum computer?',\n",
              "   'answer': 'Quantum error correction',\n",
              "   'explanation': 'Quantum error correction is the process of controlling and manipulating the behavior of qubits in a quantum computer to mitigate errors and maintain the integrity of the quantum information.',\n",
              "   'options': ['Quantum error correction',\n",
              "    'Quantum noise reduction',\n",
              "    'Quantum feedback control',\n",
              "    'Quantum calibration']}]}"
            ]
          },
          "metadata": {},
          "execution_count": 8
        }
      ]
    },
    {
      "cell_type": "code",
      "source": [
        "ques.show()"
      ],
      "metadata": {
        "colab": {
          "base_uri": "https://localhost:8080/"
        },
        "id": "WCRT6Zw7-bK-",
        "outputId": "a22eee11-0091-464d-ac06-5d7de9f8305d"
      },
      "execution_count": null,
      "outputs": [
        {
          "output_type": "stream",
          "name": "stdout",
          "text": [
            "Question 1:\n",
            "Question: What is the primary advantage of using quantum computing for simulations?\n",
            "Options:\n",
            "  A. Ability to simulate complex systems more accurately\n",
            "  B. Faster processing of large datasets\n",
            "  C. Improved security for sensitive information\n",
            "  D. Reduced energy consumption for computing operations\n",
            "\n",
            "Correct Answer: Ability to simulate complex systems more accurately\n",
            "Explanation: Quantum computing can simulate complex systems more accurately than classical computing, which is particularly useful in fields like chemistry and materials science.\n",
            "\n",
            "Question 2:\n",
            "Question: Which of the following quantum computing models is based on the principles of quantum mechanics and uses quantum bits or qubits?\n",
            "Options:\n",
            "  A. Quantum Circuit Model\n",
            "  B. Quantum Adiabatic Model\n",
            "  C. Topological Quantum Computer\n",
            "  D. Digital Quantum Computer\n",
            "\n",
            "Correct Answer: Quantum Circuit Model\n",
            "Explanation: The Quantum Circuit Model is a quantum computing model that uses quantum bits or qubits and is based on the principles of quantum mechanics.\n",
            "\n",
            "Question 3:\n",
            "Question: What is the term for the phenomenon where a quantum system can exist in multiple states simultaneously?\n",
            "Options:\n",
            "  A. Superposition\n",
            "  B. Entanglement\n",
            "  C. Interference\n",
            "  D. Quantum fluctuation\n",
            "\n",
            "Correct Answer: Superposition\n",
            "Explanation: Superposition is a fundamental concept in quantum mechanics where a quantum system can exist in multiple states simultaneously, which is a key feature of quantum computing.\n",
            "\n",
            "Question 4:\n",
            "Question: Which company has developed a 53-qubit quantum computer called Sycamore?\n",
            "Options:\n",
            "  A. Google\n",
            "  B. IBM\n",
            "  C. Microsoft\n",
            "  D. Rigetti Computing\n",
            "\n",
            "Correct Answer: Google\n",
            "Explanation: Google has developed a 53-qubit quantum computer called Sycamore, which has demonstrated quantum supremacy by performing a complex calculation that is beyond the capabilities of classical computers.\n",
            "\n",
            "Question 5:\n",
            "Question: What is the term for the process of controlling and manipulating the behavior of qubits in a quantum computer?\n",
            "Options:\n",
            "  A. Quantum error correction\n",
            "  B. Quantum noise reduction\n",
            "  C. Quantum feedback control\n",
            "  D. Quantum calibration\n",
            "\n",
            "Correct Answer: Quantum error correction\n",
            "Explanation: Quantum error correction is the process of controlling and manipulating the behavior of qubits in a quantum computer to mitigate errors and maintain the integrity of the quantum information.\n",
            "\n"
          ]
        }
      ]
    },
    {
      "cell_type": "markdown",
      "source": [
        "###Generate Mcqs Using Youtube URL\n"
      ],
      "metadata": {
        "id": "skTzrJr5Hu4n"
      }
    },
    {
      "cell_type": "code",
      "source": [
        "client = Educhain(Groq_config)\n",
        "\n",
        "# Example usage\n",
        "url = \"https://www.youtube.com/watch?v=vcLRWiTNCbQ\"\n",
        "questions = client.qna_engine.generate_questions_from_youtube(\n",
        "    url=url,\n",
        "    num=3,\n",
        "    custom_instructions=\"Ensure the questions are about the main topic of the video\"\n",
        ")\n",
        "\n",
        "questions.show()"
      ],
      "metadata": {
        "colab": {
          "base_uri": "https://localhost:8080/"
        },
        "id": "S_N4HtCVHlFy",
        "outputId": "8941676b-cb0b-4c74-e784-de7332b6678f"
      },
      "execution_count": null,
      "outputs": [
        {
          "output_type": "stream",
          "name": "stdout",
          "text": [
            "Question 1:\n",
            "Question: What is the main topic of the video?\n",
            "Options:\n",
            "  A. Food and cooking challenges\n",
            "  B. Travel and adventure\n",
            "  C. Sports and fitness\n",
            "  D. Music and entertainment\n",
            "\n",
            "Correct Answer: Food and cooking challenges\n",
            "Explanation: The video appears to be a comedic sketch about various food-related challenges and cooking experiments.\n",
            "\n",
            "Question 2:\n",
            "Question: What type of dish is being made in the video?\n",
            "Options:\n",
            "  A. Fried ice cream\n",
            "  B. Butter chicken\n",
            "  C. Pani Puri\n",
            "  D. Maggi\n",
            "\n",
            "Correct Answer: Fried ice cream\n",
            "Explanation: The video mentions 'Fried ice cream' as one of the dishes being made.\n",
            "\n",
            "Question 3:\n",
            "Question: What is the tone of the video?\n",
            "Options:\n",
            "  A. Comedic\n",
            "  B. Informative\n",
            "  C. Serious\n",
            "  D. Dramatic\n",
            "\n",
            "Correct Answer: Comedic\n",
            "Explanation: The video appears to be a comedic sketch, with humorous dialogue and situations.\n",
            "\n"
          ]
        }
      ]
    },
    {
      "cell_type": "markdown",
      "source": [
        "### Generate Questions Using Youtube URL - True/False\n"
      ],
      "metadata": {
        "id": "IbpEX0XEZA9S"
      }
    },
    {
      "cell_type": "code",
      "source": [
        "client = Educhain(Groq_config)\n",
        "\n",
        "# Example usage\n",
        "url = \"https://www.youtube.com/watch?v=vcLRWiTNCbQ\"\n",
        "questions = client.qna_engine.generate_questions_from_youtube(\n",
        "    url=url,\n",
        "    num=3,\n",
        "    question_type=\"True/False\", # #supported types : \"Multiple Choice\", \"Short Answer\", \"True/False\", \"Fill in the Blank\"\n",
        "    custom_instructions=\"Ensure the questions are about the main topic of the video\"\n",
        ")\n",
        "\n",
        "questions.show()"
      ],
      "metadata": {
        "colab": {
          "base_uri": "https://localhost:8080/"
        },
        "id": "JxzxVqMpA83c",
        "outputId": "bd0e352c-bee3-490e-fe03-cd474757025c"
      },
      "execution_count": null,
      "outputs": [
        {
          "output_type": "stream",
          "name": "stdout",
          "text": [
            "Question 1:\n",
            "Question: The video features a person cooking food for four weddings.\n",
            "Answer: True\n",
            "Explanation: The video starts with a person saying they are cooking food for four weddings.\n",
            "\n",
            "True/False: True\n",
            "\n",
            "Question 2:\n",
            "Question: The video showcases a variety of unusual food items, including fried ice cream and momos waffle.\n",
            "Answer: True\n",
            "Explanation: The video features a person trying different unusual food items, such as fried ice cream and momos waffle.\n",
            "\n",
            "True/False: True\n",
            "\n",
            "Question 3:\n",
            "Question: The video is a serious cooking show with a professional chef.\n",
            "Answer: False\n",
            "Explanation: The video appears to be a comedic sketch or parody, featuring over-the-top reactions and absurd food items.\n",
            "\n",
            "True/False: False\n",
            "\n"
          ]
        }
      ]
    },
    {
      "cell_type": "markdown",
      "source": [
        "###Generate Questions Using URL"
      ],
      "metadata": {
        "id": "S5UWqxCDM8i7"
      }
    },
    {
      "cell_type": "code",
      "source": [
        "pdf_questions = client.qna_engine.generate_questions_from_data(\n",
        "    source=\"/content/NIPS-2017-attention-is-all-you-need-Paper.pdf\",\n",
        "    source_type=\"pdf\",\n",
        "    num=10,\n",
        "    question_type=\"Multiple Choice\",\n",
        "    learning_objective=\"\",\n",
        "    difficulty_level=\"Intermediate\",\n",
        "    custom_instructions= \"what is this pdf about\"\n",
        ")\n",
        "\n",
        "pdf_questions.show()"
      ],
      "metadata": {
        "id": "b9zs5fS0NJtY"
      },
      "execution_count": null,
      "outputs": []
    },
    {
      "cell_type": "markdown",
      "source": [
        "##Generate Flash Cards"
      ],
      "metadata": {
        "id": "lOHpOVwmP5SO"
      }
    },
    {
      "cell_type": "markdown",
      "source": [
        "###**Medical Exams Flash Cards**"
      ],
      "metadata": {
        "id": "fQBVLpVMQJxq"
      }
    },
    {
      "cell_type": "code",
      "source": [
        "import json\n",
        "\n",
        "client = Educhain(Groq_config)\n",
        "\n",
        "# Generate flashcards for a given topic\n",
        "def generate_medical_flashcards(topic: str):\n",
        "    content_engine = client.content_engine\n",
        "\n",
        "    flashcards = content_engine.generate_flashcards(\n",
        "        topic=topic,\n",
        "        num=5,  # Generate 10 flashcards\n",
        "        custom_instructions=\"\"\"\n",
        "        Create flashcards with:\n",
        "        1. High-yield medical facts\n",
        "        2. Diagnostic criteria\n",
        "        3. Treatment protocols\n",
        "        4. Key clinical pearls\n",
        "        Include references to the latest research where relevant.\n",
        "        \"\"\"\n",
        "    )\n",
        "\n",
        "    # Print the flashcards\n",
        "    print(f\"Flashcards for {topic}:\\n\")\n",
        "    print(json.dumps(flashcards.dict(), indent=2))"
      ],
      "metadata": {
        "id": "LYN4ZN8cP_9r"
      },
      "execution_count": null,
      "outputs": []
    },
    {
      "cell_type": "markdown",
      "source": [
        "###Enter Your Topic"
      ],
      "metadata": {
        "id": "07Yjps-DQcxh"
      }
    },
    {
      "cell_type": "code",
      "source": [
        "generate_medical_flashcards(topic=\"Acute Coronary Syndromes\")"
      ],
      "metadata": {
        "colab": {
          "base_uri": "https://localhost:8080/"
        },
        "id": "zBQv48gAQUUo",
        "outputId": "7e710dba-5dbe-4f46-b137-28c0f24c9ca8"
      },
      "execution_count": null,
      "outputs": [
        {
          "output_type": "stream",
          "name": "stdout",
          "text": [
            "Flashcards for Acute Coronary Syndromes:\n",
            "\n",
            "{\n",
            "  \"title\": \"Acute Coronary Syndromes\",\n",
            "  \"flashcards\": [\n",
            "    {\n",
            "      \"front\": \"What is the definition of Acute Coronary Syndrome (ACS)?\",\n",
            "      \"back\": \"Acute Coronary Syndrome (ACS) refers to a spectrum of clinical manifestations of acute myocardial ischemia, ranging from unstable angina to non-ST-segment elevation myocardial infarction (NSTEMI) to ST-segment elevation myocardial infarction (STEMI).\",\n",
            "      \"explanation\": \"The diagnosis of ACS is based on a combination of clinical presentation, electrocardiogram (ECG) findings, and biomarker elevation, such as troponin.\"\n",
            "    },\n",
            "    {\n",
            "      \"front\": \"What are the diagnostic criteria for ST-segment elevation myocardial infarction (STEMI)?\",\n",
            "      \"back\": \"The diagnostic criteria for STEMI include chest pain or equivalent symptoms, persistent ST-segment elevation of >1 mm in two or more contiguous leads on a 12-lead ECG, and elevated cardiac biomarkers, such as troponin.\",\n",
            "      \"explanation\": \"According to the latest guidelines from the American Heart Association (AHA) and the American College of Cardiology (ACC), the diagnosis of STEMI should be made promptly, and reperfusion therapy should be initiated within 90 minutes of first medical contact.\"\n",
            "    },\n",
            "    {\n",
            "      \"front\": \"What is the treatment protocol for non-ST-segment elevation acute coronary syndrome (NSTE-ACS)?\",\n",
            "      \"back\": \"The treatment protocol for NSTE-ACS includes antiplatelet therapy with aspirin and P2Y12 inhibitors, anticoagulation with heparin or low-molecular-weight heparin, and early invasive strategy with coronary angiography and percutaneous coronary intervention (PCI) if indicated.\",\n",
            "      \"explanation\": \"The 2020 ACC/AHA guidelines recommend that patients with NSTE-ACS should undergo early risk stratification using tools such as the GRACE score, and those with high-risk features should be prioritized for early invasive evaluation and treatment.\"\n",
            "    },\n",
            "    {\n",
            "      \"front\": \"What is the role of dual antiplatelet therapy (DAPT) in the management of acute coronary syndrome?\",\n",
            "      \"back\": \"Dual antiplatelet therapy (DAPT) with aspirin and a P2Y12 inhibitor is recommended for all patients with acute coronary syndrome, regardless of whether they undergo revascularization with PCI or coronary artery bypass grafting (CABG).\",\n",
            "      \"explanation\": \"The DAPT Study, a large randomized controlled trial, demonstrated that prolonged DAPT for 30 months reduced the risk of stent thrombosis and major adverse cardiac events, but increased the risk of bleeding.\"\n",
            "    },\n",
            "    {\n",
            "      \"front\": \"What are the key clinical pearls for managing cardiogenic shock in the setting of acute coronary syndrome?\",\n",
            "      \"back\": \"The key clinical pearls for managing cardiogenic shock in the setting of acute coronary syndrome include early recognition, prompt revascularization, and aggressive hemodynamic support with vasopressors and inotropes.\",\n",
            "      \"explanation\": \"According to the 2020 ACC/AHA guidelines, cardiogenic shock is a life-threatening complication of acute coronary syndrome, and prompt recognition and treatment are essential to improve survival and outcomes.\"\n",
            "    }\n",
            "  ]\n",
            "}\n"
          ]
        }
      ]
    }
  ]
}