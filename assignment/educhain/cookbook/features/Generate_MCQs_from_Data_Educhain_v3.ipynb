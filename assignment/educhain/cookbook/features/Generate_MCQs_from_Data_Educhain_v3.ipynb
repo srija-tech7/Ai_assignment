{
  "cells": [
    {
      "cell_type": "markdown",
      "metadata": {
        "id": "oCDzHkPDSouG"
      },
      "source": [
        "## Generate MCQs from Data using [Educhain](https://github.com/satvik314/educhain)"
      ]
    },
    {
      "cell_type": "markdown",
      "metadata": {
        "id": "xuVW_VFjSmFT"
      },
      "source": [
        "<img src=\"https://github.com/Shubhwithai/GRE_Geometry_quiz/blob/main/Group%2042.png?raw=true\" width=\"\" height=\"50\">\n",
        "\n",
        "[![Open In Colab](https://colab.research.google.com/assets/colab-badge.svg)](https://colab.research.google.com/drive/1Q-pe8A8_HG0BfvTDj4hiSQUsPam0Sv7c?usp=sharing)"
      ]
    },
    {
      "cell_type": "markdown",
      "metadata": {
        "id": "Eh0egNoRdb6F"
      },
      "source": [
        "\n",
        "\n",
        "\n",
        "Explore the power of AI-driven education with Educhain! This notebook demonstrates how to create high-quality Multiple Choice Questions (MCQs) from various data sources using the Educhain package. ✅\n",
        "\n",
        "Key Features:\n",
        "- Generate MCQs from PDF files, web pages, and plain text\n",
        "- Customize difficulty levels and learning objectives\n",
        "- Leverage advanced language models for question generation\n",
        "\n",
        "Perfect for educators, content creators, and e-learning developers looking to automate and enhance their question creation process. Dive in to revolutionize your approach to educational content generation!\n",
        "\n"
      ]
    },
    {
      "cell_type": "code",
      "execution_count": null,
      "metadata": {
        "id": "iVsx0ZrTcw08"
      },
      "outputs": [],
      "source": [
        "!pip install -qU educhain --quiet"
      ]
    },
    {
      "cell_type": "code",
      "execution_count": 3,
      "metadata": {
        "id": "xAVgJloIcCpb"
      },
      "outputs": [],
      "source": [
        "# Set up your OpenAI API key\n",
        "import os\n",
        "from google.colab import userdata\n",
        "\n",
        "os.environ[\"OPENAI_API_KEY\"] = userdata.get('OPENAI_API_KEY_2')"
      ]
    },
    {
      "cell_type": "markdown",
      "metadata": {
        "id": "yp_m4RPcfBz8"
      },
      "source": [
        "### Generating MCQs from a URL"
      ]
    },
    {
      "cell_type": "code",
      "execution_count": 4,
      "metadata": {
        "colab": {
          "base_uri": "https://localhost:8080/"
        },
        "id": "kib91XW-dlja",
        "outputId": "8073fc5d-666f-4dc3-a437-a292d45ec048"
      },
      "outputs": [
        {
          "name": "stdout",
          "output_type": "stream",
          "text": [
            "Question 1:\n",
            "Question: What is the duration of the Generative AI Launch Pad course?\n",
            "Options:\n",
            "  A. 4 weeks\n",
            "  B. 6 weeks\n",
            "  C. 8 weeks\n",
            "  D. 10 weeks\n",
            "\n",
            "Correct Answer: 6 weeks\n",
            "Explanation: The course is designed to provide hands-on, project-based learning over a span of six weeks.\n",
            "\n",
            "Question 2:\n",
            "Question: Who is the founder of Build Fast with AI?\n",
            "Options:\n",
            "  A. John Doe\n",
            "  B. Satvik Paramkusham\n",
            "  C. Jane Smith\n",
            "  D. Michael Johnson\n",
            "\n",
            "Correct Answer: Satvik Paramkusham\n",
            "Explanation: Satvik Paramkusham is the founder and has extensive experience in AI development and consulting.\n",
            "\n",
            "Question 3:\n",
            "Question: What is the course fee for the Generative AI Launch Pad bootcamp?\n",
            "Options:\n",
            "  A. ₹30,000\n",
            "  B. ₹50,000\n",
            "  C. ₹65,000\n",
            "  D. ₹80,000\n",
            "\n",
            "Correct Answer: ₹50,000\n",
            "Explanation: The bootcamp has a one-time fee of ₹50,000, which includes full access to the course materials and mentorship.\n",
            "\n",
            "Question 4:\n",
            "Question: What type of projects can participants expect to work on during the course?\n",
            "Options:\n",
            "  A. Theoretical exams\n",
            "  B. Hands-on, project-based learning\n",
            "  C. Group discussions only\n",
            "  D. No projects\n",
            "\n",
            "Correct Answer: Hands-on, project-based learning\n",
            "Explanation: The course emphasizes a 'learning by doing' approach and includes over 15 app builds.\n",
            "\n",
            "Question 5:\n",
            "Question: Which of the following is NOT included in the course syllabus?\n",
            "Options:\n",
            "  A. Chatbots and Assistants\n",
            "  B. Automation with AI Agents\n",
            "  C. Basic HTML and CSS\n",
            "  D. Advanced AI Implementation\n",
            "\n",
            "Correct Answer: Basic HTML and CSS\n",
            "Explanation: The course primarily focuses on Generative AI tools and frameworks rather than web development basics.\n",
            "\n"
          ]
        }
      ],
      "source": [
        "from educhain import Educhain\n",
        "\n",
        "client = Educhain()\n",
        "\n",
        "url_mcqs = client.qna_engine.generate_questions_from_data(\n",
        "        source=\"https://www.buildfastwithai.com/genai-course\",\n",
        "        source_type=\"url\",\n",
        "        num=5,\n",
        "        learning_objective=\"schedule of the course\",\n",
        "        difficulty_level=\"Easy\"\n",
        "    )\n",
        "\n",
        "url_mcqs.show()"
      ]
    },
    {
      "cell_type": "markdown",
      "metadata": {
        "id": "DIiBR5TQTLwh"
      },
      "source": [
        "###Generate Questions Using Blog Url"
      ]
    },
    {
      "cell_type": "code",
      "execution_count": 6,
      "metadata": {
        "colab": {
          "base_uri": "https://localhost:8080/"
        },
        "id": "lmfAoZ2vjx25",
        "outputId": "c88cadcf-11d0-4190-f54e-5d8d9eeda20c"
      },
      "outputs": [
        {
          "name": "stdout",
          "output_type": "stream",
          "text": [
            "Question 1:\n",
            "Question: What is the primary criterion for end-to-end AI agents in solving complex tasks?\n",
            "Options:\n",
            "  A. Speed\n",
            "  B. Creativity\n",
            "  C. Accuracy\n",
            "  D. User experience\n",
            "\n",
            "Correct Answer: Accuracy\n",
            "Explanation: Accuracy is crucial for AI agents as it ensures correct classification, extraction, assessment, and processing of incoming data, which is essential for efficiency.\n",
            "\n",
            "Question 2:\n",
            "Question: What percentage of cases can AI agents typically solve fully automatically according to the author?\n",
            "Options:\n",
            "  A. 60%\n",
            "  B. 70%\n",
            "  C. 80%\n",
            "  D. 90%\n",
            "\n",
            "Correct Answer: 80%\n",
            "Explanation: The author emphasizes that AI agents can automate 80% of tasks while being highly accurate in processing.\n",
            "\n",
            "Question 3:\n",
            "Question: What should compensation for AI projects be tied to?\n",
            "Options:\n",
            "  A. Employee satisfaction\n",
            "  B. KPI-based agreement\n",
            "  C. Market share\n",
            "  D. Development time\n",
            "\n",
            "Correct Answer: KPI-based agreement\n",
            "Explanation: The author suggests tying compensation to the percentage of cases processed automatically and correctly to ensure accountability.\n",
            "\n",
            "Question 4:\n",
            "Question: Why are low-code/no-code platforms not suitable for production-level AI agents?\n",
            "Options:\n",
            "  A. They are too complex.\n",
            "  B. They cannot achieve high accuracy reliably.\n",
            "  C. They are too expensive.\n",
            "  D. They take too long to implement.\n",
            "\n",
            "Correct Answer: They cannot achieve high accuracy reliably.\n",
            "Explanation: The author believes that while low-code platforms are useful for prototyping, they fall short in achieving the accuracy required for production environments.\n",
            "\n",
            "Question 5:\n",
            "Question: What does the Pareto principle suggest in the context of AI agent projects?\n",
            "Options:\n",
            "  A. Focus on all cases equally.\n",
            "  B. Focus on the 15 or 20 cases that make up 80% to 90% of the volume.\n",
            "  C. Ignore the rare cases entirely.\n",
            "  D. Invest equally in all cases.\n",
            "\n",
            "Correct Answer: Focus on the 15 or 20 cases that make up 80% to 90% of the volume.\n",
            "Explanation: The author highlights that focusing on the most common cases can lead to better resource allocation and efficiency.\n",
            "\n",
            "Question 6:\n",
            "Question: What programming language did the author use for implementing AI agents?\n",
            "Options:\n",
            "  A. Java\n",
            "  B. C++\n",
            "  C. Python\n",
            "  D. JavaScript\n",
            "\n",
            "Correct Answer: Python\n",
            "Explanation: The author mentions that they implemented all their agents in Python due to its robust libraries for AI and data-related tasks.\n",
            "\n",
            "Question 7:\n",
            "Question: What is a key strategy to achieve 100% hallucination-free processing in AI models?\n",
            "Options:\n",
            "  A. Using larger models\n",
            "  B. Sandboxing the model\n",
            "  C. Increasing data size\n",
            "  D. Regular updates\n",
            "\n",
            "Correct Answer: Sandboxing the model\n",
            "Explanation: Sandboxing allows for controlled outputs by enforcing structures and validating responses, reducing the risk of hallucinations.\n",
            "\n",
            "Question 8:\n",
            "Question: What should never be used in prompt engineering according to the author?\n",
            "Options:\n",
            "  A. Standard prompt templates\n",
            "  B. Custom templates\n",
            "  C. Dynamic prompts\n",
            "  D. Simple questions\n",
            "\n",
            "Correct Answer: Standard prompt templates\n",
            "Explanation: The author stresses that standard templates lack the specificity and detail necessary for high accuracy in complex AI tasks.\n",
            "\n",
            "Question 9:\n",
            "Question: What is the significance of hiring experienced prompt engineers?\n",
            "Options:\n",
            "  A. They are cheaper.\n",
            "  B. They can significantly improve the accuracy of AI agents.\n",
            "  C. They require less training.\n",
            "  D. They work faster.\n",
            "\n",
            "Correct Answer: They can significantly improve the accuracy of AI agents.\n",
            "Explanation: Experienced prompt engineers understand the nuances of model behavior and can create effective prompts that lead to better outcomes.\n",
            "\n",
            "Question 10:\n",
            "Question: What is the paradox mentioned about AI agents?\n",
            "Options:\n",
            "  A. Cheap to develop, expensive to maintain.\n",
            "  B. Simple to prototype, hard to get to production grade.\n",
            "  C. Easy to test, hard to implement.\n",
            "  D. Fast to build, slow to deploy.\n",
            "\n",
            "Correct Answer: Simple to prototype, hard to get to production grade.\n",
            "Explanation: The author points out that while creating a prototype is quick, achieving a production-ready AI agent requires significant time and effort.\n",
            "\n",
            "Question 11:\n",
            "Question: What is essential for a successful AI agent project according to the author?\n",
            "Options:\n",
            "  A. A large budget\n",
            "  B. A product champion\n",
            "  C. A skilled IT team\n",
            "  D. A detailed plan\n",
            "\n",
            "Correct Answer: A product champion\n",
            "Explanation: A product champion can navigate the complexities of corporate structures and drive the AI project forward, ensuring its success.\n",
            "\n",
            "Question 12:\n",
            "Question: What is the primary focus when implementing AI agents according to the author?\n",
            "Options:\n",
            "  A. Speed of implementation\n",
            "  B. User interface design\n",
            "  C. Achieving high accuracy\n",
            "  D. Cost reduction\n",
            "\n",
            "Correct Answer: Achieving high accuracy\n",
            "Explanation: High accuracy is crucial for operational success and minimizes risks associated with incorrect outputs.\n",
            "\n",
            "Question 13:\n",
            "Question: What approach did the author recommend for reasoning in AI projects?\n",
            "Options:\n",
            "  A. Case-specific reasoning\n",
            "  B. Generic reasoning\n",
            "  C. Mathematical reasoning\n",
            "  D. Intuitive reasoning\n",
            "\n",
            "Correct Answer: Case-specific reasoning\n",
            "Explanation: The author suggests that reasoning should be tailored to specific problems rather than using generic reasoning methods.\n",
            "\n",
            "Question 14:\n",
            "Question: What is the critical factor that differentiates AI agents from traditional generative AI?\n",
            "Options:\n",
            "  A. Autonomy in task execution\n",
            "  B. Cost-effectiveness\n",
            "  C. Ease of use\n",
            "  D. Speed of response\n",
            "\n",
            "Correct Answer: Autonomy in task execution\n",
            "Explanation: AI agents are designed to autonomously execute complex tasks without human intervention, unlike traditional generative models.\n",
            "\n",
            "Question 15:\n",
            "Question: What does the author mean by 'wringing a refund' from transport companies?\n",
            "Options:\n",
            "  A. Requesting a review\n",
            "  B. Negotiating compensation for lost or damaged shipments\n",
            "  C. Filing a complaint\n",
            "  D. Automatically issuing refunds\n",
            "\n",
            "Correct Answer: Negotiating compensation for lost or damaged shipments\n",
            "Explanation: The AI agent is capable of negotiating and securing refunds for issues related to lost or damaged shipments.\n",
            "\n",
            "Question 16:\n",
            "Question: What is an essential aspect of high-quality AI agent prompt engineering?\n",
            "Options:\n",
            "  A. General instructions\n",
            "\n",
            "Correct Answer: Detailed examples and output format\n",
            "Explanation: Effective prompts need to include detailed examples and specify output formats to guide the AI towards accurate responses.\n",
            "\n"
          ]
        }
      ],
      "source": [
        "from educhain import Educhain\n",
        "\n",
        "client = Educhain()\n",
        "\n",
        "url_mcqs = client.qna_engine.generate_questions_from_data(\n",
        "        source=\"https://medium.com/codex/how-i-got-a-big-ai-agent-up-and-running-what-worked-and-what-didnt-7615155d2b73\",\n",
        "        source_type=\"url\",\n",
        "        num=35,\n",
        "    )\n",
        "\n",
        "url_mcqs.show()"
      ]
    },
    {
      "cell_type": "markdown",
      "metadata": {
        "id": "KD6DXFfQfDsl"
      },
      "source": [
        "### Generate MCQs from Text"
      ]
    },
    {
      "cell_type": "code",
      "execution_count": 7,
      "metadata": {
        "colab": {
          "base_uri": "https://localhost:8080/"
        },
        "id": "LFADd9hQdv7r",
        "outputId": "c61aba3c-2e38-41b9-95ec-5a326b9e66a3"
      },
      "outputs": [
        {
          "name": "stdout",
          "output_type": "stream",
          "text": [
            "Question 1:\n",
            "Question: What does the Big Mac Index measure?\n",
            "Options:\n",
            "  A. Inflation rates across countries\n",
            "  B. The cost of living in urban areas\n",
            "  C. Purchasing power parity (PPP) between different currencies.\n",
            "  D. Unemployment rates in different nations\n",
            "\n",
            "Correct Answer: Purchasing power parity (PPP) between different currencies.\n",
            "Explanation: The Big Mac Index compares the price of a Big Mac across various countries to evaluate how exchange rates align with purchasing power.\n",
            "\n",
            "Question 2:\n",
            "Question: When was the Big Mac Index introduced?\n",
            "Options:\n",
            "  A. 1975\n",
            "  B. 1986\n",
            "  C. 1995\n",
            "  D. 2001\n",
            "\n",
            "Correct Answer: 1986\n",
            "Explanation: The Big Mac Index was first introduced by The Economist in 1986 as an informal way to gauge currency valuation.\n",
            "\n",
            "Question 3:\n",
            "Question: Which of the following is an example of another informal index inspired by the Big Mac Index?\n",
            "Options:\n",
            "  A. The Tesla index\n",
            "  B. The Starbucks latte index\n",
            "  C. The iPad index\n",
            "  D. The Amazon Prime index\n",
            "\n",
            "Correct Answer: The iPad index\n",
            "Explanation: The iPad index is one of the similar comparisons that arose from the concept of the Big Mac Index, focusing on pricing of the iPad across different countries.\n",
            "\n"
          ]
        }
      ],
      "source": [
        "from educhain import Educhain\n",
        "\n",
        "client = Educhain()\n",
        "\n",
        "text_content = \"\"\"\n",
        "    The Big Mac Index, introduced by The Economist in 1986, is a lighthearted way to measure purchasing power parity (PPP) between different currencies.\n",
        "    It compares the price of a McDonald's Big Mac burger across various countries, using the idea that a widely available, uniform product should cost the same in different nations when adjusted for exchange rates.\n",
        "    This index suggests that, in the long run, exchange rates should adjust so that a basket of goods (represented by the Big Mac) costs the same in different countries.\n",
        "    While not a precise economic tool, the Big Mac Index has gained popularity for its simplicity in explaining complex economic concepts.\n",
        "    It's often used as a starting point for discussions about currency valuation and economic disparities between nations.\n",
        "    The index has even inspired similar comparisons using other products, like the \"iPad index\" or the \"Starbucks latte index\".\n",
        "    \"\"\"\n",
        "\n",
        "text_mcqs = client.qna_engine.generate_questions_from_data(\n",
        "        source=text_content,\n",
        "        source_type=\"text\",\n",
        "        num=3,\n",
        "    )\n",
        "\n",
        "text_mcqs.show()"
      ]
    },
    {
      "cell_type": "markdown",
      "metadata": {
        "id": "SVfBmvyUfJSK"
      },
      "source": [
        "### Generate MCQs from PDF"
      ]
    },
    {
      "cell_type": "code",
      "execution_count": 10,
      "metadata": {
        "colab": {
          "base_uri": "https://localhost:8080/"
        },
        "id": "j3NEVgP9erEj",
        "outputId": "b0b21f1f-cd2f-4066-d927-9e306f812ed5"
      },
      "outputs": [
        {
          "name": "stdout",
          "output_type": "stream",
          "text": [
            "Question 1:\n",
            "Question: What is the primary architecture proposed in the paper 'Attention Is All You Need'?\n",
            "Options:\n",
            "  A. The Recurrent Neural Network\n",
            "  B. The Convolutional Neural Network\n",
            "  C. The Transformer\n",
            "  D. The Autoencoder\n",
            "\n",
            "Correct Answer: The Transformer\n",
            "\n",
            "Question 2:\n",
            "Question: What mechanism does the Transformer model use to draw dependencies between input and output?\n",
            "Options:\n",
            "  A. Recurrent connections\n",
            "  B. Attention mechanisms\n",
            "  C. Convolutional layers\n",
            "  D. Sequential processing\n",
            "\n",
            "Correct Answer: Attention mechanisms\n",
            "\n",
            "Question 3:\n",
            "Question: Which dataset was used for the English-to-German translation task in the experiments?\n",
            "Options:\n",
            "  A. WMT 2015 English-German dataset\n",
            "  B. WMT 2014 English-German dataset\n",
            "  C. WMT 2014 English-French dataset\n",
            "  D. WMT 2016 English-German dataset\n",
            "\n",
            "Correct Answer: WMT 2014 English-German dataset\n",
            "\n",
            "Question 4:\n",
            "Question: How many identical layers does the encoder in the Transformer model consist of?\n",
            "Options:\n",
            "  A. 4 layers\n",
            "  B. 6 layers\n",
            "  C. 8 layers\n",
            "  D. 10 layers\n",
            "\n",
            "Correct Answer: 6 layers\n",
            "\n",
            "Question 5:\n",
            "Question: What BLEU score did the Transformer model achieve on the WMT 2014 English-to-French translation task?\n",
            "Options:\n",
            "  A. 38.1\n",
            "  B. 39.5\n",
            "  C. 41.0\n",
            "  D. 42.2\n",
            "\n",
            "Correct Answer: 41.0\n",
            "\n"
          ]
        }
      ],
      "source": [
        "from educhain import Educhain\n",
        "\n",
        "client = Educhain()\n",
        "\n",
        "pdf_mcqs = client.qna_engine.generate_questions_from_data(\n",
        "        source=\"/content/NIPS-2017-attention-is-all-you-need-Paper.pdf\", # add your PDF Path\n",
        "        source_type=\"pdf\",\n",
        "        num=5\n",
        "    )\n",
        "\n",
        "pdf_mcqs.show()"
      ]
    },
    {
      "cell_type": "markdown",
      "metadata": {
        "id": "X02r9d95gKDu"
      },
      "source": [
        "## Using Different LLMs\n",
        "\n",
        "Switch from OpenAI to any other LLM using Custum LLM Config"
      ]
    },
    {
      "cell_type": "code",
      "execution_count": 11,
      "metadata": {
        "colab": {
          "base_uri": "https://localhost:8080/"
        },
        "id": "2g08bo-hgJsx",
        "outputId": "d16758b8-f6b5-4a05-8130-80dfef869c70"
      },
      "outputs": [
        {
          "name": "stdout",
          "output_type": "stream",
          "text": [
            "\u001b[?25l   \u001b[90m━━━━━━━━━━━━━━━━━━━━━━━━━━━━━━━━━━━━━━━━\u001b[0m \u001b[32m0.0/286.1 kB\u001b[0m \u001b[31m?\u001b[0m eta \u001b[36m-:--:--\u001b[0m\r\u001b[2K   \u001b[91m━━━━━━━━━━━━━━━━━━━━━━━━━━━━━━━━━━━━━━\u001b[0m\u001b[91m╸\u001b[0m\u001b[90m━\u001b[0m \u001b[32m276.5/286.1 kB\u001b[0m \u001b[31m8.7 MB/s\u001b[0m eta \u001b[36m0:00:01\u001b[0m\r\u001b[2K   \u001b[90m━━━━━━━━━━━━━━━━━━━━━━━━━━━━━━━━━━━━━━━━\u001b[0m \u001b[32m286.1/286.1 kB\u001b[0m \u001b[31m6.7 MB/s\u001b[0m eta \u001b[36m0:00:00\u001b[0m\n",
            "\u001b[?25h"
          ]
        }
      ],
      "source": [
        "!pip install -qU langchain-google-genai langchain-anthropic"
      ]
    },
    {
      "cell_type": "code",
      "execution_count": 13,
      "metadata": {
        "id": "yMNmP676gGed"
      },
      "outputs": [],
      "source": [
        "from langchain_google_genai import ChatGoogleGenerativeAI\n",
        "from educhain import Educhain, LLMConfig\n",
        "from langchain_openai import ChatOpenAI\n",
        "from langchain_anthropic import ChatAnthropic\n",
        "from google.colab import userdata\n",
        "\n",
        "# Using gpt-4.1\n",
        "gpt4_model = ChatOpenAI(\n",
        "    model_name=\"gpt-4.1\",\n",
        "    openai_api_key=userdata.get(\"OPENAI_API_KEY_2\")\n",
        ")\n",
        "\n",
        "#Using Gemini-2.0-flash\n",
        "gemini_flash = ChatGoogleGenerativeAI(\n",
        "    model=\"gemini-2.0-flash\",\n",
        "    google_api_key=userdata.get(\"GOOGLE_API_KEY\")\n",
        "    )\n",
        "\n",
        "#Using llama-3.3-70b-versatile\n",
        "llama3_groq = ChatOpenAI(\n",
        "    model=\"llama-3.3-70b-versatile\",\n",
        "    openai_api_base=\"https://api.groq.com/openai/v1\",\n",
        "    openai_api_key=userdata.get(\"GROQ_API_KEY\")\n",
        ")\n",
        "\n",
        "#Using claude-3-7-sonnet\n",
        "claude = ChatAnthropic(model='claude-3-7-sonnet-20250219',\n",
        "                      api_key = userdata.get(\"ANTHROPIC_API_KEY\")\n",
        ")"
      ]
    },
    {
      "cell_type": "markdown",
      "metadata": {
        "id": "Vcc2vaP6VI5s"
      },
      "source": [
        "###Generate Questions From Data Using Openai"
      ]
    },
    {
      "cell_type": "code",
      "execution_count": 14,
      "metadata": {
        "colab": {
          "base_uri": "https://localhost:8080/"
        },
        "id": "1T91bnJ3i54f",
        "outputId": "7db88b88-ef7a-44a6-cb5e-9ea32374e231"
      },
      "outputs": [
        {
          "name": "stdout",
          "output_type": "stream",
          "text": [
            "Question 1:\n",
            "Question: What is the primary concept behind the butterfly effect in chaos theory?\n",
            "Options:\n",
            "  A. Small changes in initial conditions can lead to vastly different outcomes.\n",
            "  B. Weather patterns are predictable and do not change.\n",
            "  C. The butterfly effect is only applicable to quantum mechanics.\n",
            "  D. All changes in a system result from major events.\n",
            "\n",
            "Correct Answer: Small changes in initial conditions can lead to vastly different outcomes.\n",
            "Explanation: The butterfly effect illustrates how a minor perturbation, like a butterfly flapping its wings, can set off a chain of events resulting in significant changes in a complex system, such as the weather.\n",
            "\n",
            "Question 2:\n",
            "Question: Who is credited with popularizing the term 'butterfly effect'?\n",
            "Options:\n",
            "  A. Henri Poincaré\n",
            "  B. James Gleick\n",
            "  C. Edward Norton Lorenz\n",
            "  D. Norbert Wiener\n",
            "\n",
            "Correct Answer: Edward Norton Lorenz.\n",
            "Explanation: Edward Norton Lorenz, a mathematician and meteorologist, is known for his work on chaos theory and for coining the term 'butterfly effect' to describe the sensitive dependence on initial conditions.\n",
            "\n",
            "Question 3:\n",
            "Question: In which year did Edward Lorenz publish his groundbreaking paper on the butterfly effect?\n",
            "Options:\n",
            "  A. 1952\n",
            "  B. 1963\n",
            "  C. 1972\n",
            "  D. 1987\n",
            "\n",
            "Correct Answer: 1963.\n",
            "Explanation: Lorenz published his seminal paper 'Deterministic Nonperiodic Flow' in 1963, which laid the foundation for the concepts associated with the butterfly effect.\n",
            "\n"
          ]
        }
      ],
      "source": [
        "from educhain import Educhain\n",
        "from educhain.core import config\n",
        "\n",
        "gpt4_config = LLMConfig(custom_model=gpt4_model)\n",
        "gpt4_client = Educhain(gpt4_config)\n",
        "\n",
        "url_mcqs = client.qna_engine.generate_questions_from_data(\n",
        "        source=\"https://en.wikipedia.org/wiki/Butterfly_effect\",\n",
        "        source_type=\"url\",\n",
        "        num=3,\n",
        "        learning_objective=\"real life examples\"\n",
        "\n",
        "    )\n",
        "\n",
        "url_mcqs.show()"
      ]
    },
    {
      "cell_type": "markdown",
      "metadata": {
        "id": "YjASZC_wVYdX"
      },
      "source": [
        "###Generate Questions From Data Using Llama 3"
      ]
    },
    {
      "cell_type": "code",
      "execution_count": 20,
      "metadata": {
        "colab": {
          "base_uri": "https://localhost:8080/"
        },
        "id": "B1AHlDDLggfx",
        "outputId": "ec92de50-7c63-47f1-9f7c-444cbf6ff0ad"
      },
      "outputs": [
        {
          "name": "stdout",
          "output_type": "stream",
          "text": [
            "Question 1:\n",
            "Question: What is the basic principle behind the working of a transformer?\n",
            "Options:\n",
            "  A. Mutual induction between two windings linked by common magnetic flux\n",
            "  B. Electromagnetic induction in a single coil\n",
            "  C. Electrical conduction through a common wire\n",
            "  D. Thermal induction through a common core\n",
            "\n",
            "Correct Answer: Mutual induction between two windings linked by common magnetic flux\n",
            "Explanation: The phenomenon of mutual induction occurs when two coils are magnetically linked, allowing the transfer of energy between them.\n",
            "\n",
            "Question 2:\n",
            "Question: What is the purpose of the core in a transformer?\n",
            "Options:\n",
            "  A. To provide a magnetic path for the flux to get linked with the secondary winding\n",
            "  B. To increase the electrical resistance of the primary winding\n",
            "  C. To reduce the magnetic flux in the transformer\n",
            "  D. To enhance the thermal conductivity of the transformer\n",
            "\n",
            "Correct Answer: To provide a magnetic path for the flux to get linked with the secondary winding\n",
            "Explanation: The core provides a low-reluctance path for the magnetic flux, allowing it to link with the secondary winding and induce an electromotive force (EMF).\n",
            "\n",
            "Question 3:\n",
            "Question: What type of flux is linked with the secondary winding in a transformer?\n",
            "Options:\n",
            "  A. Useful flux or main flux\n",
            "  B. Leakage flux\n",
            "  C. Magnetic flux\n",
            "  D. Electrical flux\n",
            "\n",
            "Correct Answer: Useful flux or main flux\n",
            "Explanation: The useful flux or main flux is the magnetic flux that links with the secondary winding, inducing an electromotive force (EMF) and allowing the transfer of energy.\n",
            "\n",
            "Question 4:\n",
            "Question: What is the frequency of the mutually induced EMF in a transformer?\n",
            "Options:\n",
            "  A. Same as that of the supplied EMF\n",
            "  B. Twice that of the supplied EMF\n",
            "  C. Half that of the supplied EMF\n",
            "  D. Unrelated to the frequency of the supplied EMF\n",
            "\n",
            "Correct Answer: Same as that of the supplied EMF\n",
            "Explanation: The frequency of the mutually induced EMF in the secondary winding is the same as the frequency of the alternating voltage applied to the primary winding.\n",
            "\n",
            "Question 5:\n",
            "Question: What occurs when the secondary winding is closed circuit in a transformer?\n",
            "Options:\n",
            "  A. Mutually induced current flows through it\n",
            "  B. No current flows through the secondary winding\n",
            "  C. The transformer becomes a generator\n",
            "  D. The transformer becomes an electric motor\n",
            "\n",
            "Correct Answer: Mutually induced current flows through it\n",
            "Explanation: When the secondary winding is closed circuit, the mutually induced EMF causes a current to flow through the winding, allowing the transfer of electrical energy from the primary circuit to the secondary circuit.\n",
            "\n"
          ]
        }
      ],
      "source": [
        "from educhain import Educhain\n",
        "from educhain.core import config\n",
        "\n",
        "llama3_config = LLMConfig(custom_model=llama3_groq)\n",
        "\n",
        "client = Educhain(llama3_config)\n",
        "\n",
        "url_mcqs = client.qna_engine.generate_questions_from_data(\n",
        "        source='''The basic principle behind working of a transformer is the phenomenon of mutual induction between two\n",
        "                  windings linked by common magnetic flux. The figure at right shows the simplest form of a transformer.\n",
        "                  Basically a transformer consists of two inductive coils; primary winding and secondary winding. The coils are\n",
        "                  electrically separated but magnetically linked to each other. When, primary winding is connected to a source of\n",
        "                  alternating voltage, alternating magnetic flux is produced around the winding. The core provides magnetic path\n",
        "                  for the flux, to get linked with the secondary winding. Most of the flux gets linked with the secondary winding\n",
        "                  which is called as 'useful flux' or main 'flux', and the flux which does not get linked with secondary winding is\n",
        "                  called as 'leakage flux'. As the flux produced is alternating (the direction of it is continuously changing), EMF\n",
        "                  gets induced in the secondary winding according to Faraday's law of electromagnetic induction. This emf is\n",
        "                  called 'mutually induced emf', and the frequency of mutually induced emf is same as that of supplied emf. If the\n",
        "                  secondary winding is closed circuit, then mutually induced current flows through it, and hence the electrical\n",
        "                  energy is transferred from one circuit (primary) to another circuit (secondary).''',\n",
        "        source_type=\"text\",\n",
        "        num=5,\n",
        "        learning_objective=\"Types of Biases\",\n",
        "    )\n",
        "\n",
        "url_mcqs.show()"
      ]
    },
    {
      "cell_type": "markdown",
      "metadata": {
        "id": "Smb8pWz-Vr0n"
      },
      "source": [
        "###Generate Questions From Data Using Gemini"
      ]
    },
    {
      "cell_type": "code",
      "execution_count": null,
      "metadata": {
        "id": "Eu9dyfmbVnGx"
      },
      "outputs": [],
      "source": [
        "from educhain import Educhain\n",
        "\n",
        "Gemini_config = LLMConfig(custom_model=gemini_flash)\n",
        "\n",
        "client = Educhain(Gemini_config)\n",
        "\n",
        "url_mcqs = client.qna_engine.generate_questions_from_data(\n",
        "        source=\"/content/NIPS-2017-attention-is-all-you-need-Paper.pdf\",\n",
        "        source_type=\"pdf\",\n",
        "        num=5,\n",
        "        learning_objective=\"Types of Biases\",\n",
        "    )\n",
        "\n",
        "url_mcqs.show()"
      ]
    },
    {
      "cell_type": "markdown",
      "metadata": {
        "id": "hWLF6CEMV0p4"
      },
      "source": [
        "###Generate Questions From Data Using Claude"
      ]
    },
    {
      "cell_type": "code",
      "execution_count": null,
      "metadata": {
        "colab": {
          "base_uri": "https://localhost:8080/",
          "height": 365
        },
        "id": "yhQdmK7EV0p4",
        "outputId": "cb35c3c6-424d-4a0f-e9b6-7d5065493a9e"
      },
      "outputs": [],
      "source": [
        "from educhain import Educhain\n",
        "\n",
        "Claude_config = LLMConfig(custom_model=claude)\n",
        "\n",
        "client = Educhain(Claude_config)\n",
        "\n",
        "url_mcqs = client.qna_engine.generate_questions_from_data(\n",
        "        source=\"https://www.buildfastwithai.com/\",\n",
        "        source_type=\"url\",\n",
        "        num=5,\n",
        "    )\n",
        "\n",
        "url_mcqs.show()"
      ]
    }
  ],
  "metadata": {
    "colab": {
      "provenance": []
    },
    "kernelspec": {
      "display_name": "Python 3",
      "name": "python3"
    },
    "language_info": {
      "name": "python"
    }
  },
  "nbformat": 4,
  "nbformat_minor": 0
}
