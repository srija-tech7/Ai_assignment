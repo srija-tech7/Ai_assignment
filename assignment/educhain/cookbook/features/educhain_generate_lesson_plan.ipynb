{
  "cells": [
    {
      "cell_type": "markdown",
      "metadata": {
        "id": "H7prUGJiRQJE"
      },
      "source": [
        "## Generate Lesson Plan using [Educhain](https://github.com/satvik314/educhain)"
      ]
    },
    {
      "cell_type": "markdown",
      "metadata": {
        "id": "W5XFMaNlRMwZ"
      },
      "source": [
        "<img src=\"https://github.com/Shubhwithai/GRE_Geometry_quiz/blob/main/Group%2042.png?raw=true\" width=\"\" height=\"50\">\n",
        "\n",
        "[![Open In Colab](https://colab.research.google.com/assets/colab-badge.svg)](https://colab.research.google.com/drive/1XaWc8nS2sZigpJG-r2DOdzfRZlXk3xvt?usp=sharing)"
      ]
    },
    {
      "cell_type": "markdown",
      "metadata": {
        "id": "vzX5-viBTIfw"
      },
      "source": [
        "Explore the power of AI-driven education with Educhain! This notebook demonstrates how to create high-quality Lesson Plans from various topics using the Educhain package.\n",
        "\n",
        "Key Features:\n",
        "- Customize prompts according to your need\n",
        "- Export lesson plan to CSV, JSON, or PDF formats\n",
        "- Leverage advanced language models for lesson plan generation\n",
        "\n",
        "Perfect for educators, content creators, and e-learning developers looking to automate and enhance their lesson plan creation process. Dive in to revolutionize your approach to educational content generation!"
      ]
    },
    {
      "cell_type": "markdown",
      "metadata": {
        "id": "0XbLsDi-Ibld"
      },
      "source": [
        "###**Setup and Installation**"
      ]
    },
    {
      "cell_type": "code",
      "execution_count": null,
      "metadata": {
        "id": "2nNPwCZoTHb6"
      },
      "outputs": [],
      "source": [
        "!pip install educhain"
      ]
    },
    {
      "cell_type": "markdown",
      "metadata": {
        "id": "WeF0Sm75IfJ2"
      },
      "source": [
        "###**Setup API Keys**"
      ]
    },
    {
      "cell_type": "code",
      "execution_count": 2,
      "metadata": {
        "id": "KgLAsaAOTlR6"
      },
      "outputs": [],
      "source": [
        "# Set up your OpenAI API key\n",
        "import os\n",
        "from google.colab import userdata\n",
        "\n",
        "os.environ[\"OPENAI_API_KEY\"] = userdata.get('OPENAI_API_KEY_2')"
      ]
    },
    {
      "cell_type": "markdown",
      "metadata": {
        "id": "rxw33I5IUpSa"
      },
      "source": [
        "## Generate lesson plan"
      ]
    },
    {
      "cell_type": "code",
      "execution_count": null,
      "metadata": {
        "id": "vumbAeXHUhwc"
      },
      "outputs": [],
      "source": [
        "from educhain import Educhain\n",
        "\n",
        "client = Educhain()\n",
        "\n",
        "plan = client.content_engine.generate_lesson_plan(\n",
        "    topic = \"Newton's Law of Motion\"\n",
        "    )\n",
        "\n",
        "plan.show()"
      ]
    },
    {
      "cell_type": "markdown",
      "metadata": {
        "id": "1ee4iyMdVwD6"
      },
      "source": [
        "## Generate Lesson Plan with **custom instructions**"
      ]
    },
    {
      "cell_type": "code",
      "execution_count": null,
      "metadata": {
        "id": "O6P8t_rjUzXS"
      },
      "outputs": [],
      "source": [
        "from educhain import Educhain\n",
        "\n",
        "client = Educhain()\n",
        "\n",
        "plan = client.content_engine.generate_lesson_plan(\n",
        "    topic = \"Photosynthesis\",\n",
        "    custom_instructions = \"Include hands-on activities like creating a mini greenhouse and real-world applications in farming.\"\n",
        ")\n",
        "\n",
        "plan.show()"
      ]
    },
    {
      "cell_type": "markdown",
      "metadata": {},
      "source": [
        "###Generate Lesson Plans Using Custum Prompt Template"
      ]
    },
    {
      "cell_type": "code",
      "execution_count": null,
      "metadata": {},
      "outputs": [],
      "source": [
        "from educhain import Educhain\n",
        "\n",
        "# Initialize the Educhain client\n",
        "client = Educhain()\n",
        "\n",
        "# Define your custom prompt template\n",
        "prompt_template = '''\n",
        "Create a comprehensive study guide for the following topic:\n",
        "Topic: {topic}\n",
        "Difficulty Level: {difficulty_level}\n",
        "\n",
        "The study guide should be engaging, well-structured, and suitable for self-study or classroom use.\n",
        "Include the following elements in your response:\n",
        "\n",
        "1. Difficulty level and estimated study time\n",
        "2. Prerequisites (if any)\n",
        "3. Clear learning objectives (3-5 specific, measurable objectives)\n",
        "4. Comprehensive overview of the topic\n",
        "5. Key concepts with detailed explanations\n",
        "6. Important dates and events (if applicable)\n",
        "7. Practice exercises formatted as:\n",
        "\"practice_exercises\": [\n",
        "    {{\n",
        "        \"title\": \"Exercise Title\",\n",
        "        \"problem\": \"Detailed problem description\",\n",
        "        \"solution\": \"Step-by-step solution\",\n",
        "        \"difficulty\": \"beginner|intermediate|advanced\"\n",
        "    }}\n",
        "]\n",
        "8. Real-world case studies formatted as:\n",
        "\"case_studies\": [\n",
        "    {{\n",
        "        \"title\": \"Case Study Title\",\n",
        "        \"scenario\": \"Description of the real-world situation\",\n",
        "        \"challenge\": \"Specific problems or challenges faced\",\n",
        "        \"solution\": \"How the challenges were addressed\",\n",
        "        \"outcome\": \"Results and impact\",\n",
        "        \"lessons_learned\": [\"Key lesson 1\", \"Key lesson 2\"],\n",
        "        \"related_concepts\": [\"Concept 1\", \"Concept 2\"]\n",
        "    }}\n",
        "]\n",
        "9. Study tips and strategies specific to the topic\n",
        "10. Additional resources for deeper learning\n",
        "11. Brief summary of key takeaways\n",
        "\n",
        "For the case studies:\n",
        "- Include at least one detailed real-world example\n",
        "- Focus on recent and relevant scenarios\n",
        "- Highlight practical applications of the concepts\n",
        "- Connect the case study to specific learning objectives\n",
        "- Emphasize problem-solving approaches\n",
        "- Include both successes and lessons learned\n",
        "- Make sure the examples are appropriate for the difficulty level\n",
        "\n",
        "Make sure all content is hands-on and directly related to real-world applications of {topic}.\n",
        "The study guide should accommodate different learning styles and include various types of learning activities.\n",
        "\n",
        "The response should be in JSON format.\n",
        "{format_instructions}\n",
        "'''\n",
        "\n",
        "\n",
        "# Generate the study guide using the custom prompt template\n",
        "plan = client.content_engine.generate_study_guide(\n",
        "    topic=\"Introduction to Blockchain\",\n",
        "    difficulty_level=\"Intermediate\",\n",
        "    prompt_template=prompt_template\n",
        ")\n",
        "\n",
        "# Display the study guide in text format\n",
        "plan.show(format=\"text\")"
      ]
    },
    {
      "cell_type": "markdown",
      "metadata": {
        "id": "BRxUTGPHWrEY"
      },
      "source": [
        "## Using Different LLMs\n",
        "\n",
        "Switch from OpenAI to any other LLM using Custum LLM Config"
      ]
    },
    {
      "cell_type": "code",
      "execution_count": 7,
      "metadata": {
        "colab": {
          "base_uri": "https://localhost:8080/"
        },
        "id": "jFxq50JwW30N",
        "outputId": "06e4b449-295c-429d-e949-dc64db293ec0"
      },
      "outputs": [
        {
          "name": "stdout",
          "output_type": "stream",
          "text": [
            "\u001b[?25l   \u001b[90m━━━━━━━━━━━━━━━━━━━━━━━━━━━━━━━━━━━━━━━━\u001b[0m \u001b[32m0.0/44.8 kB\u001b[0m \u001b[31m?\u001b[0m eta \u001b[36m-:--:--\u001b[0m\r\u001b[2K   \u001b[90m━━━━━━━━━━━━━━━━━━━━━━━━━━━━━━━━━━━━━━━━\u001b[0m \u001b[32m44.8/44.8 kB\u001b[0m \u001b[31m1.7 MB/s\u001b[0m eta \u001b[36m0:00:00\u001b[0m\n",
            "\u001b[?25h\u001b[?25l   \u001b[90m━━━━━━━━━━━━━━━━━━━━━━━━━━━━━━━━━━━━━━━━\u001b[0m \u001b[32m0.0/286.1 kB\u001b[0m \u001b[31m?\u001b[0m eta \u001b[36m-:--:--\u001b[0m\r\u001b[2K   \u001b[91m━━━━━━━━━━━━━━━━━━━━━━━━━━━━━━━━━━━━━━\u001b[0m\u001b[91m╸\u001b[0m\u001b[90m━\u001b[0m \u001b[32m276.5/286.1 kB\u001b[0m \u001b[31m13.3 MB/s\u001b[0m eta \u001b[36m0:00:01\u001b[0m\r\u001b[2K   \u001b[90m━━━━━━━━━━━━━━━━━━━━━━━━━━━━━━━━━━━━━━━━\u001b[0m \u001b[32m286.1/286.1 kB\u001b[0m \u001b[31m7.7 MB/s\u001b[0m eta \u001b[36m0:00:00\u001b[0m\n",
            "\u001b[?25h"
          ]
        }
      ],
      "source": [
        "!pip install -qU langchain-google-genai langchain-anthropic"
      ]
    },
    {
      "cell_type": "markdown",
      "metadata": {
        "id": "QP52r3WZLzMF"
      },
      "source": [
        "###Configure the Models"
      ]
    },
    {
      "cell_type": "code",
      "execution_count": 17,
      "metadata": {
        "id": "IWf9zkHAKUAz"
      },
      "outputs": [],
      "source": [
        "from langchain_google_genai import ChatGoogleGenerativeAI\n",
        "from educhain import Educhain, LLMConfig\n",
        "from langchain_openai import ChatOpenAI\n",
        "from langchain_anthropic import ChatAnthropic\n",
        "from google.colab import userdata\n",
        "\n",
        "# Using gpt-4.1\n",
        "gpt4_model = ChatOpenAI(\n",
        "    model_name=\"gpt-4.1\",\n",
        "    openai_api_key=userdata.get(\"OPENAI_API_KEY_2\")\n",
        ")\n",
        "\n",
        "#Using Gemini-2.0-flash\n",
        "gemini_flash = ChatGoogleGenerativeAI(\n",
        "    model=\"gemini-2.0-flash\",\n",
        "    google_api_key=userdata.get(\"GOOGLE_API_KEY\")\n",
        "    )\n",
        "\n",
        "#Using llama-3.3-70b-versatile\n",
        "llama3_groq = ChatOpenAI(\n",
        "    model=\"llama-3.3-70b-versatile\",\n",
        "    openai_api_base=\"https://api.groq.com/openai/v1\",\n",
        "    openai_api_key=userdata.get(\"GROQ_API_KEY\")\n",
        ")\n",
        "\n",
        "#Using claude-3-7-sonnet\n",
        "claude = ChatAnthropic(model='claude-3-7-sonnet-20250219',\n",
        "        api_key=userdata.get(\"ANTHROPIC_API_KEY\")\n",
        "\n",
        ")"
      ]
    },
    {
      "cell_type": "markdown",
      "metadata": {
        "id": "-8CJFYynL6NC"
      },
      "source": [
        "###Genrate Lesson Plan using Gemini"
      ]
    },
    {
      "cell_type": "code",
      "execution_count": null,
      "metadata": {
        "id": "0o1gTnHLWWmC"
      },
      "outputs": [],
      "source": [
        "from langchain_google_genai import ChatGoogleGenerativeAI\n",
        "from educhain import Educhain, LLMConfig\n",
        "\n",
        "flash_config = LLMConfig(custom_model=gemini_flash)\n",
        "client = Educhain(flash_config) #using gemini model with educhain\n",
        "\n",
        "plan = client.content_engine.generate_lesson_plan(\n",
        "    topic = \"Newton's Law of Motion\"\n",
        ")\n",
        "\n",
        "plan.show()"
      ]
    },
    {
      "cell_type": "markdown",
      "metadata": {
        "id": "WXB37FCUMJGt"
      },
      "source": [
        "###Genrate Lesson Plan using Llama 3\n"
      ]
    },
    {
      "cell_type": "code",
      "execution_count": null,
      "metadata": {
        "id": "n-f6QcQkX8JV"
      },
      "outputs": [],
      "source": [
        "from langchain_google_genai import ChatGoogleGenerativeAI\n",
        "from educhain import Educhain, LLMConfig\n",
        "\n",
        "groq_config = LLMConfig(custom_model=llama3_groq)\n",
        "client = Educhain(groq_config) #using Llama 3 model with educhain\n",
        "\n",
        "plan = client.content_engine.generate_lesson_plan(\n",
        "    topic = \"Introduction to Fractions\",\n",
        "    custom_instructions = \"Make it interactive with games, puzzles, and group challenges, using food items like pizza or chocolate bars as examples.\"\n",
        "\n",
        ")\n",
        "\n",
        "plan.show()"
      ]
    },
    {
      "cell_type": "markdown",
      "metadata": {
        "id": "LTkvRS5gNYBw"
      },
      "source": [
        "###Genrate Lesson Plan using Claude\n"
      ]
    },
    {
      "cell_type": "code",
      "execution_count": null,
      "metadata": {
        "colab": {
          "base_uri": "https://localhost:8080/",
          "height": 382
        },
        "id": "odXtuZMTM77k",
        "outputId": "6e5b6ce6-30fc-455a-8d0f-e986ba200395"
      },
      "outputs": [],
      "source": [
        "from langchain_google_genai import ChatGoogleGenerativeAI\n",
        "from educhain import Educhain, LLMConfig\n",
        "\n",
        "claude_config = LLMConfig(custom_model=claude)\n",
        "client = Educhain(claude_config) #using claude model with educhain\n",
        "\n",
        "plan = client.content_engine.generate_lesson_plan(\n",
        "    topic = \"Human Digestive System\",\n",
        "    custom_instructions = \"Include real-life examples, such as diet impact, and activities like building a digestive system model using everyday items.\"\n",
        ")\n",
        "\n",
        "plan.show()"
      ]
    }
  ],
  "metadata": {
    "colab": {
      "provenance": []
    },
    "kernelspec": {
      "display_name": "Python 3",
      "name": "python3"
    },
    "language_info": {
      "name": "python"
    }
  },
  "nbformat": 4,
  "nbformat_minor": 0
}
