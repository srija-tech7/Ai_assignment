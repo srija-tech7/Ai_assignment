{
  "nbformat": 4,
  "nbformat_minor": 0,
  "metadata": {
    "colab": {
      "provenance": []
    },
    "kernelspec": {
      "name": "python3",
      "display_name": "Python 3"
    },
    "language_info": {
      "name": "python"
    }
  },
  "cells": [
    {
      "cell_type": "markdown",
      "source": [
        "#Generate Flashcards Using Educhain\n"
      ],
      "metadata": {
        "id": "RfjAq73ApZ4o"
      }
    },
    {
      "cell_type": "markdown",
      "source": [
        "<img src=\"https://github.com/Shubhwithai/GRE_Geometry_quiz/blob/main/Group%2042.png?raw=true\" width=\"\" height=\"50\">\n",
        "\n",
        "[![Open In Colab](https://colab.research.google.com/assets/colab-badge.svg)](https://colab.research.google.com/drive/1jDSB4tl-tk4hMnHN1X00ge776IHghRN_?usp=sharing)"
      ],
      "metadata": {
        "id": "Oy3TJGVwpQuJ"
      }
    },
    {
      "cell_type": "markdown",
      "source": [
        "##📚 Explore the Power of AI-Driven Flashcards with Educhain!\n",
        "This notebook demonstrates how to create engaging, accurate, and interactive Flashcards using the Educhain package. Perfect for teachers, students, content creators, and e-learning platforms looking to automate study material creation!\n",
        "\n"
      ],
      "metadata": {
        "id": "U2L0HzzUkJ2V"
      }
    },
    {
      "cell_type": "markdown",
      "source": [
        "####🏆 Key Features of Educhain Flashcard Generator\n",
        "✅ Automatic Flashcard Generation: Create sets of flashcards from any topic with just a few lines of code.\n",
        "\n",
        "✅ Custom Prompts: Fine-tune the style, depth, and focus of your flashcards with custom instructions or templates.\n",
        "\n",
        "✅ Flexible Output: Get flashcards in structured JSON format, ready for use in apps, websites, or e-learning platforms.\n",
        "\n",
        "✅ Multi-Disciplinary Support: Generate flashcards on any topic – from science and math to business, coding, and languages.\n",
        "\n",
        "✅ Learning-Friendly: Flashcards include questions, answers, and optional explanations to enhance understanding.\n"
      ],
      "metadata": {
        "id": "gGvhrQ5o7w5H"
      }
    },
    {
      "cell_type": "markdown",
      "source": [
        "###**Setup and Installation**"
      ],
      "metadata": {
        "id": "HoPWahkWpnmN"
      }
    },
    {
      "cell_type": "code",
      "execution_count": null,
      "metadata": {
        "id": "rYs8Szr1nuJL"
      },
      "outputs": [],
      "source": [
        "!pip install -U educhain --quiet"
      ]
    },
    {
      "cell_type": "markdown",
      "source": [
        "###**Setup API Keys**"
      ],
      "metadata": {
        "id": "Z9av5qGDpvoy"
      }
    },
    {
      "cell_type": "code",
      "source": [
        "# Set up your OpenAI API key\n",
        "import os\n",
        "from google.colab import userdata\n",
        "\n",
        "os.environ[\"OPENAI_API_KEY\"] = userdata.get('OPENAI_API_KEY_2')"
      ],
      "metadata": {
        "id": "V4DRv7Udn1ZS"
      },
      "execution_count": 2,
      "outputs": []
    },
    {
      "cell_type": "markdown",
      "source": [
        "## Use Cases 🧰\n",
        "\n",
        "- Students studying for tests\n",
        "- Teachers making lesson materials\n",
        "- Self-study on any topic\n",
        "- Corporate training materials"
      ],
      "metadata": {
        "id": "SIr7-NmwkSTs"
      }
    },
    {
      "cell_type": "code",
      "source": [
        "from educhain import Educhain\n",
        "import json\n",
        "\n",
        "client = Educhain()\n",
        "\n",
        "flashcard_set = client.content_engine.generate_flashcards(\n",
        "    topic=\"Python Basics\"\n",
        ")\n",
        "\n",
        "flashcard_set.model_dump()"
      ],
      "metadata": {
        "id": "l5Z-SAQgn4UF",
        "colab": {
          "base_uri": "https://localhost:8080/"
        },
        "outputId": "0df824e5-2506-4c22-ab36-05baee2fe8aa"
      },
      "execution_count": 12,
      "outputs": [
        {
          "output_type": "execute_result",
          "data": {
            "text/plain": [
              "{'title': 'Python Basics',\n",
              " 'flashcards': [{'front': 'What is Python?',\n",
              "   'back': 'Python is a high-level, interpreted programming language known for its readability and versatility.',\n",
              "   'explanation': 'Python is used in various domains including web development, data analysis, artificial intelligence, and more.'},\n",
              "  {'front': 'What are variables in Python?',\n",
              "   'back': 'Variables are containers for storing data values.',\n",
              "   'explanation': 'In Python, you can create a variable by simply assigning a value to a name, e.g., `x = 5`.'},\n",
              "  {'front': 'What is a list in Python?',\n",
              "   'back': 'A list is a collection of items that are ordered and changeable, and allows duplicate members.',\n",
              "   'explanation': 'Lists are defined using square brackets, e.g., `my_list = [1, 2, 3]`.'},\n",
              "  {'front': 'What is a function in Python?',\n",
              "   'back': 'A function is a block of reusable code that performs a specific task.',\n",
              "   'explanation': 'Functions are defined using the `def` keyword, e.g., `def my_function():`.'},\n",
              "  {'front': 'What are loops in Python?',\n",
              "   'back': 'Loops are used to execute a block of code repeatedly.',\n",
              "   'explanation': 'The two primary types of loops in Python are `for` loops and `while` loops.'},\n",
              "  {'front': 'What is a dictionary in Python?',\n",
              "   'back': 'A dictionary is a collection of key-value pairs that is unordered, changeable, and indexed.',\n",
              "   'explanation': \"Dictionaries are defined using curly braces, e.g., `my_dict = {'key': 'value'}`.\"},\n",
              "  {'front': \"What does the 'if' statement do?\",\n",
              "   'back': \"The 'if' statement is used for conditional execution of code blocks.\",\n",
              "   'explanation': 'You can use `elif` and `else` to add additional conditions.'},\n",
              "  {'front': 'What are tuples in Python?',\n",
              "   'back': 'A tuple is a collection that is ordered and unchangeable, and allows duplicate members.',\n",
              "   'explanation': 'Tuples are defined using parentheses, e.g., `my_tuple = (1, 2, 3)`.'},\n",
              "  {'front': 'What is a module in Python?',\n",
              "   'back': 'A module is a file containing Python code that can define functions, classes, and variables.',\n",
              "   'explanation': 'You can import modules in your code using the `import` statement.'},\n",
              "  {'front': 'What is the purpose of comments in Python?',\n",
              "   'back': 'Comments are used to explain code and are ignored during execution.',\n",
              "   'explanation': 'In Python, single-line comments start with `#`, and multi-line comments are enclosed in triple quotes.'}]}"
            ]
          },
          "metadata": {},
          "execution_count": 12
        }
      ]
    },
    {
      "cell_type": "markdown",
      "source": [
        "##Show Flashcard"
      ],
      "metadata": {
        "id": "oXDFTzZE4Mqm"
      }
    },
    {
      "cell_type": "code",
      "source": [
        "# Loop through each flashcard and print the 'front' and 'back' attributes\n",
        "for flashcard in flashcard_set.flashcards:\n",
        "    print(\"Front:\", flashcard.front)\n",
        "    print(\"Back:\", flashcard.back)\n",
        "    print()  # Blank line for better readability"
      ],
      "metadata": {
        "colab": {
          "base_uri": "https://localhost:8080/"
        },
        "id": "uLtpGhlajYLL",
        "outputId": "85fc88ff-15a4-4a80-83b2-b9a5be87547c"
      },
      "execution_count": 10,
      "outputs": [
        {
          "output_type": "stream",
          "name": "stdout",
          "text": [
            "Front: What is a variable in Python?\n",
            "Back: A variable is a reserved memory location to store values.\n",
            "\n",
            "Front: What is a list in Python?\n",
            "Back: A list is a mutable, ordered collection of items.\n",
            "\n",
            "Front: How do you define a function in Python?\n",
            "Back: A function is defined using the 'def' keyword followed by the function name and parentheses.\n",
            "\n",
            "Front: What does 'if __name__ == \"__main__\":' do?\n",
            "Back: It checks if the script is being run directly, not imported as a module.\n",
            "\n",
            "Front: What is a dictionary in Python?\n",
            "Back: A dictionary is an unordered collection of key-value pairs.\n",
            "\n",
            "Front: What is a loop in Python?\n",
            "Back: A loop is a control structure that repeats a block of code multiple times.\n",
            "\n",
            "Front: What does 'import' do in Python?\n",
            "Back: The 'import' statement is used to include external modules into your Python script.\n",
            "\n",
            "Front: What is a string in Python?\n",
            "Back: A string is a sequence of characters wrapped in single or double quotes.\n",
            "\n",
            "Front: What is an exception in Python?\n",
            "Back: An exception is an error that occurs during the execution of a program.\n",
            "\n",
            "Front: What is a module in Python?\n",
            "Back: A module is a file containing Python code that can define functions, classes, and variables.\n",
            "\n"
          ]
        }
      ]
    },
    {
      "cell_type": "markdown",
      "source": [
        "### Flashcrad With Custom Instructions"
      ],
      "metadata": {
        "id": "wlVtVBVI4tqT"
      }
    },
    {
      "cell_type": "code",
      "source": [
        "flashcard_set = client.content_engine.generate_flashcards(\n",
        "    topic=\"World War II\",\n",
        "    custom_instructions=\"Focus on key events and historical figures. Include dates where relevant. Use concise definitions.\"\n",
        ")\n",
        "\n",
        "flashcard_set.model_dump()"
      ],
      "metadata": {
        "id": "NfewjoaDjb0A",
        "colab": {
          "base_uri": "https://localhost:8080/"
        },
        "outputId": "c1dfb5d8-a3bb-49a0-d4a2-c66ae225d50b"
      },
      "execution_count": 13,
      "outputs": [
        {
          "output_type": "execute_result",
          "data": {
            "text/plain": [
              "{'title': 'World War II Flashcards',\n",
              " 'flashcards': [{'front': 'What event marked the beginning of World War II?',\n",
              "   'back': 'The invasion of Poland by Germany on September 1, 1939.',\n",
              "   'explanation': 'This invasion prompted Britain and France to declare war on Germany, officially starting the conflict.'},\n",
              "  {'front': 'Who were the main Axis Powers?',\n",
              "   'back': 'Germany, Italy, and Japan.',\n",
              "   'explanation': 'These countries formed military alliances against the Allied Powers during the war.'},\n",
              "  {'front': 'What was the significance of the Battle of Stalingrad?',\n",
              "   'back': 'It was a turning point in the war on the Eastern Front, with a major Soviet victory over Germany.',\n",
              "   'explanation': 'Fought between August 1942 and February 1943, this battle marked the beginning of a series of Soviet offensives that would push German forces back.'},\n",
              "  {'front': 'What was the Holocaust?',\n",
              "   'back': 'The systematic genocide of six million Jews and millions of others by the Nazi regime.',\n",
              "   'explanation': 'This atrocity occurred during World War II, with concentration camps being used for mass extermination.'},\n",
              "  {'front': 'What was D-Day?',\n",
              "   'back': 'The Allied invasion of Normandy on June 6, 1944.',\n",
              "   'explanation': 'This operation marked the beginning of the liberation of Western Europe from Nazi occupation.'},\n",
              "  {'front': 'Who was the Prime Minister of the United Kingdom during most of World War II?',\n",
              "   'back': 'Winston Churchill.',\n",
              "   'explanation': 'Churchill led Britain through its darkest hours and was known for his inspiring speeches and steadfast leadership.'},\n",
              "  {'front': 'What was the Manhattan Project?',\n",
              "   'back': 'A secret U.S. project to develop atomic bombs during World War II.',\n",
              "   'explanation': 'The project led to the creation of the bombs dropped on Hiroshima and Nagasaki in August 1945.'},\n",
              "  {'front': 'What was the outcome of the Battle of Midway?',\n",
              "   'back': 'A decisive naval victory for the United States against Japan.',\n",
              "   'explanation': 'Fought in June 1942, this battle significantly weakened the Japanese fleet and shifted the balance of power in the Pacific.'},\n",
              "  {'front': 'What were the Nuremberg Trials?',\n",
              "   'back': 'Military tribunals held to prosecute Nazi war criminals after World War II.',\n",
              "   'explanation': 'These trials set precedents for handling war crimes and were held from 1945 to 1946.'},\n",
              "  {'front': 'When did World War II officially end?',\n",
              "   'back': 'September 2, 1945.',\n",
              "   'explanation': 'This date marks the formal surrender of Japan, following the atomic bombings and the Soviet declaration of war.'}]}"
            ]
          },
          "metadata": {},
          "execution_count": 13
        }
      ]
    },
    {
      "cell_type": "markdown",
      "source": [
        "##Show Flashcard"
      ],
      "metadata": {
        "id": "hdjji6QA5KS4"
      }
    },
    {
      "cell_type": "code",
      "source": [
        "# Loop through each flashcard and print the 'front' and 'back' attributes\n",
        "for flashcard in flashcard_set.flashcards:\n",
        "    print(\"Front:\", flashcard.front)\n",
        "    print(\"Back:\", flashcard.back)\n",
        "    print()  # Blank line for better readability"
      ],
      "metadata": {
        "id": "eMSJPcgxxCMs",
        "colab": {
          "base_uri": "https://localhost:8080/"
        },
        "outputId": "4300fb3b-922d-4f32-dc11-b16347a08c15"
      },
      "execution_count": 14,
      "outputs": [
        {
          "output_type": "stream",
          "name": "stdout",
          "text": [
            "Front: What event marked the beginning of World War II?\n",
            "Back: The invasion of Poland by Germany on September 1, 1939.\n",
            "\n",
            "Front: Who were the main Axis Powers?\n",
            "Back: Germany, Italy, and Japan.\n",
            "\n",
            "Front: What was the significance of the Battle of Stalingrad?\n",
            "Back: It was a turning point in the war on the Eastern Front, with a major Soviet victory over Germany.\n",
            "\n",
            "Front: What was the Holocaust?\n",
            "Back: The systematic genocide of six million Jews and millions of others by the Nazi regime.\n",
            "\n",
            "Front: What was D-Day?\n",
            "Back: The Allied invasion of Normandy on June 6, 1944.\n",
            "\n",
            "Front: Who was the Prime Minister of the United Kingdom during most of World War II?\n",
            "Back: Winston Churchill.\n",
            "\n",
            "Front: What was the Manhattan Project?\n",
            "Back: A secret U.S. project to develop atomic bombs during World War II.\n",
            "\n",
            "Front: What was the outcome of the Battle of Midway?\n",
            "Back: A decisive naval victory for the United States against Japan.\n",
            "\n",
            "Front: What were the Nuremberg Trials?\n",
            "Back: Military tribunals held to prosecute Nazi war criminals after World War II.\n",
            "\n",
            "Front: When did World War II officially end?\n",
            "Back: September 2, 1945.\n",
            "\n"
          ]
        }
      ]
    },
    {
      "cell_type": "markdown",
      "source": [
        "# Generate Flashcards With Custom Prompt Template\n"
      ],
      "metadata": {
        "id": "1NDW4YT35Ovy"
      }
    },
    {
      "cell_type": "code",
      "source": [
        "custom_template = \"\"\"\n",
        "Generate {num} flashcards on the topic: {topic}.\n",
        "\n",
        "Each flashcard should:\n",
        "- Present a scenario or problem on the front side.\n",
        "- Provide the solution or explanation on the back.\n",
        "- Include a brief explanation linking the concept to real-world applications.\n",
        "\n",
        "The response should be in JSON format.\n",
        "{format_instructions}\n",
        "\"\"\"\n",
        "\n",
        "flashcard_set = client.content_engine.generate_flashcards(\n",
        "    topic=\"Cybersecurity\",\n",
        "    num=5,\n",
        "    prompt_template=custom_template\n",
        ")\n",
        "\n",
        "flashcard_set.model_dump()"
      ],
      "metadata": {
        "colab": {
          "base_uri": "https://localhost:8080/"
        },
        "id": "bYu1VZVf5NLS",
        "outputId": "6a477a59-e5f4-4c44-d862-9cca113380dd"
      },
      "execution_count": 15,
      "outputs": [
        {
          "output_type": "execute_result",
          "data": {
            "text/plain": [
              "{'title': 'Cybersecurity Flashcards',\n",
              " 'flashcards': [{'front': 'A company receives a suspicious email asking employees to reset their passwords. What should they do?',\n",
              "   'back': \"Employees should not click on any links or provide any information. The company should verify the email's authenticity using known contacts.\",\n",
              "   'explanation': 'This scenario highlights the importance of recognizing phishing attacks, which are common in the workplace and can lead to data breaches.'},\n",
              "  {'front': \"An employee's laptop is stolen. What immediate actions should be taken to protect company data?\",\n",
              "   'back': 'The company should remotely wipe the laptop if possible, change passwords for accounts accessed from that device, and notify affected parties.',\n",
              "   'explanation': 'This emphasizes the need for data encryption and remote wipe capabilities to safeguard sensitive information in case of theft.'},\n",
              "  {'front': 'A small business is concerned about potential cyber threats but has a limited budget. What can they do?',\n",
              "   'back': 'Implement basic cybersecurity measures such as strong passwords, regular software updates, and employee training on security best practices.',\n",
              "   'explanation': \"This illustrates that effective cybersecurity doesn't always require a large budget, but rather smart practices that can significantly reduce risk.\"},\n",
              "  {'front': 'A website experiences a sudden surge in traffic and becomes unresponsive. What could be happening?',\n",
              "   'back': 'The site may be experiencing a Distributed Denial of Service (DDoS) attack, where multiple systems are used to flood the site with requests.',\n",
              "   'explanation': 'Understanding DDoS attacks is crucial for businesses, as they can disrupt operations and require planning and resources to mitigate.'},\n",
              "  {'front': 'A user receives a warning that their antivirus software is out of date. Should they update it?',\n",
              "   'back': 'Yes, they should update their antivirus software immediately to ensure protection against the latest threats and vulnerabilities.',\n",
              "   'explanation': 'Keeping antivirus software up to date is a vital practice for personal and organizational cybersecurity to defend against evolving threats.'}]}"
            ]
          },
          "metadata": {},
          "execution_count": 15
        }
      ]
    },
    {
      "cell_type": "markdown",
      "source": [
        "##Show Flashcard"
      ],
      "metadata": {
        "id": "99XAjzmO5at_"
      }
    },
    {
      "cell_type": "code",
      "source": [
        "# Loop through each flashcard and print the 'front' and 'back' attributes\n",
        "for flashcard in flashcard_set.flashcards:\n",
        "    print(\"Front:\", flashcard.front)\n",
        "    print(\"Back:\", flashcard.back)\n",
        "    print()  # Blank line for better readability"
      ],
      "metadata": {
        "colab": {
          "base_uri": "https://localhost:8080/"
        },
        "outputId": "8ace6a24-a28f-4d61-d557-55e362a2eb31",
        "id": "U0x5Z6xL5at_"
      },
      "execution_count": 16,
      "outputs": [
        {
          "output_type": "stream",
          "name": "stdout",
          "text": [
            "Front: A company receives a suspicious email asking employees to reset their passwords. What should they do?\n",
            "Back: Employees should not click on any links or provide any information. The company should verify the email's authenticity using known contacts.\n",
            "\n",
            "Front: An employee's laptop is stolen. What immediate actions should be taken to protect company data?\n",
            "Back: The company should remotely wipe the laptop if possible, change passwords for accounts accessed from that device, and notify affected parties.\n",
            "\n",
            "Front: A small business is concerned about potential cyber threats but has a limited budget. What can they do?\n",
            "Back: Implement basic cybersecurity measures such as strong passwords, regular software updates, and employee training on security best practices.\n",
            "\n",
            "Front: A website experiences a sudden surge in traffic and becomes unresponsive. What could be happening?\n",
            "Back: The site may be experiencing a Distributed Denial of Service (DDoS) attack, where multiple systems are used to flood the site with requests.\n",
            "\n",
            "Front: A user receives a warning that their antivirus software is out of date. Should they update it?\n",
            "Back: Yes, they should update their antivirus software immediately to ensure protection against the latest threats and vulnerabilities.\n",
            "\n"
          ]
        }
      ]
    },
    {
      "cell_type": "markdown",
      "source": [
        "# Generate Flashcards With Both Custom Instructions & Template\n"
      ],
      "metadata": {
        "id": "6mdloV_f5hxj"
      }
    },
    {
      "cell_type": "code",
      "source": [
        "custom_template = \"\"\"\n",
        "Generate {num} flashcards on {topic}. Each flashcard should:\n",
        "- Contain a thought-provoking question on the front.\n",
        "- The back should explain the answer in simple terms.\n",
        "- Add an example or fun fact to engage learners.\n",
        "\n",
        "The response must be in JSON format.\n",
        "{format_instructions}\n",
        "\"\"\"\n",
        "\n",
        "flashcard_set = client.content_engine.generate_flashcards(\n",
        "    topic=\"Artificial Intelligence\",\n",
        "    num=7,\n",
        "    prompt_template=custom_template,\n",
        "    custom_instructions=\"Make the flashcards beginner-friendly and focus on current AI trends.\"\n",
        ")\n",
        "\n",
        "flashcard_set.model_dump_json()"
      ],
      "metadata": {
        "colab": {
          "base_uri": "https://localhost:8080/",
          "height": 143
        },
        "id": "nEAHWBQv5lyw",
        "outputId": "e8344f7d-7a14-43a1-e356-82f8ea00bce6"
      },
      "execution_count": 17,
      "outputs": [
        {
          "output_type": "execute_result",
          "data": {
            "text/plain": [
              "'{\"title\":\"Artificial Intelligence Basics\",\"flashcards\":[{\"front\":\"What is Artificial Intelligence?\",\"back\":\"Artificial Intelligence (AI) refers to computer systems that can perform tasks that normally require human intelligence, such as understanding natural language, recognizing patterns, and solving problems.\",\"explanation\":\"AI enables machines to mimic cognitive functions.\"},{\"front\":\"How does machine learning relate to AI?\",\"back\":\"Machine learning is a subset of AI that allows systems to learn from data and improve their performance over time without being explicitly programmed.\",\"explanation\":\"In machine learning, algorithms recognize patterns in data.\"},{\"front\":\"What is neural networks in AI?\",\"back\":\"Neural networks are a type of machine learning model inspired by the human brain, consisting of layers of interconnected nodes (neurons) that process data.\",\"explanation\":\"They are particularly good at recognizing complex patterns.\"},{\"front\":\"What are some ethical concerns surrounding AI?\",\"back\":\"Ethical concerns include privacy issues, job displacement, and potential bias in AI decision-making, which can affect fairness.\",\"explanation\":\"It\\'s important to ensure AI is developed responsibly.\"},{\"front\":\"What is the Turing Test?\",\"back\":\"The Turing Test is a measure of a machine\\'s ability to exhibit intelligent behavior indistinguishable from that of a human.\",\"explanation\":\"If a person can\\'t tell if they\\'re interacting with a machine or a human, the machine passes the test.\"},{\"front\":\"How is AI used in healthcare?\",\"back\":\"AI is used in healthcare for diagnostics, personalized medicine, and analyzing medical data to improve patient outcomes.\",\"explanation\":\"AI can process vast amounts of data quickly and accurately.\"},{\"front\":\"What is natural language processing (NLP)?\",\"back\":\"Natural Language Processing (NLP) is a branch of AI that focuses on the interaction between computers and humans through natural language.\",\"explanation\":\"NLP enables machines to understand and respond to human language.\"}]}'"
            ],
            "application/vnd.google.colaboratory.intrinsic+json": {
              "type": "string"
            }
          },
          "metadata": {},
          "execution_count": 17
        }
      ]
    },
    {
      "cell_type": "markdown",
      "source": [
        "## Using Different LLMs\n",
        "\n",
        "Switch from OpenAI to any other LLM using Custum LLM Config"
      ],
      "metadata": {
        "id": "WYVS3ewZ6I5q"
      }
    },
    {
      "cell_type": "code",
      "source": [
        "!pip install -qU langchain-google-genai langchain-anthropic"
      ],
      "metadata": {
        "colab": {
          "base_uri": "https://localhost:8080/"
        },
        "id": "LxpaHrN-6JJc",
        "outputId": "1593eb42-f074-4b57-9c51-b6079d6198d6"
      },
      "execution_count": 18,
      "outputs": [
        {
          "output_type": "stream",
          "name": "stdout",
          "text": [
            "\u001b[?25l   \u001b[90m━━━━━━━━━━━━━━━━━━━━━━━━━━━━━━━━━━━━━━━━\u001b[0m \u001b[32m0.0/286.1 kB\u001b[0m \u001b[31m?\u001b[0m eta \u001b[36m-:--:--\u001b[0m\r\u001b[2K   \u001b[91m━━━━━━━━━━━━━━━━━━━━━━━━━━━━━━━━━━━━━━\u001b[0m\u001b[91m╸\u001b[0m\u001b[90m━\u001b[0m \u001b[32m276.5/286.1 kB\u001b[0m \u001b[31m12.6 MB/s\u001b[0m eta \u001b[36m0:00:01\u001b[0m\r\u001b[2K   \u001b[90m━━━━━━━━━━━━━━━━━━━━━━━━━━━━━━━━━━━━━━━━\u001b[0m \u001b[32m286.1/286.1 kB\u001b[0m \u001b[31m7.2 MB/s\u001b[0m eta \u001b[36m0:00:00\u001b[0m\n",
            "\u001b[?25h"
          ]
        }
      ]
    },
    {
      "cell_type": "markdown",
      "source": [
        "###Configure the Models"
      ],
      "metadata": {
        "id": "QP52r3WZLzMF"
      }
    },
    {
      "cell_type": "code",
      "source": [
        "from langchain_google_genai import ChatGoogleGenerativeAI\n",
        "from educhain import Educhain, LLMConfig\n",
        "from langchain_openai import ChatOpenAI\n",
        "from langchain_anthropic import ChatAnthropic\n",
        "from google.colab import userdata\n",
        "\n",
        "# Using gpt-4.1\n",
        "gpt4_model = ChatOpenAI(\n",
        "    model_name=\"gpt-4.1\",\n",
        "    openai_api_key=userdata.get(\"OPENAI_API_KEY_2\")\n",
        ")\n",
        "\n",
        "#Using Gemini-2.0-flash\n",
        "gemini_flash = ChatGoogleGenerativeAI(\n",
        "    model=\"gemini-2.0-flash\",\n",
        "    google_api_key=userdata.get(\"GOOGLE_API_KEY\")\n",
        "    )\n",
        "\n",
        "#Using llama-3.3-70b-versatile\n",
        "llama3_groq = ChatOpenAI(\n",
        "    model=\"llama-3.3-70b-versatile\",\n",
        "    openai_api_base=\"https://api.groq.com/openai/v1\",\n",
        "    openai_api_key=userdata.get(\"GROQ_API_KEY\")\n",
        ")\n",
        "\n",
        "#Using claude-3-7-sonnet\n",
        "claude = ChatAnthropic(model='claude-3-7-sonnet-20250219',\n",
        "        api_key=userdata.get(\"ANTHROPIC_API_KEY\")\n",
        "\n",
        ")"
      ],
      "metadata": {
        "id": "IWf9zkHAKUAz"
      },
      "execution_count": 19,
      "outputs": []
    },
    {
      "cell_type": "markdown",
      "source": [
        "###Genrate Flashcards using Gemini"
      ],
      "metadata": {
        "id": "-8CJFYynL6NC"
      }
    },
    {
      "cell_type": "code",
      "source": [
        "from langchain_google_genai import ChatGoogleGenerativeAI\n",
        "from educhain import Educhain, LLMConfig\n",
        "\n",
        "flash_config = LLMConfig(custom_model=gemini_flash)\n",
        "client = Educhain(flash_config) #using gemini model with educhain\n",
        "\n",
        "flashcard_set = client.content_engine.generate_flashcards(\n",
        "    topic=\"Climate Change\",\n",
        "    num=8,\n",
        "    custom_instructions=\"Focus on causes, effects, and mitigation strategies. Include important statistics and data where applicable.\"\n",
        ")\n",
        "\n",
        "flashcard_set.model_dump_json()"
      ],
      "metadata": {
        "id": "0o1gTnHLWWmC",
        "colab": {
          "base_uri": "https://localhost:8080/",
          "height": 143
        },
        "outputId": "9bc534ba-3b5f-4635-b2e7-afa965634c81"
      },
      "execution_count": 20,
      "outputs": [
        {
          "output_type": "execute_result",
          "data": {
            "text/plain": [
              "'{\"title\":\"Climate Change Flashcards\",\"flashcards\":[{\"front\":\"What is the Greenhouse Effect?\",\"back\":\"The trapping of the sun\\'s warmth in a planet\\'s lower atmosphere due to the greater transparency of the atmosphere to visible radiation from the sun than to infrared radiation emitted from the planet\\'s surface.\",\"explanation\":\"Greenhouse gases like carbon dioxide, methane, and water vapor absorb infrared radiation, preventing heat from escaping into space and warming the planet.\"},{\"front\":\"Name three major greenhouse gases.\",\"back\":\"Carbon Dioxide (CO2), Methane (CH4), Nitrous Oxide (N2O)\",\"explanation\":\"These gases have different global warming potentials and atmospheric lifetimes. CO2 is the most abundant, while methane is much more potent but has a shorter lifespan.\"},{\"front\":\"What is the primary cause of increased CO2 levels in the atmosphere?\",\"back\":\"Burning of fossil fuels (coal, oil, and natural gas)\",\"explanation\":\"Fossil fuels release stored carbon into the atmosphere when burned for energy, leading to a rapid increase in CO2 concentrations.\"},{\"front\":\"What are some effects of climate change?\",\"back\":\"Rising sea levels, more frequent and intense heatwaves, changes in precipitation patterns, ocean acidification, melting glaciers and ice sheets.\",\"explanation\":\"These effects can have significant impacts on ecosystems, human health, and infrastructure.\"},{\"front\":\"What is ocean acidification?\",\"back\":\"The ongoing decrease in the pH of the Earth\\'s oceans, caused by the uptake of carbon dioxide (CO2) from the atmosphere.\",\"explanation\":\"As the ocean absorbs CO2, it becomes more acidic, which can harm marine life, especially shellfish and coral reefs.\"},{\"front\":\"What is a climate change mitigation strategy?\",\"back\":\"Actions taken to reduce greenhouse gas emissions or enhance carbon sinks.\",\"explanation\":\"Examples include transitioning to renewable energy sources, improving energy efficiency, reforestation, and carbon capture technologies.\"},{\"front\":\"What is the Paris Agreement?\",\"back\":\"An international agreement to limit global warming to well below 2 degrees Celsius above pre-industrial levels and pursue efforts to limit the temperature increase to 1.5 degrees Celsius.\",\"explanation\":\"The agreement involves countries setting emission reduction targets (Nationally Determined Contributions or NDCs) and reporting on their progress.\"},{\"front\":\"What percentage of global greenhouse gas emissions come from the energy sector?\",\"back\":\"Approximately 73%\",\"explanation\":\"This includes electricity and heat production, transportation, and manufacturing. Transitioning to cleaner energy sources is crucial for mitigating climate change.\"}]}'"
            ],
            "application/vnd.google.colaboratory.intrinsic+json": {
              "type": "string"
            }
          },
          "metadata": {},
          "execution_count": 20
        }
      ]
    },
    {
      "cell_type": "markdown",
      "source": [
        "##Show Flashcard"
      ],
      "metadata": {
        "id": "ICTLKgvG6u8n"
      }
    },
    {
      "cell_type": "code",
      "source": [
        "# Loop through each flashcard and print the 'front' and 'back' attributes\n",
        "for flashcard in flashcard_set.flashcards:\n",
        "    print(\"Front:\", flashcard.front)\n",
        "    print(\"Back:\", flashcard.back)\n",
        "    print()  # Blank line for better readability"
      ],
      "metadata": {
        "colab": {
          "base_uri": "https://localhost:8080/"
        },
        "outputId": "e0983fd4-ca62-44a2-d866-bd5e704b4ff0",
        "id": "d1kmLX6i6u8o"
      },
      "execution_count": 21,
      "outputs": [
        {
          "output_type": "stream",
          "name": "stdout",
          "text": [
            "Front: What is the Greenhouse Effect?\n",
            "Back: The trapping of the sun's warmth in a planet's lower atmosphere due to the greater transparency of the atmosphere to visible radiation from the sun than to infrared radiation emitted from the planet's surface.\n",
            "\n",
            "Front: Name three major greenhouse gases.\n",
            "Back: Carbon Dioxide (CO2), Methane (CH4), Nitrous Oxide (N2O)\n",
            "\n",
            "Front: What is the primary cause of increased CO2 levels in the atmosphere?\n",
            "Back: Burning of fossil fuels (coal, oil, and natural gas)\n",
            "\n",
            "Front: What are some effects of climate change?\n",
            "Back: Rising sea levels, more frequent and intense heatwaves, changes in precipitation patterns, ocean acidification, melting glaciers and ice sheets.\n",
            "\n",
            "Front: What is ocean acidification?\n",
            "Back: The ongoing decrease in the pH of the Earth's oceans, caused by the uptake of carbon dioxide (CO2) from the atmosphere.\n",
            "\n",
            "Front: What is a climate change mitigation strategy?\n",
            "Back: Actions taken to reduce greenhouse gas emissions or enhance carbon sinks.\n",
            "\n",
            "Front: What is the Paris Agreement?\n",
            "Back: An international agreement to limit global warming to well below 2 degrees Celsius above pre-industrial levels and pursue efforts to limit the temperature increase to 1.5 degrees Celsius.\n",
            "\n",
            "Front: What percentage of global greenhouse gas emissions come from the energy sector?\n",
            "Back: Approximately 73%\n",
            "\n"
          ]
        }
      ]
    },
    {
      "cell_type": "markdown",
      "source": [
        "###Genrate Flashcards using Llama 3\n"
      ],
      "metadata": {
        "id": "WXB37FCUMJGt"
      }
    },
    {
      "cell_type": "code",
      "source": [
        "from langchain_google_genai import ChatGoogleGenerativeAI\n",
        "from educhain import Educhain, LLMConfig\n",
        "\n",
        "groq_config = LLMConfig(custom_model=llama3_groq)\n",
        "client = Educhain(groq_config) #using Llama 3 model with educhain\n",
        "\n",
        "flashcard_set = client.content_engine.generate_flashcards(\n",
        "    topic=\"Spanish Food Vocabulary\",\n",
        "    num=10,\n",
        "    custom_instructions=\"Each flashcard should contain a Spanish word on the front, and its English meaning with an example sentence on the back.\"\n",
        ")\n",
        "\n",
        "flashcard_set.model_dump_json()"
      ],
      "metadata": {
        "id": "n-f6QcQkX8JV",
        "colab": {
          "base_uri": "https://localhost:8080/",
          "height": 143
        },
        "outputId": "f34aad39-cc02-42e3-e7ca-58e1d7e5697c"
      },
      "execution_count": 22,
      "outputs": [
        {
          "output_type": "execute_result",
          "data": {
            "text/plain": [
              "'{\"title\":\"Spanish Food Vocabulary\",\"flashcards\":[{\"front\":\"Tortilla\",\"back\":\"Omelette. Example: \\'Me encanta la tortilla de patatas que hace mi madre\\' (\\'I love the potato omelette my mother makes\\').\",\"explanation\":\"In Spain, a tortilla is a thick omelette made with potatoes, onions, and sometimes ham or chorizo.\"},{\"front\":\"Paella\",\"back\":\"Saffron-infused rice dish. Example: \\'La paella valenciana es famosa en todo el mundo\\' (\\'Valencian paella is famous all over the world\\').\",\"explanation\":\"Paella is a traditional Spanish dish originating from the Valencia region, typically made with rice, vegetables, and meat or seafood.\"},{\"front\":\"Gazpacho\",\"back\":\"Cold soup made from tomatoes. Example: \\'Me gusta tomar gazpacho en verano\\' (\\'I like to drink gazpacho in the summer\\').\",\"explanation\":\"Gazpacho is a refreshing cold soup made from tomatoes, peppers, cucumbers, and bread, originating from the Andalusia region.\"},{\"front\":\"Empanada\",\"back\":\"Meat or cheese-filled pastry. Example: \\'La empanada gallega es una de mis comidas favoritas\\' (\\'Galician empanada is one of my favorite dishes\\').\",\"explanation\":\"Empanada is a savory pastry filled with meat, seafood, or cheese, typically served as a snack or light meal.\"},{\"front\":\"Churros\",\"back\":\"Fried dough pastries. Example: \\'Me encanta comer churros con chocolate\\' (\\'I love eating churros with chocolate\\').\",\"explanation\":\"Churros are sweet fried dough pastries typically coated in sugar, often served with a rich chocolate dipping sauce.\"},{\"front\":\"Aceitunas\",\"back\":\"Olives. Example: \\'Las aceitunas verdes son mis favoritas\\' (\\'Green olives are my favorite\\').\",\"explanation\":\"Aceitunas are a staple in Spanish cuisine, often served as a snack or appetizer, and used in various dishes.\"},{\"front\":\"Jamón\",\"back\":\"Cured ham. Example: \\'El jamón ibérico es muy caro\\' (\\'Iberian ham is very expensive\\').\",\"explanation\":\"Jamón is a type of cured ham, with Jamón ibérico being a high-quality and expensive variety from the Iberian Peninsula.\"},{\"front\":\"Tacos\",\"back\":\"Mexican-style tacos are not traditional in Spain, but \\'tacos\\' can also refer to small sandwiches. Example: \\'Un taco de jamón es un snack rápido\\' (\\'A ham sandwich is a quick snack\\').\",\"explanation\":\"In Spain, the term \\'taco\\' can refer to a small sandwich, often made with a crusty bread roll and filled with ham, cheese, or other ingredients.\"},{\"front\":\"Croquetas\",\"back\":\"Deep-fried balls filled with ham, fish, or chicken. Example: \\'Las croquetas de pollo son deliciosas\\' (\\'Chicken croquettes are delicious\\').\",\"explanation\":\"Croquetas are a popular Spanish snack, typically made with a mixture of ham, fish, or chicken, coated in breadcrumbs and deep-fried.\"},{\"front\":\"Crema Catalana\",\"back\":\"Traditional Catalan dessert similar to crème brûlée. Example: \\'La crema catalana es un postre clásico\\' (\\'Catalan cream is a classic dessert\\').\",\"explanation\":\"Crema Catalana is a traditional Catalan dessert, similar to crème brûlée, made with cream, sugar, and eggs, and typically flavored with lemon or orange zest.\"}]}'"
            ],
            "application/vnd.google.colaboratory.intrinsic+json": {
              "type": "string"
            }
          },
          "metadata": {},
          "execution_count": 22
        }
      ]
    },
    {
      "cell_type": "markdown",
      "source": [
        "##Show Flashcard"
      ],
      "metadata": {
        "id": "zmZfuaqT67Rl"
      }
    },
    {
      "cell_type": "code",
      "source": [
        "# Loop through each flashcard and print the 'front' and 'back' attributes\n",
        "for flashcard in flashcard_set.flashcards:\n",
        "    print(\"Front:\", flashcard.front)\n",
        "    print(\"Back:\", flashcard.back)\n",
        "    print()  # Blank line for better readability"
      ],
      "metadata": {
        "colab": {
          "base_uri": "https://localhost:8080/"
        },
        "outputId": "648537f6-8e2d-47c9-b39d-2845871d8fec",
        "id": "tlkod5Ub67Rm"
      },
      "execution_count": 23,
      "outputs": [
        {
          "output_type": "stream",
          "name": "stdout",
          "text": [
            "Front: Tortilla\n",
            "Back: Omelette. Example: 'Me encanta la tortilla de patatas que hace mi madre' ('I love the potato omelette my mother makes').\n",
            "\n",
            "Front: Paella\n",
            "Back: Saffron-infused rice dish. Example: 'La paella valenciana es famosa en todo el mundo' ('Valencian paella is famous all over the world').\n",
            "\n",
            "Front: Gazpacho\n",
            "Back: Cold soup made from tomatoes. Example: 'Me gusta tomar gazpacho en verano' ('I like to drink gazpacho in the summer').\n",
            "\n",
            "Front: Empanada\n",
            "Back: Meat or cheese-filled pastry. Example: 'La empanada gallega es una de mis comidas favoritas' ('Galician empanada is one of my favorite dishes').\n",
            "\n",
            "Front: Churros\n",
            "Back: Fried dough pastries. Example: 'Me encanta comer churros con chocolate' ('I love eating churros with chocolate').\n",
            "\n",
            "Front: Aceitunas\n",
            "Back: Olives. Example: 'Las aceitunas verdes son mis favoritas' ('Green olives are my favorite').\n",
            "\n",
            "Front: Jamón\n",
            "Back: Cured ham. Example: 'El jamón ibérico es muy caro' ('Iberian ham is very expensive').\n",
            "\n",
            "Front: Tacos\n",
            "Back: Mexican-style tacos are not traditional in Spain, but 'tacos' can also refer to small sandwiches. Example: 'Un taco de jamón es un snack rápido' ('A ham sandwich is a quick snack').\n",
            "\n",
            "Front: Croquetas\n",
            "Back: Deep-fried balls filled with ham, fish, or chicken. Example: 'Las croquetas de pollo son deliciosas' ('Chicken croquettes are delicious').\n",
            "\n",
            "Front: Crema Catalana\n",
            "Back: Traditional Catalan dessert similar to crème brûlée. Example: 'La crema catalana es un postre clásico' ('Catalan cream is a classic dessert').\n",
            "\n"
          ]
        }
      ]
    },
    {
      "cell_type": "markdown",
      "source": [
        "###Genrate Flashcards using Claude\n"
      ],
      "metadata": {
        "id": "LTkvRS5gNYBw"
      }
    },
    {
      "cell_type": "code",
      "source": [
        "from langchain_google_genai import ChatGoogleGenerativeAI\n",
        "from educhain import Educhain, LLMConfig\n",
        "\n",
        "claude_config = LLMConfig(custom_model=claude)\n",
        "client = Educhain(claude_config) #using claude model with educhain\n",
        "\n",
        "custom_template = \"\"\"\n",
        "Create {num} flashcards for the topic: {topic}.\n",
        "\n",
        "Each flashcard should include:\n",
        "- Front side: A question focusing on definitions, examples, or formulas.\n",
        "- Back side: A clear and simple answer.\n",
        "- Explanation: A practical use case or scenario where this concept applies.\n",
        "\n",
        "Make the flashcards suitable for learners preparing for financial certifications.\n",
        "\n",
        "The response should be in JSON format.\n",
        "{format_instructions}\n",
        "\"\"\"\n",
        "\n",
        "flashcard_set = client.content_engine.generate_flashcards(\n",
        "    topic=\"Personal Finance Basics\",\n",
        "    num=5,\n",
        "    prompt_template=custom_template\n",
        ")\n",
        "\n",
        "flashcard_set.model_dump_json()"
      ],
      "metadata": {
        "id": "odXtuZMTM77k",
        "colab": {
          "base_uri": "https://localhost:8080/",
          "height": 143
        },
        "outputId": "273c2669-1d76-42f2-a1eb-f9c53f68e684"
      },
      "execution_count": 24,
      "outputs": [
        {
          "output_type": "execute_result",
          "data": {
            "text/plain": [
              "'{\"title\":\"Personal Finance Basics\",\"flashcards\":[{\"front\":\"What is the formula for calculating net worth?\",\"back\":\"Net Worth = Total Assets - Total Liabilities\",\"explanation\":\"A financial advisor needs to calculate a client\\'s net worth to assess their overall financial health. The client has $350,000 in assets (home, investments, cash) and $150,000 in liabilities (mortgage, car loan, credit card debt). The client\\'s net worth is $200,000, which helps determine their capacity for additional investments or debt.\"},{\"front\":\"Define the Rule of 72 and its application in investment planning.\",\"back\":\"The Rule of 72 is a formula that approximates how long it will take for an investment to double: 72 ÷ Annual Rate of Return = Years to Double Investment\",\"explanation\":\"When advising a client on retirement planning, you can use the Rule of 72 to explain growth potential. If their portfolio has an expected 8% annual return, their investment would double approximately every 9 years (72 ÷ 8 = 9). This helps clients understand the power of compound interest and make decisions about time horizons for financial goals.\"},{\"front\":\"What is the formula for calculating the debt-to-income ratio (DTI)?\",\"back\":\"DTI = (Total Monthly Debt Payments ÷ Gross Monthly Income) × 100%\",\"explanation\":\"When evaluating a client\\'s mortgage application, you need to calculate their DTI. If they have $2,500 in monthly debt payments (existing mortgage, car loan, student loans, credit cards) and a gross monthly income of $8,000, their DTI is 31.25%. Most lenders prefer a DTI below 36%, so this client is in an acceptable range for loan approval.\"},{\"front\":\"What is the difference between a traditional IRA and a Roth IRA?\",\"back\":\"Traditional IRA contributions are tax-deductible now but taxable when withdrawn during retirement. Roth IRA contributions are made with after-tax dollars but withdrawals in retirement are tax-free.\",\"explanation\":\"When advising a 35-year-old client in the 24% tax bracket who expects to be in a higher tax bracket during retirement, you might recommend a Roth IRA. Though they won\\'t get a tax deduction now, they\\'ll benefit from tax-free withdrawals during retirement when their tax rate is higher, potentially saving thousands in taxes over their lifetime.\"},{\"front\":\"What is the emergency fund formula recommended by most financial planners?\",\"back\":\"An emergency fund should contain 3-6 months of essential living expenses kept in a liquid, easily accessible account.\",\"explanation\":\"When creating a financial plan for a client with monthly essential expenses of $4,000, you would recommend an emergency fund of $12,000-$24,000. This becomes particularly important when the client works in an industry with high job volatility or has variable income, as it provides financial security during unexpected income disruptions like job loss or medical emergencies.\"}]}'"
            ],
            "application/vnd.google.colaboratory.intrinsic+json": {
              "type": "string"
            }
          },
          "metadata": {},
          "execution_count": 24
        }
      ]
    },
    {
      "cell_type": "markdown",
      "source": [
        "##Show Flashcard"
      ],
      "metadata": {
        "id": "dPDfNU6g7Hfm"
      }
    },
    {
      "cell_type": "code",
      "source": [
        "# Loop through each flashcard and print the 'front' and 'back' attributes\n",
        "for flashcard in flashcard_set.flashcards:\n",
        "    print(\"Front:\", flashcard.front)\n",
        "    print(\"Back:\", flashcard.back)\n",
        "    print()  # Blank line for better readability"
      ],
      "metadata": {
        "colab": {
          "base_uri": "https://localhost:8080/"
        },
        "outputId": "05649455-4b2c-4b9f-adf0-730756d6daa4",
        "id": "SqIy8M_a7Hfn"
      },
      "execution_count": 25,
      "outputs": [
        {
          "output_type": "stream",
          "name": "stdout",
          "text": [
            "Front: What is the formula for calculating net worth?\n",
            "Back: Net Worth = Total Assets - Total Liabilities\n",
            "\n",
            "Front: Define the Rule of 72 and its application in investment planning.\n",
            "Back: The Rule of 72 is a formula that approximates how long it will take for an investment to double: 72 ÷ Annual Rate of Return = Years to Double Investment\n",
            "\n",
            "Front: What is the formula for calculating the debt-to-income ratio (DTI)?\n",
            "Back: DTI = (Total Monthly Debt Payments ÷ Gross Monthly Income) × 100%\n",
            "\n",
            "Front: What is the difference between a traditional IRA and a Roth IRA?\n",
            "Back: Traditional IRA contributions are tax-deductible now but taxable when withdrawn during retirement. Roth IRA contributions are made with after-tax dollars but withdrawals in retirement are tax-free.\n",
            "\n",
            "Front: What is the emergency fund formula recommended by most financial planners?\n",
            "Back: An emergency fund should contain 3-6 months of essential living expenses kept in a liquid, easily accessible account.\n",
            "\n"
          ]
        }
      ]
    }
  ]
}