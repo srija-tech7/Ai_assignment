{
  "cells": [
    {
      "cell_type": "markdown",
      "metadata": {
        "id": "2yuOXx718YJT"
      },
      "source": [
        "## Generate Study Guide using [Educhain](https://github.com/satvik314/educhain)"
      ]
    },
    {
      "cell_type": "markdown",
      "metadata": {
        "id": "F45rl8MdYmuY"
      },
      "source": [
        "<img src=\"https://github.com/Shubhwithai/GRE_Geometry_quiz/blob/main/Group%2042.png?raw=true\" width=\"\" height=\"50\">\n",
        "\n",
        "[![Open In Colab](https://colab.research.google.com/assets/colab-badge.svg)](https://colab.research.google.com/drive/1YqPwFn4phA3_Bm-cMIA92buxxbf9caNd?usp=sharing)\n",
        "\n",
        "Educhain is a powerful Python package that leverages Generative AI to create engaging and personalized educational content. From generating multiple-choice questions to crafting comprehensive lesson plans, Educhain makes it easy to apply AI in various educational scenarios."
      ]
    },
    {
      "cell_type": "markdown",
      "metadata": {
        "id": "Vdyr-nkg8fBI"
      },
      "source": [
        "Explore the power of AI-driven education with Educhain! This notebook demonstrates how to create high-quality Study Guide of various topics using the Educhain package.\n",
        "\n",
        "Key Features:\n",
        "- Customize difficulty level according to you\n",
        "- Leverage advanced language models for study guide generation\n",
        "\n",
        "Perfect for educators, students, and e-learning developers looking to automate and enhance their study guide plan. Dive in to revolutionize your approach to educational content generation!"
      ]
    },
    {
      "cell_type": "code",
      "execution_count": null,
      "metadata": {
        "colab": {
          "base_uri": "https://localhost:8080/"
        },
        "id": "IM2f9yVg73iO",
        "outputId": "c203a0c5-5b99-49a5-d91d-a517232d5af3"
      },
      "outputs": [],
      "source": [
        "!pip install -qU educhain"
      ]
    },
    {
      "cell_type": "markdown",
      "metadata": {
        "id": "VDTqBteqYxv6"
      },
      "source": [
        "##Set up your API Key\n",
        "Default is set to OPENAI"
      ]
    },
    {
      "cell_type": "code",
      "execution_count": 5,
      "metadata": {
        "id": "PVFWI_hi89i-"
      },
      "outputs": [],
      "source": [
        "# Set up your OpenAI API key\n",
        "import os\n",
        "from google.colab import userdata\n",
        "\n",
        "os.environ[\"OPENAI_API_KEY\"] = userdata.get('OPENAI_API_KEY_2')"
      ]
    },
    {
      "cell_type": "markdown",
      "metadata": {
        "id": "jZRJaa2p9Evq"
      },
      "source": [
        "### Generate Study guide"
      ]
    },
    {
      "cell_type": "code",
      "execution_count": 6,
      "metadata": {
        "colab": {
          "base_uri": "https://localhost:8080/"
        },
        "id": "SYibPQr1-JOd",
        "outputId": "63d7f313-09e5-44b0-83a4-af65b6370051"
      },
      "outputs": [
        {
          "name": "stdout",
          "output_type": "stream",
          "text": [
            "=== Study Guide: Ethical Hacking ===\n",
            "\n",
            "Difficulty Level: Beginner\n",
            "Estimated Study Time: 4-6 hours\n",
            "\n",
            "Prerequisites:\n",
            "- Basic understanding of computer networks\n",
            "- Familiarity with operating systems (Windows and Linux)\n",
            "\n",
            "Learning Objectives:\n",
            "- Define ethical hacking and its importance in cybersecurity.\n",
            "- Identify the different types of hackers and their motivations.\n",
            "- Explain the ethical and legal considerations in ethical hacking.\n",
            "- Demonstrate basic techniques used in ethical hacking, such as scanning and enumeration.\n",
            "- Understand the phases of the hacking process and security assessments.\n",
            "\n",
            "Overview:\n",
            "Ethical hacking involves testing and evaluating the security of computer systems and networks by simulating attacks from malicious hackers. It is crucial for identifying vulnerabilities and strengthening defenses. Ethical hackers, also known as white-hat hackers, operate within legal and ethical boundaries to improve cybersecurity.\n",
            "\n",
            "Key Concepts:\n",
            "\n",
            "Ethical Hacking:\n",
            "The practice of intentionally probing systems for vulnerabilities with the permission of the owner.\n",
            "\n",
            "Types of Hackers:\n",
            "Includes white-hat (ethical hackers), black-hat (malicious hackers), and gray-hat (mix of both).\n",
            "\n",
            "Legal Considerations:\n",
            "Ethical hackers must operate within legal frameworks, including obtaining permission to test systems.\n",
            "\n",
            "Hacking Phases:\n",
            "The hacking process includes reconnaissance, scanning, gaining access, maintaining access, and covering tracks.\n",
            "\n",
            "Tools of the Trade:\n",
            "Common tools include Nmap for scanning, Metasploit for penetration testing, and Wireshark for network analysis.\n",
            "\n",
            "Important Dates:\n",
            "- 1980: The term 'hacker' was first used to describe those who enjoyed programming and exploring systems.\n",
            "- 1996: The Computer Fraud and Abuse Act was amended to include ethical hacking as a legitimate practice.\n",
            "- 2010: The rise of cybersecurity awareness led to increased demand for ethical hackers.\n",
            "\n",
            "Practice Exercises:\n",
            "\n",
            "Exercise 1:\n",
            "Problem: List and describe the different types of hackers, focusing on their motivations and methods.\n",
            "Solution: 1. White-hat hackers - Ethical hackers who help organizations secure their systems.\n",
            "2. Black-hat hackers - Malicious hackers who exploit systems for personal gain.\n",
            "3. Gray-hat hackers - Operate between ethical and unethical hacking, sometimes without permission but without malicious intent.\n",
            "\n",
            "Exercise 2:\n",
            "Problem: Use Nmap to scan a local network for live hosts and open ports.\n",
            "Solution: 1. Open a terminal.\n",
            "2. Type 'nmap -sP 192.168.1.0/24' to scan the network.\n",
            "3. Analyze the output to identify live hosts and their open ports.\n",
            "\n",
            "Real-World Case Studies:\n",
            "\n",
            "Case Study 1: Target Data Breach (2013)\n",
            "Scenario: Hackers gained access to Target's network through a third-party vendor, compromising over 40 million credit card accounts.\n",
            "Challenge: Target faced significant reputational damage and financial loss due to inadequate security measures.\n",
            "Solution: Target improved security protocols, implemented continuous monitoring, and conducted comprehensive security assessments.\n",
            "Outcome: Following the breach, Target invested heavily in cybersecurity, resulting in a more resilient security posture.\n",
            "\n",
            "Key Lessons Learned:\n",
            "- The importance of vendor security assessments.\n",
            "- The need for continuous security monitoring and updates.\n",
            "\n",
            "Related Concepts:\n",
            "- Vulnerability Assessment\n",
            "- Penetration Testing\n",
            "--------------------------------------------------\n",
            "\n",
            "Study Tips:\n",
            "- Engage in hands-on practice using ethical hacking tools in a safe environment.\n",
            "- Participate in Capture The Flag (CTF) competitions to challenge your skills.\n",
            "- Join online forums and communities to discuss ethical hacking topics and trends.\n",
            "- Stay updated with the latest cybersecurity news and vulnerabilities.\n",
            "\n",
            "Additional Resources:\n",
            "- OWASP: The Open Web Application Security Project provides resources on web application security.\n",
            "- Cybrary: Offers free online courses related to ethical hacking and cybersecurity.\n",
            "- Kali Linux: A popular Linux distribution used for penetration testing and ethical hacking.\n",
            "\n",
            "Summary:\n",
            "Ethical hacking is a vital field in cybersecurity, focusing on identifying vulnerabilities in systems to prevent malicious attacks. Understanding different hacker types, legal considerations, and essential tools is crucial for anyone entering this field. Continuous learning and practical experience are key to becoming an effective ethical hacker.\n"
          ]
        }
      ],
      "source": [
        "from educhain import Educhain\n",
        "\n",
        "client = Educhain()\n",
        "\n",
        "plan = client.content_engine.generate_study_guide(\n",
        "    topic = \"Ethical Hacking\",\n",
        "    difficulty_level = \"Beginner\",\n",
        "    )\n",
        "\n",
        "plan.show()"
      ]
    },
    {
      "cell_type": "markdown",
      "metadata": {
        "id": "EXAn-gUs-NEV"
      },
      "source": [
        "### Generate Study Guide with **custom instructions**"
      ]
    },
    {
      "cell_type": "code",
      "execution_count": 7,
      "metadata": {
        "colab": {
          "base_uri": "https://localhost:8080/"
        },
        "id": "9Nocv5yN9FSf",
        "outputId": "ac78c86f-e310-4ade-bfb6-7cb7e4973948"
      },
      "outputs": [
        {
          "name": "stdout",
          "output_type": "stream",
          "text": [
            "=== Study Guide: Ethical Hacking ===\n",
            "\n",
            "Difficulty Level: Beginner\n",
            "Estimated Study Time: 10 hours\n",
            "\n",
            "Prerequisites:\n",
            "- Basic understanding of computer networks\n",
            "- Familiarity with operating systems, particularly Linux and Windows\n",
            "\n",
            "Learning Objectives:\n",
            "- Define ethical hacking and distinguish it from malicious hacking\n",
            "- Identify common tools and techniques used in ethical hacking\n",
            "- Understand the legal and ethical implications of hacking\n",
            "- Conduct basic penetration testing using available tools\n",
            "- Develop a simple security assessment plan\n",
            "\n",
            "Overview:\n",
            "Ethical hacking involves authorized attempts to gain unauthorized access to computer systems, networks, or applications to identify potential vulnerabilities. Ethical hackers leverage the same tools and techniques as malicious hackers but do so with permission and for the purpose of improving security.\n",
            "\n",
            "Key Concepts:\n",
            "\n",
            "Ethical Hacking:\n",
            "The practice of intentionally probing computer systems to find security weaknesses while adhering to legal and ethical standards.\n",
            "\n",
            "Penetration Testing:\n",
            "A simulated cyber attack against your computer system to check for exploitable vulnerabilities.\n",
            "\n",
            "Vulnerability Assessment:\n",
            "The process of identifying, quantifying, and prioritizing vulnerabilities in a system.\n",
            "\n",
            "Social Engineering:\n",
            "Manipulating individuals into divulging confidential information, often through psychological tricks.\n",
            "\n",
            "Legal and Ethical Considerations:\n",
            "Understanding the laws and ethical guidelines governing hacking to ensure compliance and responsible behavior.\n",
            "\n",
            "Important Dates:\n",
            "- 1996: The term 'ethical hacking' was popularized by the publication of a book by the same name.\n",
            "- 2001: The first major conference on ethical hacking, the 'Black Hat Conference,' was held.\n",
            "\n",
            "Practice Exercises:\n",
            "\n",
            "Exercise 1:\n",
            "Problem: Using a tool like Nmap, conduct a basic network scan to identify live hosts in your local network.\n",
            "Solution: 1. Install Nmap. 2. Run the command 'nmap -sn 192.168.1.0/24'. 3. Analyze the output to identify active devices.\n",
            "\n",
            "Exercise 2:\n",
            "Problem: Using an online vulnerability scanner, assess a sample web application for vulnerabilities.\n",
            "Solution: 1. Choose a free online scanner like Qualys or Sucuri. 2. Input the URL of the sample application. 3. Review the report generated for vulnerabilities.\n",
            "\n",
            "Real-World Case Studies:\n",
            "\n",
            "Case Study 1: Target Data Breach of 2013\n",
            "Scenario: Target faced a significant data breach affecting millions of customers' credit/debit card information during the holiday shopping season.\n",
            "Challenge: The breach originated from compromised vendor credentials, leading to unauthorized access to Target's network.\n",
            "Solution: Target implemented a comprehensive security overhaul, including improved network segmentation and enhanced monitoring practices.\n",
            "Outcome: Target faced significant financial losses and reputational damage but ultimately strengthened its cybersecurity framework.\n",
            "\n",
            "Key Lessons Learned:\n",
            "- The importance of third-party vendor security.\n",
            "- Regularly updating and monitoring network security measures.\n",
            "\n",
            "Related Concepts:\n",
            "- Vulnerability Assessment\n",
            "- Legal and Ethical Considerations\n",
            "--------------------------------------------------\n",
            "\n",
            "Study Tips:\n",
            "- Hands-on practice with tools like Wireshark, Metasploit, and Nmap to build practical skills.\n",
            "- Join online forums and communities to engage with other learners and practitioners.\n",
            "- Stay updated with the latest cybersecurity news and trends to understand the evolving landscape.\n",
            "\n",
            "Additional Resources:\n",
            "- Cybrary: A free online platform offering courses in ethical hacking and cybersecurity.\n",
            "- OWASP: The Open Web Application Security Project, providing resources to improve software security.\n",
            "- Kali Linux: A Linux distribution specifically for penetration testing and ethical hacking.\n",
            "\n",
            "Summary:\n",
            "Ethical hacking is a crucial component of modern cybersecurity practices. By understanding its principles, tools, and ethical implications, beginners can develop skills to help organizations protect their information systems effectively.\n"
          ]
        }
      ],
      "source": [
        "from educhain import Educhain\n",
        "\n",
        "client = Educhain()\n",
        "\n",
        "plan = client.content_engine.generate_study_guide(\n",
        "    topic = \"Ethical Hacking\",\n",
        "    difficulty_level = \"Beginner\",\n",
        "    custom_instructions = \"\"\"\n",
        "        Include hands-on examples and some real-world techniques.\n",
        "        Focus on practical applications and security best practices.\n",
        "        \"\"\"\n",
        "    )\n",
        "\n",
        "plan.show()"
      ]
    },
    {
      "cell_type": "markdown",
      "metadata": {
        "id": "8I8eJ-Mzbqqy"
      },
      "source": [
        "###Generate Study Guide Using Custum Prompt Template"
      ]
    },
    {
      "cell_type": "code",
      "execution_count": null,
      "metadata": {
        "id": "LsRsA_HKbuVh"
      },
      "outputs": [],
      "source": [
        "from educhain import Educhain\n",
        "\n",
        "client = Educhain()\n",
        "\n",
        "Prompt_template = \"\"\" Create a comprehensive study guide for the following topic:\n",
        "Topic: Introduction to Blockchain\n",
        "Difficulty Level: Intermediate\n",
        "\n",
        "The study guide should be engaging, well-structured, and suitable for self-study or classroom use.\n",
        "Include the following elements in your response:\n",
        "\n",
        "1. Difficulty level and estimated study time\n",
        "2. Prerequisites (if any)\n",
        "3. Clear learning objectives (3-5 specific, measurable objectives)\n",
        "4. Comprehensive overview of the topic\n",
        "5. Key concepts with detailed explanations\n",
        "6. Important dates and events (if applicable)\n",
        "7. Practice exercises formatted as:\n",
        "\"practice_exercises\": [\n",
        "    {\n",
        "        \"title\": \"Exercise Title\",\n",
        "        \"problem\": \"Detailed problem description\",\n",
        "        \"solution\": \"Step-by-step solution\",\n",
        "        \"difficulty\": \"beginner|intermediate|advanced\"\n",
        "    }\n",
        "]\n",
        "8. Real-world case studies formatted as:\n",
        "\"case_studies\": [\n",
        "    {\n",
        "        \"title\": \"Case Study Title\",\n",
        "        \"scenario\": \"Description of the real-world situation\",\n",
        "        \"challenge\": \"Specific problems or challenges faced\",\n",
        "        \"solution\": \"How the challenges were addressed\",\n",
        "        \"outcome\": \"Results and impact\",\n",
        "        \"lessons_learned\": [\"Key lesson 1\", \"Key lesson 2\"],\n",
        "        \"related_concepts\": [\"Concept 1\", \"Concept 2\"]\n",
        "    }\n",
        "]\n",
        "9. Study tips and strategies specific to the topic\n",
        "10. Additional resources for deeper learning\n",
        "11. Brief summary of key takeaways\n",
        "\"\"\"\n",
        "\n",
        "plan = client.content_engine.generate_study_guide(\n",
        "    topic=\"Introduction to Blockchain\",\n",
        "    difficulty_level=\"Intermediate\",\n",
        "    custom_prompt_template=Prompt_template\n",
        ")\n",
        "\n",
        "plan.show()"
      ]
    },
    {
      "cell_type": "markdown",
      "metadata": {
        "id": "GQ4f1WoAaHL7"
      },
      "source": [
        "## Using Different LLMs\n",
        "\n",
        "Switch from OpenAI to any other LLM using Custum LLM Config"
      ]
    },
    {
      "cell_type": "code",
      "execution_count": 8,
      "metadata": {
        "colab": {
          "base_uri": "https://localhost:8080/"
        },
        "id": "azpeVtI6aMFa",
        "outputId": "8af450b3-ccc2-4f37-c0fa-be141276c789"
      },
      "outputs": [
        {
          "name": "stdout",
          "output_type": "stream",
          "text": [
            "\u001b[?25l   \u001b[90m━━━━━━━━━━━━━━━━━━━━━━━━━━━━━━━━━━━━━━━━\u001b[0m \u001b[32m0.0/286.1 kB\u001b[0m \u001b[31m?\u001b[0m eta \u001b[36m-:--:--\u001b[0m\r\u001b[2K   \u001b[90m━━━━━━━━━━━━━━━━━━━━━━━━━━━━━━━━━━━━━━━━\u001b[0m \u001b[32m286.1/286.1 kB\u001b[0m \u001b[31m24.3 MB/s\u001b[0m eta \u001b[36m0:00:00\u001b[0m\n",
            "\u001b[?25h"
          ]
        }
      ],
      "source": [
        "!pip install -qU langchain-google-genai langchain-anthropic"
      ]
    },
    {
      "cell_type": "markdown",
      "metadata": {
        "id": "u3vHs0_yaZiK"
      },
      "source": [
        "###Configure the Models"
      ]
    },
    {
      "cell_type": "code",
      "execution_count": 10,
      "metadata": {
        "id": "lR701iNWaQgQ"
      },
      "outputs": [],
      "source": [
        "from langchain_google_genai import ChatGoogleGenerativeAI\n",
        "from educhain import Educhain, LLMConfig\n",
        "from langchain_openai import ChatOpenAI\n",
        "from langchain_anthropic import ChatAnthropic\n",
        "from google.colab import userdata\n",
        "\n",
        "#Using Gemini-2.0-flash\n",
        "gemini_flash = ChatGoogleGenerativeAI(\n",
        "    model=\"gemini-2.0-flash\",\n",
        "    google_api_key=userdata.get(\"GOOGLE_API_KEY\")\n",
        "    )\n",
        "\n",
        "#Using llama-3.3-70b-versatile\n",
        "llama3_groq = ChatOpenAI(\n",
        "    model=\"llama-3.3-70b-versatile\",\n",
        "    openai_api_base=\"https://api.groq.com/openai/v1\",\n",
        "    openai_api_key=userdata.get(\"GROQ_API_KEY\")\n",
        ")\n",
        "\n",
        "#Using claude-3-7-sonnet\n",
        "claude = ChatAnthropic(model='claude-3-7-sonnet-20250219',\n",
        "                       api_key=userdata.get(\"ANTHROPIC_API_KEY\")\n",
        ")"
      ]
    },
    {
      "cell_type": "markdown",
      "metadata": {
        "id": "eLBxsmXJcSUT"
      },
      "source": [
        "###Generate Study Guide Using Llama 3"
      ]
    },
    {
      "cell_type": "code",
      "execution_count": 16,
      "metadata": {
        "colab": {
          "base_uri": "https://localhost:8080/"
        },
        "id": "-9smCYCQaoOQ",
        "outputId": "bb13a6af-030f-4bf3-ef19-52e494d413e2"
      },
      "outputs": [
        {
          "name": "stdout",
          "output_type": "stream",
          "text": [
            "=== Study Guide: Human Anatomy: The Nervous System ===\n",
            "\n",
            "Difficulty Level: Advanced\n",
            "Estimated Study Time: 20-25 hours\n",
            "\n",
            "Prerequisites:\n",
            "- Basic understanding of human anatomy and physiology\n",
            "- Familiarity with scientific terminology\n",
            "\n",
            "Learning Objectives:\n",
            "- Describe the structure and function of the nervous system\n",
            "- Explain the role of the nervous system in maintaining homeostasis\n",
            "- Identify and describe the major components of the nervous system, including the brain, spinal cord, and peripheral nerves\n",
            "- Understand the processes of neural transmission and synaptic plasticity\n",
            "- Apply knowledge of the nervous system to real-world scenarios and case studies\n",
            "\n",
            "Overview:\n",
            "The nervous system is a complex and highly specialized system that plays a crucial role in maintaining homeostasis and controlling various bodily functions. It consists of the central nervous system (CNS), which includes the brain and spinal cord, and the peripheral nervous system (PNS), which includes nerves that connect the CNS to the rest of the body. The nervous system is responsible for transmitting and processing information, and it plays a vital role in our ability to perceive, think, and react to the world around us.\n",
            "\n",
            "Key Concepts:\n",
            "\n",
            "Neurons:\n",
            "Specialized cells that transmit and process information\n",
            "\n",
            "Neuroglia:\n",
            "Support cells that provide structure and maintenance functions for neurons\n",
            "\n",
            "Synapses:\n",
            "Gaps between neurons where chemical signals are transmitted\n",
            "\n",
            "Action Potential:\n",
            "The electrical impulse that travels along a neuron\n",
            "\n",
            "Reflexes:\n",
            "Automatic responses to stimuli that do not require conscious thought\n",
            "\n",
            "Important Dates:\n",
            "- 1861: The discovery of the neuron by Otto Deiters\n",
            "- 1906: The discovery of the synapse by Charles Scott Sherrington\n",
            "- 1950s: The development of modern neuroscience and the discovery of the structure and function of the nervous system\n",
            "\n",
            "Practice Exercises:\n",
            "\n",
            "Exercise 1:\n",
            "Problem: Label the different parts of the brain, including the cerebral cortex, cerebellum, and brainstem.\n",
            "Solution: Use a diagram of the brain to identify and label the different parts.\n",
            "\n",
            "Exercise 2:\n",
            "Problem: Describe the structure of a neuron, including the dendrites, cell body, and axon.\n",
            "Solution: Use a diagram of a neuron to identify and describe the different parts.\n",
            "\n",
            "Exercise 3:\n",
            "Problem: Explain the process of neurotransmission, including the release of neurotransmitters and the binding of receptors.\n",
            "Solution: Use a diagram of a synapse to describe the process of neurotransmission.\n",
            "\n",
            "Real-World Case Studies:\n",
            "\n",
            "Case Study 1: Traumatic Brain Injury\n",
            "Scenario: A 25-year-old male is involved in a car accident and suffers a traumatic brain injury. He is taken to the hospital and undergoes a series of tests, including a CT scan and an MRI.\n",
            "Challenge: The patient's brain injury has resulted in significant cognitive and motor impairments. The medical team must work to diagnose and treat the injury, as well as provide rehabilitation and support to the patient.\n",
            "Solution: The medical team uses a multidisciplinary approach to diagnose and treat the patient's brain injury. This includes using imaging techniques to diagnose the extent of the injury, as well as providing physical, occupational, and speech therapy to help the patient recover.\n",
            "Outcome: The patient makes a significant recovery, but is left with some lasting cognitive and motor impairments. The medical team continues to provide support and rehabilitation to help the patient adapt to his new abilities.\n",
            "\n",
            "Key Lessons Learned:\n",
            "- The importance of prompt and proper medical attention in the event of a traumatic brain injury\n",
            "- The need for a multidisciplinary approach to diagnosis and treatment\n",
            "- The importance of providing ongoing support and rehabilitation to patients with brain injuries\n",
            "\n",
            "Related Concepts:\n",
            "- Neuroplasticity\n",
            "- Neuroregeneration\n",
            "- Traumatic brain injury\n",
            "--------------------------------------------------\n",
            "\n",
            "Case Study 2: Alzheimer's Disease\n",
            "Scenario: A 65-year-old female is diagnosed with Alzheimer's disease. She begins to experience cognitive decline, including memory loss and difficulty with communication.\n",
            "Challenge: The patient's family must work to provide support and care for her, as well as navigate the medical system to find the best treatment options.\n",
            "Solution: The patient's family works with a team of medical professionals to develop a treatment plan, including medications and lifestyle changes. They also provide emotional support and care to the patient, including helping her with daily tasks and providing companionship.\n",
            "Outcome: The patient's cognitive decline is slowed, and she is able to maintain her independence for a longer period of time. The patient's family is also able to find support and resources to help them cope with the challenges of caregiving.\n",
            "\n",
            "Key Lessons Learned:\n",
            "- The importance of early diagnosis and treatment of Alzheimer's disease\n",
            "- The need for a comprehensive treatment plan that includes medications, lifestyle changes, and emotional support\n",
            "- The importance of providing support and resources to caregivers\n",
            "\n",
            "Related Concepts:\n",
            "- Neurodegeneration\n",
            "- Neuroinflammation\n",
            "- Alzheimer's disease\n",
            "--------------------------------------------------\n",
            "\n",
            "Study Tips:\n",
            "- Use diagrams and visuals to help understand complex concepts\n",
            "- Practice labeling and identifying different parts of the brain and nervous system\n",
            "- Use flashcards to help memorize key terms and concepts\n",
            "- Work with a study group or partner to review and discuss material\n",
            "- Use online resources, such as videos and interactive tutorials, to supplement learning\n",
            "\n",
            "Additional Resources:\n",
            "- Textbook: Human Anatomy and Physiology by Elaine N. Marieb\n",
            "- Online Resource: Kenhub - Human Anatomy and Physiology\n",
            "- Video: Crash Course - Human Anatomy and Physiology\n",
            "\n",
            "Summary:\n",
            "The nervous system is a complex and highly specialized system that plays a crucial role in maintaining homeostasis and controlling various bodily functions. By understanding the structure and function of the nervous system, as well as the processes of neural transmission and synaptic plasticity, students can gain a deeper appreciation for the intricate workings of the human body. This study guide provides a comprehensive overview of the nervous system, including key concepts, practice exercises, and real-world case studies.\n"
          ]
        }
      ],
      "source": [
        "from educhain import Educhain\n",
        "\n",
        "llama3_config = LLMConfig(custom_model=llama3_groq)\n",
        "\n",
        "client = Educhain(llama3_config)\n",
        "\n",
        "plan = client.content_engine.generate_study_guide(\n",
        "    topic = \"Human Anatomy: The Nervous System\",\n",
        "    difficulty_level = \"Advanced\",\n",
        "    custom_instructions = \"Include diagrams, videos, and hands-on dissection activities for lab-based learning.\"\n",
        ")\n",
        "\n",
        "plan.show()"
      ]
    },
    {
      "cell_type": "markdown",
      "metadata": {
        "id": "9y7g0qg8cfaV"
      },
      "source": [
        "###Generate Study Guide Using Gemini"
      ]
    },
    {
      "cell_type": "code",
      "execution_count": null,
      "metadata": {
        "id": "7c9MDDImceqJ"
      },
      "outputs": [],
      "source": [
        "from educhain import Educhain\n",
        "\n",
        "Gemini_config = LLMConfig(custom_model=gemini_flash)\n",
        "\n",
        "client = Educhain(Gemini_config)\n",
        "\n",
        "plan = client.content_engine.generate_study_guide(\n",
        "    topic = \"Introduction to Programming with Python\",\n",
        "    difficulty_level = \"Beginner\",\n",
        "    custom_instructions = \"Add coding challenges and interactive exercises using repl.it. Include a guide for setting up Python locally.\"\n",
        ")\n",
        "\n",
        "plan.show()"
      ]
    },
    {
      "cell_type": "markdown",
      "metadata": {
        "id": "nGurSIJwcqPM"
      },
      "source": [
        "###Generate Study Guide Using Cluade"
      ]
    },
    {
      "cell_type": "code",
      "execution_count": null,
      "metadata": {
        "colab": {
          "base_uri": "https://localhost:8080/",
          "height": 365
        },
        "id": "U_EeYFdicr89",
        "outputId": "e4de25b6-81d2-44e5-a901-607ec8bd39d6"
      },
      "outputs": [],
      "source": [
        "from educhain import Educhain\n",
        "\n",
        "Claude_config = LLMConfig(custom_model=claude)\n",
        "\n",
        "client = Educhain(Claude_config)\n",
        "\n",
        "plan = client.content_engine.generate_study_guide(\n",
        "    topic = \"Ancient Civilizations: Egypt\",\n",
        "    difficulty_level = \"Intermediate\",\n",
        "    custom_instructions = \"Include a timeline of key events, visual aids like maps, and a mini-research project for students.\"\n",
        ")\n",
        "\n",
        "plan.show()"
      ]
    }
  ],
  "metadata": {
    "colab": {
      "provenance": []
    },
    "kernelspec": {
      "display_name": "Python 3",
      "name": "python3"
    },
    "language_info": {
      "name": "python"
    }
  },
  "nbformat": 4,
  "nbformat_minor": 0
}
