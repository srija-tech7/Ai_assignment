{
  "cells": [
    {
      "cell_type": "markdown",
      "metadata": {},
      "source": [
        "## 🎓 EduChain YouTube Question Generator \n"
      ]
    },
    {
      "cell_type": "markdown",
      "metadata": {},
      "source": [
        "<img src=\"https://github.com/Shubhwithai/GRE_Geometry_quiz/blob/main/Group%2042.png?raw=true\" width=\"\" height=\"50\">\n",
        "\n",
        "Educhain is a powerful Python package that leverages Generative AI to create\n",
        "engaging and personalized educational content. From generating multiple-choice questions to crafting comprehensive lesson plans, Educhain makes it easy to apply AI in various educational scenarios."
      ]
    },
    {
      "cell_type": "markdown",
      "metadata": {},
      "source": [
        "[![Open In Colab](https://colab.research.google.com/assets/colab-badge.svg)](https://colab.research.google.com/drive/1XErcNTxIwKsDRnL-2Ie7gq3zU41ArG7y?usp=sharing)"
      ]
    },
    {
      "cell_type": "markdown",
      "metadata": {
        "id": "qK67rOKg2DlZ"
      },
      "source": [
        "\n",
        "\n",
        "This notebook demonstrates how to use EduChain's YouTube question generation capabilities to create educational content automatically from YouTube videos.\n",
        "\n",
        "## Setup\n",
        "\n",
        "First, let's install the required packages and set up our environment."
      ]
    },
    {
      "cell_type": "code",
      "execution_count": null,
      "metadata": {
        "colab": {
          "base_uri": "https://localhost:8080/"
        },
        "id": "xId3VETw2HBq",
        "outputId": "792efd3a-d064-4805-bb03-6974b37f6acf"
      },
      "outputs": [],
      "source": [
        "!pip install educhain --quiet"
      ]
    },
    {
      "cell_type": "code",
      "execution_count": 3,
      "metadata": {
        "id": "LLWP0gJW2Cku"
      },
      "outputs": [],
      "source": [
        "import os\n",
        "from google.colab import userdata\n",
        "from educhain import Educhain\n",
        "\n",
        "# Set up OpenAI API key\n",
        "os.environ[\"OPENAI_API_KEY\"] = userdata.get('OPENAI_API_KEY')\n",
        "\n",
        "\n",
        "# Initialize the client\n",
        "client = Educhain()"
      ]
    },
    {
      "cell_type": "markdown",
      "metadata": {
        "id": "jYiFQpyg2NEU"
      },
      "source": [
        "## 📚 Basic Usage\n",
        "\n",
        "Let's start with a simple example of generating questions from a YouTube video."
      ]
    },
    {
      "cell_type": "code",
      "execution_count": 7,
      "metadata": {
        "colab": {
          "base_uri": "https://localhost:8080/"
        },
        "id": "C46bnLkr2M9t",
        "outputId": "0d735db6-05c8-4674-a903-d1a05ca61814"
      },
      "outputs": [
        {
          "name": "stdout",
          "output_type": "stream",
          "text": [
            "Question 1:\n",
            "Question: What is the cosine of 90 degrees as computed by the large language model?\n",
            "Options:\n",
            "  A. 0\n",
            "  B. -0.448\n",
            "  C. 1\n",
            "  D. -1\n",
            "\n",
            "Correct Answer: 0\n",
            "Explanation: The cosine of 90 degrees is 0, which is the correct mathematical value.\n",
            "\n",
            "Question 2:\n",
            "Question: What is 2 raised to the power of 0.5 (given X equals 0.5) as evaluated by the model?\n",
            "Options:\n",
            "  A. 1\n",
            "  B. 2\n",
            "  C. 1.414\n",
            "  D. 0.5\n",
            "\n",
            "Correct Answer: 1.414\n",
            "Explanation: 2 raised to the power of 0.5 is equivalent to the square root of 2, which is approximately 1.414.\n",
            "\n",
            "Question 3:\n",
            "Question: What is the result of the square root of 100 divided by 4?\n",
            "Options:\n",
            "  A. 10\n",
            "  B. 5\n",
            "  C. 2.5\n",
            "  D. 25\n",
            "\n",
            "Correct Answer: 5\n",
            "Explanation: The square root of 100 is 10, and when divided by 4, it results in 10/4, which simplifies to 2.5.\n",
            "\n"
          ]
        }
      ],
      "source": [
        "# Basic example - Generate 3 multiple choice questions\n",
        "url = \"https://www.youtube.com/watch?v=gdMgBkPAZCU\"  # Example video about Python programming\n",
        "questions = client.qna_engine.generate_questions_from_youtube(\n",
        "    url=url,\n",
        "    num=3,\n",
        "    question_type=\"Multiple Choice\"\n",
        ")\n",
        "\n",
        "questions.show()"
      ]
    },
    {
      "cell_type": "markdown",
      "metadata": {
        "id": "FK6fTd4O2PX9"
      },
      "source": [
        "## 🚀 Advanced Usage\n",
        "\n",
        "Now let's explore more advanced features like different question types and languages."
      ]
    },
    {
      "cell_type": "code",
      "execution_count": 8,
      "metadata": {
        "colab": {
          "base_uri": "https://localhost:8080/"
        },
        "id": "ly7V6HzZ2OM2",
        "outputId": "a6199128-626e-4d30-e43e-7387eb0e6e76"
      },
      "outputs": [
        {
          "name": "stdout",
          "output_type": "stream",
          "text": [
            "Question 1:\n",
            "Question: बड़े भाषा मॉडल गणित श्रृंखला का उपयोग किस प्रकार के कार्यों के लिए किया जाता है?\n",
            "Options:\n",
            "  A. गणितीय गणनाएँ\n",
            "  B. रचनात्मक लेखन\n",
            "  C. डेटा संग्रहण\n",
            "  D. छवियों का विश्लेषण\n",
            "\n",
            "Correct Answer: गणितीय गणनाएँ\n",
            "Explanation: बड़े भाषा मॉडल गणित श्रृंखला का उपयोग गणितीय कार्यों और अंकगणितीय बीजगणित के लिए किया जाता है।\n",
            "\n",
            "Question 2:\n",
            "Question: एलएलएम गणित डॉट रन का उपयोग किस प्रकार के प्रश्नों के लिए किया जा सकता है?\n",
            "Options:\n",
            "  A. गणितीय प्रश्नों का समाधान\n",
            "  B. भाषाई अनुवाद\n",
            "  C. गणितीय चित्रण\n",
            "  D. डेटा प्रविष्टि\n",
            "\n",
            "Correct Answer: गणितीय प्रश्नों का समाधान\n",
            "Explanation: एलएलएम गणित डॉट रन का उपयोग गणितीय प्रश्नों जैसे कोसाइन और वर्गमूल निकालने के लिए किया जाता है।\n",
            "\n",
            "Question 1:\n",
            "Question: The large language model math chain is exclusively used for complex mathematics and cannot handle simple arithmetic operations.\n",
            "Answer: False\n",
            "Explanation: The large language model math chain can handle both complex and simple arithmetic operations, as demonstrated in the video.\n",
            "\n",
            "True/False: False\n",
            "\n",
            "Question 2:\n",
            "Question: The cosine of 90 degrees is equal to negative 0.448 according to the large language model.\n",
            "Answer: False\n",
            "Explanation: The cosine of 90 degrees is actually 0, not negative 0.448. This illustrates a mistake in the example provided in the video.\n",
            "\n",
            "True/False: False\n",
            "\n",
            "Question 3:\n",
            "Question: The large language model can evaluate expressions like '2 raised to the power of X' where X equals 1/2.\n",
            "Answer: True\n",
            "Explanation: The video demonstrates that the model can evaluate the expression and correctly identifies it as the square root of 2.\n",
            "\n",
            "True/False: True\n",
            "\n",
            "Question 4:\n",
            "Question: The square root of 100 divided by 4 results in 2500.\n",
            "Answer: False\n",
            "Explanation: The correct calculation is the square root of 100 (which is 10) divided by 4, resulting in 2.5, not 2500.\n",
            "\n",
            "True/False: False\n",
            "\n"
          ]
        }
      ],
      "source": [
        "# Generate open-ended questions in Hindi\n",
        "questions_hindi = client.qna_engine.generate_questions_from_youtube(\n",
        "    url=url,\n",
        "    num=2,\n",
        "    target_language=\"hi\",\n",
        "    custom_instructions=\"Focus on conceptual understanding\"\n",
        ")\n",
        "\n",
        "questions_hindi.show()\n",
        "\n",
        "# Generate true/false questions with specific instructions\n",
        "questions_tf = client.qna_engine.generate_questions_from_youtube(\n",
        "    url=url,\n",
        "    num=4,\n",
        "    question_type=\"True/False\",\n",
        "    custom_instructions=\"Include questions that test critical thinking\",\n",
        "    output_format=\"pdf\"  # Save output as PDF\n",
        ")\n",
        "\n",
        "questions_tf.show()"
      ]
    },
    {
      "cell_type": "markdown",
      "metadata": {
        "id": "bzFL6hSE5P52"
      },
      "source": [
        "## ☸ Using a custom LLM ⛓"
      ]
    },
    {
      "cell_type": "code",
      "execution_count": 19,
      "metadata": {
        "colab": {
          "base_uri": "https://localhost:8080/"
        },
        "id": "wMHy1y1D5gfx",
        "outputId": "1ca83613-066b-4e30-84f0-5cad5d5f06c2"
      },
      "outputs": [
        {
          "name": "stdout",
          "output_type": "stream",
          "text": [
            "\u001b[?25l   \u001b[90m━━━━━━━━━━━━━━━━━━━━━━━━━━━━━━━━━━━━━━━━\u001b[0m \u001b[32m0.0/41.3 kB\u001b[0m \u001b[31m?\u001b[0m eta \u001b[36m-:--:--\u001b[0m\r\u001b[2K   \u001b[90m━━━━━━━━━━━━━━━━━━━━━━━━━━━━━━━━━━━━━━━━\u001b[0m \u001b[32m41.3/41.3 kB\u001b[0m \u001b[31m1.4 MB/s\u001b[0m eta \u001b[36m0:00:00\u001b[0m\n",
            "\u001b[?25h"
          ]
        }
      ],
      "source": [
        "!pip install langchain_google_genai --quiet"
      ]
    },
    {
      "cell_type": "markdown",
      "metadata": {},
      "source": [
        "###Generate questions from youtube Using Gemini"
      ]
    },
    {
      "cell_type": "code",
      "execution_count": null,
      "metadata": {
        "colab": {
          "base_uri": "https://localhost:8080/"
        },
        "id": "i0r8Ihoz5fvn",
        "outputId": "7f4744c6-cd7e-4338-a365-31bdc9713a2d"
      },
      "outputs": [
        {
          "name": "stdout",
          "output_type": "stream",
          "text": [
            "Question 1:\n",
            "Question: वीडियो में किस प्रकार के कार्यों के लिए बड़े भाषा मॉडल (LLM) का उपयोग किया जा रहा है?\n",
            "Options:\n",
            "  A. पाठ निर्माण\n",
            "  B. छवि निर्माण\n",
            "  C. गणितीय गणनाएँ\n",
            "  D. भाषा अनुवाद\n",
            "\n",
            "Correct Answer: गणितीय गणनाएँ\n",
            "Explanation: वीडियो में, बड़े भाषा मॉडल का उपयोग गणितीय समीकरणों और गणनाओं को हल करने के लिए किया जा रहा है, जैसे कि कोसाइन ज्ञात करना, घात ज्ञात करना और वर्गमूल ज्ञात करना।\n",
            "\n",
            "Question 2:\n",
            "Question: वीडियो में, LLM गणित श्रृंखला का उपयोग करने के लिए किस लाइब्रेरी से आयात किया जा रहा है?\n",
            "Options:\n",
            "  A. टेंसरफ्लो\n",
            "  B. पायटॉर्च\n",
            "  C. लॉन्ग चेन\n",
            "  D. स्केलेर्न\n",
            "\n",
            "Correct Answer: लॉन्ग चेन\n",
            "Explanation: वीडियो में, LLM गणित श्रृंखला को लॉन्ग चेन लाइब्रेरी से आयात किया जा रहा है, जो बड़े भाषा मॉडल के साथ काम करने के लिए एक लोकप्रिय लाइब्रेरी है।\n",
            "\n"
          ]
        }
      ],
      "source": [
        "from educhain import Educhain\n",
        "from educhain.core import LLMConfig\n",
        "from langchain_google_genai import ChatGoogleGenerativeAI\n",
        "from google.colab import userdata\n",
        "\n",
        "gemini_flash = ChatGoogleGenerativeAI(\n",
        "    model=\"gemini-2.0-flash-exp\", #Change the model to suit your case\n",
        "    google_api_key=userdata.get(\"GEMINI_API_KEY\")\n",
        "    )\n",
        "\n",
        "Gemini_config = LLMConfig(custom_model=gemini_flash)\n",
        "google = Educhain(Gemini_config)\n",
        "\n",
        "questions_hindi = google.qna_engine.generate_questions_from_youtube(\n",
        "    url=url,\n",
        "    num=2,\n",
        "    target_language=\"hi\",\n",
        "    custom_instructions=\"Focus on conceptual understanding\"\n",
        ")\n",
        "\n",
        "questions_hindi.show()"
      ]
    },
    {
      "cell_type": "markdown",
      "metadata": {
        "id": "byJNh3wS2XXc"
      },
      "source": [
        "## 🌟 Real-Life Use Case: Creating an Educational Quiz\n",
        "\n",
        "Let's create a comprehensive educational quiz from a technical tutorial video. This example shows how to:\n",
        "1. Generate different types of questions\n",
        "2. Combine them into a quiz\n",
        "3. Export the results"
      ]
    },
    {
      "cell_type": "code",
      "execution_count": 13,
      "metadata": {
        "colab": {
          "base_uri": "https://localhost:8080/"
        },
        "id": "lszK7bA92XlP",
        "outputId": "96799a1a-41ed-449c-e6b7-e1d4505d5888"
      },
      "outputs": [
        {
          "name": "stdout",
          "output_type": "stream",
          "text": [
            "=== Complete Quiz ===\n",
            "\n",
            "Part 1: Multiple Choice Questions\n",
            "Question 1:\n",
            "Question: What is the purpose of the 'try' and 'except' blocks in Python?\n",
            "Options:\n",
            "  A. To handle exceptions and prevent program crashes.\n",
            "  B. To define functions and methods.\n",
            "  C. To create loops for iteration.\n",
            "  D. To import modules.\n",
            "\n",
            "Correct Answer: To handle exceptions and prevent program crashes.\n",
            "Explanation: Using 'try' and 'except' allows you to test a block of code for errors and define how to respond if an error occurs, thus maintaining program flow.\n",
            "\n",
            "Question 2:\n",
            "Question: What is a tuple in Python?\n",
            "Options:\n",
            "  A. An immutable sequence of items.\n",
            "  B. A mutable sequence of items.\n",
            "  C. A function that returns a value.\n",
            "  D. A method for creating classes.\n",
            "\n",
            "Correct Answer: An immutable sequence of items.\n",
            "Explanation: Unlike lists, tuples cannot be changed after their creation, making them a fixed collection of items.\n",
            "\n",
            "Question 3:\n",
            "Question: How do you create a new class in Python?\n",
            "Options:\n",
            "  A. Using the 'class' keyword followed by the class name.\n",
            "  B. Using the 'def' keyword followed by the class name.\n",
            "  C. Using the 'new' keyword followed by the class name.\n",
            "  D. Using the 'create' keyword followed by the class name.\n",
            "\n",
            "Correct Answer: Using the 'class' keyword followed by the class name.\n",
            "Explanation: In Python, you define a new class by using the 'class' keyword, which is then followed by the name of the class.\n",
            "\n",
            "\n",
            "Part 2: Short Answer Questions\n",
            "Question 1:\n",
            "Question: What is the purpose of using classes in Python?\n",
            "Answer: Classes are used to define new types and model real-world concepts, allowing for the organization of related methods and attributes.\n",
            "Explanation: By using classes, developers can create objects that encapsulate both data (attributes) and functionality (methods), promoting code reusability and better structure.\n",
            "\n",
            "Keywords: classes, types, objects, methods, attributes, code organization\n",
            "\n",
            "Question 2:\n",
            "Question: What is the difference between positional arguments and keyword arguments in Python functions?\n",
            "Answer: Positional arguments are defined by their position in the function call, while keyword arguments explicitly specify which parameter they correspond to, making the code more readable.\n",
            "Explanation: Positional arguments must be passed in the correct order, whereas keyword arguments can be passed in any order as long as the parameter names are specified, improving clarity.\n",
            "\n",
            "Keywords: positional arguments, keyword arguments, functions, parameters, readability\n",
            "\n"
          ]
        }
      ],
      "source": [
        "def create_comprehensive_quiz(video_url: str):\n",
        "    # Generate multiple choice questions for basic concepts\n",
        "    mc_questions = client.qna_engine.generate_questions_from_youtube(\n",
        "        url=video_url,\n",
        "        num=3,\n",
        "        question_type=\"Multiple Choice\",\n",
        "        custom_instructions=\"Focus on fundamental concepts\"\n",
        "    )\n",
        "\n",
        "    # Generate open-ended questions for deeper understanding\n",
        "    open_questions = client.qna_engine.generate_questions_from_youtube(\n",
        "        url=video_url,\n",
        "        num=2,\n",
        "        question_type=\"Short Answer\",\n",
        "        custom_instructions=\"Focus on application and analysis\",\n",
        "        output_format=\"pdf\"\n",
        "    )\n",
        "\n",
        "\n",
        "    print(\"=== Complete Quiz ===\\n\")\n",
        "    print(\"Part 1: Multiple Choice Questions\")\n",
        "    mc_questions.show()\n",
        "\n",
        "    print(\"\\nPart 2: Short Answer Questions\")\n",
        "    open_questions.show()\n",
        "\n",
        "\n",
        "\n",
        "# Example usage with a programming tutorial video\n",
        "tutorial_url = \"https://www.youtube.com/watch?v=_uQrJ0TkZlc\"  # Python tutorial\n",
        "quiz = create_comprehensive_quiz(tutorial_url)"
      ]
    },
    {
      "cell_type": "markdown",
      "metadata": {},
      "source": [
        "## 📝 Additional Examples\n",
        "\n",
        "Here are some more specific use cases you can try:"
      ]
    },
    {
      "cell_type": "code",
      "execution_count": 18,
      "metadata": {
        "id": "mlrFJm1a2cFs"
      },
      "outputs": [],
      "source": [
        "# Example 1: Language Learning Quiz\n",
        "language_video_url = \"https://www.youtube.com/watch?v=_uQrJ0TkZlc\"\n",
        "language_quiz = client.qna_engine.generate_questions_from_youtube(\n",
        "    url=language_video_url,\n",
        "    num=5,\n",
        "    question_type=\"Multiple Choice\",\n",
        "    target_language=\"es\",  # Spanish\n",
        "    custom_instructions=\"Focus on vocabulary and grammar concepts\",\n",
        "    preserve_original_language=True\n",
        ")\n",
        "\n",
        "# Example 2: Technical Assessment\n",
        "technical_video_url = \"https://www.youtube.com/watch?v=_uQrJ0TkZlc\"\n",
        "technical_quiz = client.qna_engine.generate_questions_from_youtube(\n",
        "    url=technical_video_url,\n",
        "    num=4,\n",
        "    question_type=\"Fill in the Blank\",\n",
        "    custom_instructions=\"Include code-related questions and problem-solving scenarios\"\n",
        ")"
      ]
    },
    {
      "cell_type": "markdown",
      "metadata": {},
      "source": [
        "## 💡 Tips and Best Practices\n",
        "\n",
        "1. Always provide clear custom instructions to get more focused questions\n",
        "2. Use appropriate question types based on your learning objectives:\n",
        "   - Multiple Choice: For basic concept testing\n",
        "   - Short Answer: For deeper understanding\n",
        "   - True/False: For quick assessments\n",
        "3. Consider the video length and content density when deciding the number of questions\n",
        "4. Use target_language parameter for international audiences\n",
        "5. Export to PDF or CSV for easy sharing and record-keeping\n",
        "\n"
      ]
    }
  ],
  "metadata": {
    "colab": {
      "provenance": []
    },
    "kernelspec": {
      "display_name": "Python 3",
      "name": "python3"
    },
    "language_info": {
      "name": "python"
    }
  },
  "nbformat": 4,
  "nbformat_minor": 0
}
