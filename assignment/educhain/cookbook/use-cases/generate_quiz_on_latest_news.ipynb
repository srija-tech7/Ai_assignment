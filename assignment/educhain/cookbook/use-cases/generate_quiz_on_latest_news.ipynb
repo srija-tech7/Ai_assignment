{
  "nbformat": 4,
  "nbformat_minor": 0,
  "metadata": {
    "colab": {
      "provenance": []
    },
    "kernelspec": {
      "name": "python3",
      "display_name": "Python 3"
    },
    "language_info": {
      "name": "python"
    }
  },
  "cells": [
    {
      "cell_type": "markdown",
      "source": [
        "<img src=\"https://github.com/Shubhwithai/GRE_Geometry_quiz/blob/main/Group%2042.png?raw=true\" width=\"\" height=\"50\">\n",
        "\n",
        "Educhain is a powerful Python package that leverages Generative AI to create\n",
        "engaging and personalized educational content. From generating multiple-choice questions to crafting comprehensive lesson plans, Educhain makes it easy to apply AI in various educational scenarios."
      ],
      "metadata": {
        "id": "lQJLfaE-EszB"
      }
    },
    {
      "cell_type": "markdown",
      "source": [
        "[![Open In Colab](https://colab.research.google.com/assets/colab-badge.svg)](https://colab.research.google.com/drive/1gfcqUjJKuPNmPRoP5y0u6B3kSZWhZKha?usp=sharing)"
      ],
      "metadata": {
        "id": "Wo6WLPxvU0og"
      }
    },
    {
      "cell_type": "markdown",
      "source": [
        "## Generating MCQs on Latest News"
      ],
      "metadata": {
        "id": "K3OpxF6KTf5W"
      }
    },
    {
      "cell_type": "markdown",
      "source": [
        "This Colab notebook demonstrates how to generate multiple-choice questions (MCQs)\n",
        "based on the latest news using AI-powered tools.\n",
        "\n",
        "Key features:\n",
        "1. Fetches recent news on a specified topic using Perplexity's Sonar API\n",
        "2. Generates MCQs from the fetched news content using Educhain's qna_engine\n",
        "3. Customizable number of questions and topic selection\n"
      ],
      "metadata": {
        "id": "gqUYIUkVw8-w"
      }
    },
    {
      "cell_type": "code",
      "execution_count": null,
      "metadata": {
        "id": "5P_SfI0SNKfF"
      },
      "outputs": [],
      "source": [
        "!pip install -qU educhain --quiet"
      ]
    },
    {
      "cell_type": "code",
      "source": [
        "import os\n",
        "from google.colab import userdata\n",
        "\n",
        "os.environ[\"OPENAI_API_KEY\"] = userdata.get('OPENAI_API_KEY')"
      ],
      "metadata": {
        "id": "yzzBu9RWPT8p"
      },
      "execution_count": 3,
      "outputs": []
    },
    {
      "cell_type": "markdown",
      "source": [
        "### Using Perplexity Online APIs to fetch latest news"
      ],
      "metadata": {
        "id": "mK-xA8GKUgzk"
      }
    },
    {
      "cell_type": "code",
      "source": [
        "from langchain_openai import ChatOpenAI\n",
        "from google.colab import userdata\n",
        "\n",
        "sonar = ChatOpenAI(model = \"perplexity/llama-3.1-sonar-large-128k-online\",\n",
        "                      openai_api_key = userdata.get(\"OPENROUTER_API_KEY\"),\n",
        "                      openai_api_base = \"https://openrouter.ai/api/v1\"\n",
        "\n",
        ")\n",
        "\n",
        "response = sonar.invoke(\"Give me the latest upates on AI\")\n",
        "print(response.content)"
      ],
      "metadata": {
        "id": "4H0l7i6oNRKW"
      },
      "execution_count": null,
      "outputs": []
    },
    {
      "cell_type": "markdown",
      "source": [
        "### Generating questions with Educhain on Latest news content"
      ],
      "metadata": {
        "id": "VWwFbjX8VJqx"
      }
    },
    {
      "cell_type": "code",
      "source": [
        "from educhain import Educhain\n",
        "\n",
        "client = Educhain()\n",
        "\n",
        "response = sonar.invoke(\"Give me the latest news on US Presidential Elections\")\n",
        "\n",
        "news_content = response.content\n",
        "\n",
        "news_mcq = client.qna_engine.generate_questions_from_data(\n",
        "        source=news_content,\n",
        "        source_type=\"text\",\n",
        "        num=5,\n",
        "    )\n",
        "\n",
        "news_mcq.show()"
      ],
      "metadata": {
        "id": "cCn40vfeOqMA"
      },
      "execution_count": null,
      "outputs": []
    },
    {
      "cell_type": "markdown",
      "source": [
        "###Generate Quiz on Given Topic Using Prompt template"
      ],
      "metadata": {
        "id": "Wb0ExmBBETfu"
      }
    },
    {
      "cell_type": "code",
      "source": [
        "from educhain import Educhain\n",
        "\n",
        "client = Educhain()\n",
        "\n",
        "def generate_news_mcqs(topic, num_questions=5):\n",
        "    \"\"\"\n",
        "    Generate multiple-choice questions based on current news about a given topic.\n",
        "\n",
        "    Args:\n",
        "    topic (str): The news topic to fetch and generate questions about.\n",
        "    num_questions (int): The number of questions to generate (default is 5).\n",
        "\n",
        "    Returns:\n",
        "    None: Prints the generated questions.\n",
        "    \"\"\"\n",
        "    try:\n",
        "        # Create a prompt template for Sonar\n",
        "        sonar_prompt = f\"\"\"Fetch and summarize the latest news articles about {topic}.\n",
        "        Focus on the most significant events and developments.\n",
        "        Provide a concise summary of 3-5 key points.\"\"\"\n",
        "\n",
        "        # Fetch news using Sonar\n",
        "        response = sonar.invoke(sonar_prompt)\n",
        "        news_content = response.content\n",
        "\n",
        "        print(f\"Fetched news about {topic}:\")\n",
        "        print(news_content)\n",
        "        print(\"\\nGenerating questions based on the news...\\n\")\n",
        "\n",
        "        # Generate MCQs using the qna_engine\n",
        "        mcq_list = client.qna_engine.generate_questions_from_data(\n",
        "            source=news_content,\n",
        "            source_type=\"text\",\n",
        "            num=num_questions,\n",
        "        )\n",
        "\n",
        "        # Display the generated questions\n",
        "        print(f\"Generated {num_questions} questions on the latest news about {topic}:\\n\")\n",
        "        mcq_list.show()\n",
        "    except Exception as e:\n",
        "        print(f\"An error occurred: {str(e)}\")"
      ],
      "metadata": {
        "id": "E4mwsKsQUfmy"
      },
      "execution_count": 7,
      "outputs": []
    },
    {
      "cell_type": "markdown",
      "source": [
        "###Usage"
      ],
      "metadata": {
        "id": "B5EdlGrsEeCt"
      }
    },
    {
      "cell_type": "code",
      "source": [
        "generate_news_mcqs(\"US Presidential Elections\", num_questions=5)"
      ],
      "metadata": {
        "id": "d-5pqKfLUzPS"
      },
      "execution_count": null,
      "outputs": []
    }
  ]
}