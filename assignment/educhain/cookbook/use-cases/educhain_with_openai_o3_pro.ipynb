{
  "cells": [
    {
      "cell_type": "markdown",
      "metadata": {
        "id": "J8enH0GpNWy-"
      },
      "source": [
        "# Educhain with OpenAI o3 Pro Model\n",
        "\n"
      ]
    },
    {
      "cell_type": "markdown",
      "source": [
        "<img src=\"https://github.com/Shubhwithai/GRE_Geometry_quiz/blob/main/Group%2042.png?raw=true\" width=\"\" height=\"50\">\n",
        "\n",
        "[![Open In Colab](https://colab.research.google.com/assets/colab-badge.svg)](https://colab.research.google.com/drive/1m6q_7A7s11--MasU_fxrvtHv5eqFerns?usp=sharing)\n",
        "\n",
        "Educhain is a powerful Python package that leverages Generative AI to create engaging and personalized educational content. From generating multiple-choice questions to crafting comprehensive lesson plans, Educhain makes it easy to apply AI in various educational scenarios."
      ],
      "metadata": {
        "id": "bt1FVLMgT2nv"
      }
    },
    {
      "cell_type": "markdown",
      "source": [
        "This notebook demonstrates how to use the Educhain Python package with OpenAI's o3 Pro model to generate educational content such as multiple-choice questions (MCQs)."
      ],
      "metadata": {
        "id": "yvjxyU6zT-em"
      }
    },
    {
      "cell_type": "markdown",
      "metadata": {
        "id": "rKB12X4sNWzH"
      },
      "source": [
        "## Installation\n",
        "\n",
        "First, let's install the required packages:"
      ]
    },
    {
      "cell_type": "code",
      "execution_count": null,
      "metadata": {
        "id": "geXw7DyaNWzI"
      },
      "outputs": [],
      "source": [
        "!pip install langchain langchain-openai educhain openai"
      ]
    },
    {
      "cell_type": "markdown",
      "metadata": {
        "id": "wU2Q-wTXNWzK"
      },
      "source": [
        "## Import Required Libraries\n",
        "\n",
        "Now, let's import the necessary libraries and modules:"
      ]
    },
    {
      "cell_type": "code",
      "execution_count": null,
      "metadata": {
        "id": "hcTFV7yCNWzL"
      },
      "outputs": [],
      "source": [
        "import os\n",
        "from langchain_openai import ChatOpenAI\n",
        "from educhain import Educhain, LLMConfig\n",
        "import json"
      ]
    },
    {
      "cell_type": "markdown",
      "metadata": {
        "id": "mjJq5YnvNWzM"
      },
      "source": [
        "## Set up API Key\n",
        "\n",
        "You need to set up your OpenAI API key. You can either set it as an environment variable or directly in this notebook:"
      ]
    },
    {
      "cell_type": "code",
      "execution_count": null,
      "metadata": {
        "id": "VF30OsGwNWzN"
      },
      "outputs": [],
      "source": [
        "from google.colab import userdata\n",
        "import os\n",
        "\n",
        "os.environ['OPENAI_API_KEY'] = userdata.get(\"OPENAI_API_KEY\")"
      ]
    },
    {
      "cell_type": "markdown",
      "metadata": {
        "id": "GOw1H6VONWzP"
      },
      "source": [
        "## Configure OpenAI o3 Pro Model\n",
        "\n",
        "Now, let's configure the OpenAI o3 Pro model:"
      ]
    },
    {
      "cell_type": "code",
      "execution_count": null,
      "metadata": {
        "id": "F9lzCdg8NWzR"
      },
      "outputs": [],
      "source": [
        "# Configure OpenAI o3 Pro model\n",
        "openai_model = ChatOpenAI(\n",
        "    model=\"o3-pro\",  # Using OpenAI's o3 Pro model\n",
        ")\n",
        "\n",
        "# Create LLMConfig for Educhain\n",
        "OpenAI_config = LLMConfig(custom_model=openai_model)"
      ]
    },
    {
      "cell_type": "markdown",
      "metadata": {
        "id": "Wq94sU_uNWzT"
      },
      "source": [
        "## Create Educhain Client\n",
        "\n",
        "Now, let's create an Educhain client with the OpenAI o3 Pro model configuration:"
      ]
    },
    {
      "cell_type": "code",
      "execution_count": null,
      "metadata": {
        "id": "7lpRcdsgNWzU"
      },
      "outputs": [],
      "source": [
        "# Create Educhain client with OpenAI o3 Pro model\n",
        "client = Educhain(OpenAI_config)"
      ]
    },
    {
      "cell_type": "markdown",
      "metadata": {
        "id": "LMLsAU8rNWzU"
      },
      "source": [
        "## Generate Multiple-Choice Questions\n",
        "\n",
        "Let's generate multiple-choice questions on a specific topic:"
      ]
    },
    {
      "cell_type": "code",
      "execution_count": null,
      "metadata": {
        "id": "iVhh_ogeNWzV"
      },
      "outputs": [],
      "source": [
        "# Generate multiple-choice questions on \"Generative AI\"\n",
        "ques = client.qna_engine.generate_questions(\n",
        "    topic=\"Generative AI\",\n",
        "    num=5,  # Number of questions to generate\n",
        "    level=\"Easy\"  # Difficulty level\n",
        ")\n",
        "\n",
        "# Display the generated questions\n",
        "ques.show()"
      ]
    },
    {
      "cell_type": "markdown",
      "metadata": {
        "id": "6MZO-nTiNWzV"
      },
      "source": [
        "## Generate Questions with Custom Parameters\n",
        "\n",
        "You can also pass level, number of questions, and custom instructions as input:"
      ]
    },
    {
      "cell_type": "code",
      "execution_count": null,
      "metadata": {
        "colab": {
          "base_uri": "https://localhost:8080/"
        },
        "id": "MvjjZ9TdNWzW",
        "outputId": "1413db63-90b7-4a78-8842-e4251851b2ca"
      },
      "outputs": [
        {
          "output_type": "execute_result",
          "data": {
            "text/plain": [
              "{'questions': [{'question': \"Which company released the first 433-qubit 'Osprey' quantum processor in 2022, signaling a significant leap in commercial quantum hardware?\",\n",
              "   'answer': 'IBM',\n",
              "   'explanation': \"IBM's 'Osprey' processor, launched in 2022, significantly increased the number of qubits available, marking an important milestone in quantum hardware development.\",\n",
              "   'options': ['Google', 'IBM', 'Intel', 'Rigetti']},\n",
              "  {'question': \"What is the main purpose of 'quantum error correction' in the development of scalable quantum computers?\",\n",
              "   'answer': 'To protect quantum information from decoherence and operational errors',\n",
              "   'explanation': 'Quantum error correction is essential because qubits are highly susceptible to errors from noise and loss of coherence. Error correction reduces these errors, moving quantum computers closer to practical, large-scale applications.',\n",
              "   'options': ['To increase physical qubit count',\n",
              "    'To speed up quantum gate operations',\n",
              "    'To protect quantum information from decoherence and operational errors',\n",
              "    'To cool down quantum systems']},\n",
              "  {'question': 'Which approach is being explored to make quantum computers more accessible to researchers and developers, as reflected by recent trends?',\n",
              "   'answer': 'Quantum computing cloud platforms',\n",
              "   'explanation': 'Major companies now offer quantum computing via the cloud, letting users run quantum algorithms on real quantum hardware remotely.',\n",
              "   'options': ['Quantum Error Correction Algorithms',\n",
              "    'Quantum Annealing',\n",
              "    'Quantum computing cloud platforms',\n",
              "    'Traditional High-Performance Computing clusters']},\n",
              "  {'question': \"What is 'quantum advantage' (sometimes called 'quantum supremacy') as discussed in recent quantum computing literature?\",\n",
              "   'answer': 'The point when a quantum computer outperforms the best classical computer on a specific task',\n",
              "   'explanation': 'Quantum advantage describes the demonstration that a quantum device can solve a problem significantly faster than a classical computer—a key milestone in the field.',\n",
              "   'options': ['Achieving 1000 physical qubits',\n",
              "    'The point when a quantum computer outperforms the best classical computer on a specific task',\n",
              "    'Using quantum computers for cryptography',\n",
              "    'Running universal algorithms on quantum hardware']},\n",
              "  {'question': 'Which hybrid approach is gaining popularity in the latest quantum computing research for solving practical problems before fully error-corrected quantum computers are available?',\n",
              "   'answer': 'Quantum-classical hybrid algorithms',\n",
              "   'explanation': 'Quantum-classical hybrid algorithms, such as the Variational Quantum Eigensolver (VQE) and Quantum Approximate Optimization Algorithm (QAOA), combine quantum and classical computation to make use of current noisy quantum devices effectively.',\n",
              "   'options': ['Superconducting qubits only',\n",
              "    'Quantum-classical hybrid algorithms',\n",
              "    'Adiabatic quantum computation',\n",
              "    \"Shor's algorithm implementation\"]}]}"
            ]
          },
          "metadata": {},
          "execution_count": 20
        }
      ],
      "source": [
        "# Generate questions with custom parameters\n",
        "ques = client.qna_engine.generate_questions(\n",
        "    topic=\"Quantum Computing\",\n",
        "    num=5,\n",
        "    level=\"Medium\",\n",
        "    custom_instructions=\"Focus on Latest Trends Of Quantum Computing\"\n",
        ")\n",
        "\n",
        "# Display the generated questions as a dictionary\n",
        "ques.model_dump()  # You can generate dictionaries with this model_dump()"
      ]
    },
    {
      "cell_type": "code",
      "execution_count": null,
      "metadata": {
        "id": "y4NYKERTNWzW"
      },
      "outputs": [],
      "source": [
        "# Display the formatted questions\n",
        "ques.show()"
      ]
    },
    {
      "cell_type": "markdown",
      "source": [
        "### Multilingual Question Generation\n",
        "\n",
        "Generate questions in different languages:"
      ],
      "metadata": {
        "id": "SLTlUMH0SZde"
      }
    },
    {
      "cell_type": "code",
      "source": [
        "# Generate questions in Hindi\n",
        "hindi_questions = client.qna_engine.generate_questions(\n",
        "    topic=\"Indian History\",\n",
        "    num=5,\n",
        "    question_type=\"Multiple Choice\",\n",
        "    level=\"Medium\",\n",
        "    custom_instructions=\"Generate questions in Hindi language\"\n",
        ")\n",
        "\n",
        "# Display the generated questions\n",
        "hindi_questions.show()"
      ],
      "metadata": {
        "id": "c8zCZ4SFSXTw"
      },
      "execution_count": null,
      "outputs": []
    },
    {
      "cell_type": "markdown",
      "metadata": {
        "id": "nAeM3XnJNWzW"
      },
      "source": [
        "## Generate Questions from YouTube URL\n",
        "\n",
        "You can also generate questions from a YouTube video:"
      ]
    },
    {
      "cell_type": "code",
      "execution_count": null,
      "metadata": {
        "id": "dWmsB0_oNWzW"
      },
      "outputs": [],
      "source": [
        "# Generate questions from a YouTube video\n",
        "url = \"https://www.youtube.com/watch?v=vcLRWiTNCbQ\"\n",
        "questions = client.qna_engine.generate_questions_from_youtube(\n",
        "    url=url,\n",
        "    num=3,\n",
        "    custom_instructions=\"Ensure the questions are about the main topic of the video\"\n",
        ")\n",
        "\n",
        "# Display the generated questions\n",
        "questions.show()"
      ]
    },
    {
      "cell_type": "markdown",
      "metadata": {
        "id": "Bo7ldR6TNWzX"
      },
      "source": [
        "## Generate True/False Questions from YouTube URL\n",
        "\n",
        "You can also generate True/False questions from a YouTube video:"
      ]
    },
    {
      "cell_type": "code",
      "execution_count": null,
      "metadata": {
        "id": "jgA3csOvNWzX"
      },
      "outputs": [],
      "source": [
        "# Generate True/False questions from a YouTube video\n",
        "url = \"https://www.youtube.com/watch?v=vcLRWiTNCbQ\"\n",
        "questions = client.qna_engine.generate_questions_from_youtube(\n",
        "    url=url,\n",
        "    num=3,\n",
        "    question_type=\"True/False\",  # Supported types: \"Multiple Choice\", \"Short Answer\", \"True/False\", \"Fill in the Blank\"\n",
        "    custom_instructions=\"Ensure the questions are about the main topic of the video\"\n",
        ")\n",
        "\n",
        "# Display the generated questions\n",
        "questions.show()"
      ]
    },
    {
      "cell_type": "markdown",
      "metadata": {
        "id": "0-3n4iHiNWzY"
      },
      "source": [
        "## Generate Flashcards for Spaced Repetition Learning\n",
        "\n",
        "Flashcards are an effective tool for spaced repetition learning. Let's generate some flashcards on a specific topic:"
      ]
    },
    {
      "cell_type": "code",
      "execution_count": null,
      "metadata": {
        "id": "QrcoAJoZNWzY"
      },
      "outputs": [],
      "source": [
        "# Generate flashcards on \"Machine Learning Algorithms\"\n",
        "flashcards = client.content_engine.generate_flashcards(\n",
        "    topic=\"Machine Learning Algorithms\",\n",
        "    num=5,  # Number of flashcards to generate\n",
        "    custom_instructions=\"\"\"\n",
        "    Create flashcards with:\n",
        "    1. Algorithm name on the front\n",
        "    2. Brief description and use cases on the back\n",
        "    3. Include key advantages and limitations in the explanation\n",
        "    4. Focus on practical applications\n",
        "    \"\"\"\n",
        ")\n",
        "\n",
        "# Display the flashcards as JSON\n",
        "print(json.dumps(flashcards.model_dump(), indent=2))"
      ]
    }
  ],
  "metadata": {
    "kernelspec": {
      "display_name": "Python 3",
      "language": "python",
      "name": "python3"
    },
    "language_info": {
      "codemirror_mode": {
        "name": "ipython",
        "version": 3
      },
      "file_extension": ".py",
      "mimetype": "text/x-python",
      "name": "python",
      "nbconvert_exporter": "python",
      "pygments_lexer": "ipython3",
      "version": "3.8.10"
    },
    "colab": {
      "provenance": []
    }
  },
  "nbformat": 4,
  "nbformat_minor": 0
}