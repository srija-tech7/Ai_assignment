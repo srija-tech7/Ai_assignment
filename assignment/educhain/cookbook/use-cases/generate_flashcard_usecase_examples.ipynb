{
  "cells": [
    {
      "cell_type": "markdown",
      "metadata": {},
      "source": [
        "<img src=\"https://github.com/Shubhwithai/GRE_Geometry_quiz/blob/main/Group%2042.png?raw=true\" width=\"\" height=\"50\">\n",
        "\n",
        "Educhain is a powerful Python package that leverages Generative AI to create engaging and personalized educational content. From generating multiple-choice questions to crafting comprehensive lesson plans, Educhain makes it easy to apply AI in various educational scenarios."
      ]
    },
    {
      "cell_type": "markdown",
      "metadata": {
        "id": "08OmChpTl3FV"
      },
      "source": [
        "[![Open In Colab](https://colab.research.google.com/assets/colab-badge.svg)](https://colab.research.google.com/drive/1hayElw8s0jGKGWZ-a6L_VjdQMkzeEu2v?usp=sharing)"
      ]
    },
    {
      "cell_type": "markdown",
      "metadata": {
        "id": "OwWEgz7-lYEw"
      },
      "source": [
        "### Advanced Flashcard Generator System\n",
        "\n",
        "🌟 Overview\n",
        "\n",
        "An intelligent educational tool that creates dynamic, interactive flashcards with advanced customization options and learning analytics."
      ]
    },
    {
      "cell_type": "code",
      "execution_count": null,
      "metadata": {
        "colab": {
          "base_uri": "https://localhost:8080/"
        },
        "id": "0t5I9GAokUqH",
        "outputId": "3174ebff-4210-4d93-d333-4598f1667c6f"
      },
      "outputs": [],
      "source": [
        "!pip install -U educhain --quiet"
      ]
    },
    {
      "cell_type": "markdown",
      "metadata": {},
      "source": [
        "### Setup API Key"
      ]
    },
    {
      "cell_type": "code",
      "execution_count": null,
      "metadata": {
        "id": "KYilRkbfkch2"
      },
      "outputs": [],
      "source": [
        "from langchain_openai import ChatOpenAI\n",
        "import os\n",
        "from google.colab import userdata\n",
        "os.environ[\"OPENAI_API_KEY\"] = userdata.get('OPENAI_API_KEY')\n"
      ]
    },
    {
      "cell_type": "markdown",
      "metadata": {
        "id": "fsAULwccnb6R"
      },
      "source": [
        "### Medical Exams Flashcards 🏥"
      ]
    },
    {
      "cell_type": "code",
      "execution_count": null,
      "metadata": {
        "id": "vVGXTLsol99b"
      },
      "outputs": [],
      "source": [
        "import json\n",
        "from educhain import Educhain\n",
        "\n",
        "client = Educhain()\n",
        "\n",
        "# Generate flashcards for a given topic\n",
        "def generate_medical_flashcards(topic: str):\n",
        "    content_engine = client.content_engine\n",
        "\n",
        "    flashcards = content_engine.generate_flashcards(\n",
        "        topic=topic,\n",
        "        num=5,  # Generate 10 flashcards\n",
        "        custom_instructions=\"\"\"\n",
        "        Create flashcards with:\n",
        "        1. High-yield medical facts\n",
        "        2. Diagnostic criteria\n",
        "        3. Treatment protocols\n",
        "        4. Key clinical pearls\n",
        "        Include references to the latest research where relevant.\n",
        "        \"\"\"\n",
        "    )\n",
        "\n",
        "    # Print the flashcards\n",
        "    print(f\"Flashcards for {topic}:\\n\")\n",
        "    print(json.dumps(flashcards.dict(), indent=2))\n",
        "\n",
        "\n",
        "\n"
      ]
    },
    {
      "cell_type": "code",
      "execution_count": null,
      "metadata": {
        "colab": {
          "base_uri": "https://localhost:8080/"
        },
        "id": "zTvKC_CFm6JA",
        "outputId": "ba78731b-ef03-4d67-a676-83f6b50ac25a"
      },
      "outputs": [],
      "source": [
        "generate_medical_flashcards(topic=\"Acute Coronary Syndromes\")"
      ]
    },
    {
      "cell_type": "markdown",
      "metadata": {
        "id": "4b5KRlAWl6Y6"
      },
      "source": [
        "## Interactive Flashcards with custom topic and accessiblity 🆒"
      ]
    },
    {
      "cell_type": "code",
      "execution_count": null,
      "metadata": {
        "colab": {
          "base_uri": "https://localhost:8080/"
        },
        "id": "C0Uguc8qk_Go",
        "outputId": "ef7e5074-e37e-4ec3-c982-8749f2627b87"
      },
      "outputs": [],
      "source": [
        "import json\n",
        "from educhain import Educhain\n",
        "from typing import Dict, Any\n",
        "import os\n",
        "\n",
        "class InteractiveFlashcards:\n",
        "    def __init__(self):\n",
        "        self.client = Educhain()\n",
        "        self.current_flashcards = None\n",
        "        self.shown_cards = set()\n",
        "\n",
        "    def generate_medical_flashcards(self, topic: str):\n",
        "        \"\"\"Generate medical flashcards for a given topic.\"\"\"\n",
        "        content_engine = self.client.content_engine\n",
        "\n",
        "        self.current_flashcards = content_engine.generate_flashcards(\n",
        "            topic=topic,\n",
        "            num=5,\n",
        "            custom_instructions=\"\"\"\n",
        "            Create flashcards with:\n",
        "            1. High-yield medical facts\n",
        "            2. Diagnostic criteria\n",
        "            3. Treatment protocols\n",
        "            4. Key clinical pearls\n",
        "            Include references to the latest research where relevant.\n",
        "            \"\"\"\n",
        "        )\n",
        "        self.shown_cards = set()\n",
        "        self.display_fronts()\n",
        "\n",
        "    def display_fronts(self):\n",
        "        \"\"\"Display only the front of all flashcards.\"\"\"\n",
        "        if not self.current_flashcards:\n",
        "            print(\"No flashcards generated yet!\")\n",
        "            return\n",
        "\n",
        "        print(f\"\\nFlashcards Topic: {self.current_flashcards.title}\")\n",
        "        print(\"\\nAvailable cards (showing front side only):\")\n",
        "        print(\"-\" * 50)\n",
        "\n",
        "        for idx, card in enumerate(self.current_flashcards.flashcards, 1):\n",
        "            print(f\"\\nCard {idx}:\")\n",
        "            print(f\"Front: {card.front}\")\n",
        "            print(\"-\" * 50)\n",
        "\n",
        "        self._show_menu()\n",
        "\n",
        "    def reveal_card(self, card_number: int):\n",
        "        \"\"\"Reveal the back of a specific card.\"\"\"\n",
        "        if not self.current_flashcards:\n",
        "            print(\"No flashcards generated yet!\")\n",
        "            return\n",
        "\n",
        "        if not 1 <= card_number <= len(self.current_flashcards.flashcards):\n",
        "            print(\"Invalid card number!\")\n",
        "            return\n",
        "\n",
        "        card = self.current_flashcards.flashcards[card_number - 1]\n",
        "        print(f\"\\nCard {card_number}:\")\n",
        "        print(f\"Front: {card.front}\")\n",
        "        print(f\"Back: {card.back}\")\n",
        "        if card.explanation:\n",
        "            print(f\"Explanation: {card.explanation}\")\n",
        "        print(\"-\" * 50)\n",
        "\n",
        "        self.shown_cards.add(card_number)\n",
        "        self._show_menu()\n",
        "\n",
        "    def _show_menu(self):\n",
        "        \"\"\"Display the interactive menu.\"\"\"\n",
        "        print(\"\\nOptions:\")\n",
        "        print(\"- Enter a card number (1-5) to reveal its back\")\n",
        "        print(\"- Enter 'r' to refresh/show fronts only\")\n",
        "        print(\"- Enter 'q' to quit\")\n",
        "        print(\"\\nYour choice: \", end=\"\")\n",
        "\n",
        "    def handle_input(self, user_input: str):\n",
        "        \"\"\"Handle user input for the interactive menu.\"\"\"\n",
        "        if user_input.lower() == 'q':\n",
        "            return False\n",
        "        elif user_input.lower() == 'r':\n",
        "            self.display_fronts()\n",
        "        else:\n",
        "            try:\n",
        "                card_num = int(user_input)\n",
        "                self.reveal_card(card_num)\n",
        "            except ValueError:\n",
        "                print(\"Invalid input! Please try again.\")\n",
        "                self._show_menu()\n",
        "        return True\n",
        "\n",
        "def main():\n",
        "    flashcard_system = InteractiveFlashcards()\n",
        "\n",
        "    # Get the topic from user\n",
        "    topic = input(\"Enter medical topic for flashcards: \")\n",
        "\n",
        "    # Generate initial flashcards\n",
        "    flashcard_system.generate_medical_flashcards(topic)\n",
        "\n",
        "    # Interactive loop\n",
        "    while True:\n",
        "        user_input = input()\n",
        "        if not flashcard_system.handle_input(user_input):\n",
        "            break\n",
        "\n",
        "if __name__ == \"__main__\":\n",
        "    main()"
      ]
    },
    {
      "cell_type": "markdown",
      "metadata": {
        "id": "3OtfTzq7ngBS"
      },
      "source": [
        "## Technical flashcards 🧑"
      ]
    },
    {
      "cell_type": "code",
      "execution_count": null,
      "metadata": {
        "id": "QbZsqdN_l-Tg"
      },
      "outputs": [],
      "source": [
        "# Generate technical flashcards for a certification domain\n",
        "def generate_technical_flashcards(certification: str, domain: str):\n",
        "    content_engine = client.content_engine\n",
        "\n",
        "    flashcards = content_engine.generate_flashcards(\n",
        "        topic=f\"{certification} - {domain}\",\n",
        "        num=5,  # Generate 10 flashcards\n",
        "        custom_instructions=\"\"\"\n",
        "        Create technical flashcards with:\n",
        "        1. Key terms and concepts from official exam objectives\n",
        "        2. Practical examples and scenarios\n",
        "        3. Best practices and common exam pitfalls\n",
        "        Include references to relevant technical documentation.\n",
        "        \"\"\"\n",
        "    )\n",
        "\n",
        "    # Print the flashcards\n",
        "    print(f\"Flashcards for {certification} - {domain}:\\n\")\n",
        "    print(json.dumps(flashcards.dict(), indent=2))"
      ]
    },
    {
      "cell_type": "code",
      "execution_count": null,
      "metadata": {
        "colab": {
          "base_uri": "https://localhost:8080/"
        },
        "id": "hw46Z6rFm9yT",
        "outputId": "8fafd407-35dd-4dc8-9d92-bbdd5d30ef5d"
      },
      "outputs": [],
      "source": [
        "generate_technical_flashcards(certification=\"AWS Solutions Architect\", domain=\"Design Resilient Architectures\")\n"
      ]
    },
    {
      "cell_type": "markdown",
      "metadata": {},
      "source": [
        "### Usage examples\n"
      ]
    },
    {
      "cell_type": "code",
      "execution_count": null,
      "metadata": {
        "colab": {
          "base_uri": "https://localhost:8080/"
        },
        "id": "oDCCKQxGm2me",
        "outputId": "bb686c94-fb28-493f-877f-5c1ab486c24d"
      },
      "outputs": [],
      "source": [
        "# Usage examples\n",
        "def run_examples():\n",
        "    # Medical education flashcards\n",
        "    generate_medical_flashcards(topic=\"Acute Coronary Syndromes\")\n",
        "\n",
        "    # Technical certification flashcards\n",
        "    generate_technical_flashcards(certification=\"AWS Solutions Architect\", domain=\"Design Resilient Architectures\")\n",
        "\n",
        "if __name__ == \"__main__\":\n",
        "    run_examples()"
      ]
    }
  ],
  "metadata": {
    "colab": {
      "provenance": []
    },
    "kernelspec": {
      "display_name": "Python 3",
      "name": "python3"
    },
    "language_info": {
      "name": "python"
    }
  },
  "nbformat": 4,
  "nbformat_minor": 0
}
