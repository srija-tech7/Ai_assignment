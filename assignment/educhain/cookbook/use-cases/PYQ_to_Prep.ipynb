{
  "nbformat": 4,
  "nbformat_minor": 0,
  "metadata": {
    "colab": {
      "provenance": []
    },
    "kernelspec": {
      "name": "python3",
      "display_name": "Python 3"
    },
    "language_info": {
      "name": "python"
    }
  },
  "cells": [
    {
      "cell_type": "markdown",
      "source": [
        "<img src=\"https://github.com/Shubhwithai/GRE_Geometry_quiz/blob/main/Group%2042.png?raw=true\" width=\"\" height=\"50\">\n",
        "\n",
        "Educhain is a powerful Python package that leverages Generative AI to create engaging and personalized educational content. From generating multiple-choice questions to crafting comprehensive lesson plans, Educhain makes it easy to apply AI in various educational scenarios.\n",
        "\n",
        "[![Open In Colab](https://colab.research.google.com/assets/colab-badge.svg)](https://colab.research.google.com/drive/1JEcwCGfLM_4i3JJKHzMbYTP7KYUrRFyL?authuser=3#scrollTo=Je6BARehmNMK)\n",
        "\n",
        "\n"
      ],
      "metadata": {
        "id": "Je6BARehmNMK"
      }
    },
    {
      "cell_type": "code",
      "source": [
        "!pip install educhain"
      ],
      "metadata": {
        "colab": {
          "base_uri": "https://localhost:8080/"
        },
        "id": "q6qvqwWEmUBj",
        "outputId": "db9bad98-33e7-4db8-abf4-94790baa85a7"
      },
      "execution_count": 14,
      "outputs": [
        {
          "output_type": "stream",
          "name": "stdout",
          "text": [
            "Requirement already satisfied: educhain in /usr/local/lib/python3.11/dist-packages (0.3.10)\n",
            "Requirement already satisfied: langchain in /usr/local/lib/python3.11/dist-packages (from educhain) (0.3.26)\n",
            "Requirement already satisfied: langchain-community in /usr/local/lib/python3.11/dist-packages (from educhain) (0.3.26)\n",
            "Requirement already satisfied: langchain-openai in /usr/local/lib/python3.11/dist-packages (from educhain) (0.3.24)\n",
            "Requirement already satisfied: openai in /usr/local/lib/python3.11/dist-packages (from educhain) (1.86.0)\n",
            "Requirement already satisfied: python-dotenv in /usr/local/lib/python3.11/dist-packages (from educhain) (1.1.0)\n",
            "Requirement already satisfied: reportlab in /usr/local/lib/python3.11/dist-packages (from educhain) (4.4.2)\n",
            "Requirement already satisfied: PyPDF2 in /usr/local/lib/python3.11/dist-packages (from educhain) (3.0.1)\n",
            "Requirement already satisfied: beautifulsoup4 in /usr/local/lib/python3.11/dist-packages (from educhain) (4.13.4)\n",
            "Requirement already satisfied: youtube-transcript-api in /usr/local/lib/python3.11/dist-packages (from educhain) (1.1.0)\n",
            "Requirement already satisfied: pydantic in /usr/local/lib/python3.11/dist-packages (from educhain) (2.11.7)\n",
            "Requirement already satisfied: requests in /usr/local/lib/python3.11/dist-packages (from educhain) (2.32.3)\n",
            "Requirement already satisfied: chromadb in /usr/local/lib/python3.11/dist-packages (from educhain) (1.0.13)\n",
            "Requirement already satisfied: protobuf<5 in /usr/local/lib/python3.11/dist-packages (from educhain) (4.25.8)\n",
            "Requirement already satisfied: pillow in /usr/local/lib/python3.11/dist-packages (from educhain) (11.2.1)\n",
            "Requirement already satisfied: dataframe-image in /usr/local/lib/python3.11/dist-packages (from educhain) (0.2.7)\n",
            "Requirement already satisfied: langchain-google-genai in /usr/local/lib/python3.11/dist-packages (from educhain) (2.1.5)\n",
            "Requirement already satisfied: pandas in /usr/local/lib/python3.11/dist-packages (from educhain) (2.2.2)\n",
            "Requirement already satisfied: ipython in /usr/local/lib/python3.11/dist-packages (from educhain) (7.34.0)\n",
            "Requirement already satisfied: matplotlib in /usr/local/lib/python3.11/dist-packages (from educhain) (3.10.0)\n",
            "Requirement already satisfied: numpy in /usr/local/lib/python3.11/dist-packages (from educhain) (2.0.2)\n",
            "Requirement already satisfied: soupsieve>1.2 in /usr/local/lib/python3.11/dist-packages (from beautifulsoup4->educhain) (2.7)\n",
            "Requirement already satisfied: typing-extensions>=4.0.0 in /usr/local/lib/python3.11/dist-packages (from beautifulsoup4->educhain) (4.14.0)\n",
            "Requirement already satisfied: build>=1.0.3 in /usr/local/lib/python3.11/dist-packages (from chromadb->educhain) (1.2.2.post1)\n",
            "Requirement already satisfied: pybase64>=1.4.1 in /usr/local/lib/python3.11/dist-packages (from chromadb->educhain) (1.4.1)\n",
            "Requirement already satisfied: uvicorn>=0.18.3 in /usr/local/lib/python3.11/dist-packages (from uvicorn[standard]>=0.18.3->chromadb->educhain) (0.34.3)\n",
            "Requirement already satisfied: posthog>=2.4.0 in /usr/local/lib/python3.11/dist-packages (from chromadb->educhain) (5.4.0)\n",
            "Requirement already satisfied: onnxruntime>=1.14.1 in /usr/local/lib/python3.11/dist-packages (from chromadb->educhain) (1.22.0)\n",
            "Requirement already satisfied: opentelemetry-api>=1.2.0 in /usr/local/lib/python3.11/dist-packages (from chromadb->educhain) (1.27.0)\n",
            "Requirement already satisfied: opentelemetry-exporter-otlp-proto-grpc>=1.2.0 in /usr/local/lib/python3.11/dist-packages (from chromadb->educhain) (1.27.0)\n",
            "Requirement already satisfied: opentelemetry-sdk>=1.2.0 in /usr/local/lib/python3.11/dist-packages (from chromadb->educhain) (1.27.0)\n",
            "Requirement already satisfied: tokenizers>=0.13.2 in /usr/local/lib/python3.11/dist-packages (from chromadb->educhain) (0.21.1)\n",
            "Requirement already satisfied: pypika>=0.48.9 in /usr/local/lib/python3.11/dist-packages (from chromadb->educhain) (0.48.9)\n",
            "Requirement already satisfied: tqdm>=4.65.0 in /usr/local/lib/python3.11/dist-packages (from chromadb->educhain) (4.67.1)\n",
            "Requirement already satisfied: overrides>=7.3.1 in /usr/local/lib/python3.11/dist-packages (from chromadb->educhain) (7.7.0)\n",
            "Requirement already satisfied: importlib-resources in /usr/local/lib/python3.11/dist-packages (from chromadb->educhain) (6.5.2)\n",
            "Requirement already satisfied: grpcio>=1.58.0 in /usr/local/lib/python3.11/dist-packages (from chromadb->educhain) (1.73.0)\n",
            "Requirement already satisfied: bcrypt>=4.0.1 in /usr/local/lib/python3.11/dist-packages (from chromadb->educhain) (4.3.0)\n",
            "Requirement already satisfied: typer>=0.9.0 in /usr/local/lib/python3.11/dist-packages (from chromadb->educhain) (0.16.0)\n",
            "Requirement already satisfied: kubernetes>=28.1.0 in /usr/local/lib/python3.11/dist-packages (from chromadb->educhain) (33.1.0)\n",
            "Requirement already satisfied: tenacity>=8.2.3 in /usr/local/lib/python3.11/dist-packages (from chromadb->educhain) (9.1.2)\n",
            "Requirement already satisfied: pyyaml>=6.0.0 in /usr/local/lib/python3.11/dist-packages (from chromadb->educhain) (6.0.2)\n",
            "Requirement already satisfied: mmh3>=4.0.1 in /usr/local/lib/python3.11/dist-packages (from chromadb->educhain) (5.1.0)\n",
            "Requirement already satisfied: orjson>=3.9.12 in /usr/local/lib/python3.11/dist-packages (from chromadb->educhain) (3.10.18)\n",
            "Requirement already satisfied: httpx>=0.27.0 in /usr/local/lib/python3.11/dist-packages (from chromadb->educhain) (0.28.1)\n",
            "Requirement already satisfied: rich>=10.11.0 in /usr/local/lib/python3.11/dist-packages (from chromadb->educhain) (13.9.4)\n",
            "Requirement already satisfied: jsonschema>=4.19.0 in /usr/local/lib/python3.11/dist-packages (from chromadb->educhain) (4.24.0)\n",
            "Requirement already satisfied: annotated-types>=0.6.0 in /usr/local/lib/python3.11/dist-packages (from pydantic->educhain) (0.7.0)\n",
            "Requirement already satisfied: pydantic-core==2.33.2 in /usr/local/lib/python3.11/dist-packages (from pydantic->educhain) (2.33.2)\n",
            "Requirement already satisfied: typing-inspection>=0.4.0 in /usr/local/lib/python3.11/dist-packages (from pydantic->educhain) (0.4.1)\n",
            "Requirement already satisfied: nbconvert>=5 in /usr/local/lib/python3.11/dist-packages (from dataframe-image->educhain) (7.16.6)\n",
            "Requirement already satisfied: aiohttp>=3.10.2 in /usr/local/lib/python3.11/dist-packages (from dataframe-image->educhain) (3.11.15)\n",
            "Requirement already satisfied: packaging in /usr/local/lib/python3.11/dist-packages (from dataframe-image->educhain) (24.2)\n",
            "Requirement already satisfied: mistune in /usr/local/lib/python3.11/dist-packages (from dataframe-image->educhain) (3.1.3)\n",
            "Requirement already satisfied: lxml in /usr/local/lib/python3.11/dist-packages (from dataframe-image->educhain) (5.4.0)\n",
            "Requirement already satisfied: cssutils in /usr/local/lib/python3.11/dist-packages (from dataframe-image->educhain) (2.11.1)\n",
            "Requirement already satisfied: playwright in /usr/local/lib/python3.11/dist-packages (from dataframe-image->educhain) (1.52.0)\n",
            "Requirement already satisfied: cssselect in /usr/local/lib/python3.11/dist-packages (from dataframe-image->educhain) (1.3.0)\n",
            "Requirement already satisfied: python-dateutil>=2.8.2 in /usr/local/lib/python3.11/dist-packages (from pandas->educhain) (2.9.0.post0)\n",
            "Requirement already satisfied: pytz>=2020.1 in /usr/local/lib/python3.11/dist-packages (from pandas->educhain) (2025.2)\n",
            "Requirement already satisfied: tzdata>=2022.7 in /usr/local/lib/python3.11/dist-packages (from pandas->educhain) (2025.2)\n",
            "Requirement already satisfied: setuptools>=18.5 in /usr/local/lib/python3.11/dist-packages (from ipython->educhain) (75.2.0)\n",
            "Requirement already satisfied: jedi>=0.16 in /usr/local/lib/python3.11/dist-packages (from ipython->educhain) (0.19.2)\n",
            "Requirement already satisfied: decorator in /usr/local/lib/python3.11/dist-packages (from ipython->educhain) (4.4.2)\n",
            "Requirement already satisfied: pickleshare in /usr/local/lib/python3.11/dist-packages (from ipython->educhain) (0.7.5)\n",
            "Requirement already satisfied: traitlets>=4.2 in /usr/local/lib/python3.11/dist-packages (from ipython->educhain) (5.7.1)\n",
            "Requirement already satisfied: prompt-toolkit!=3.0.0,!=3.0.1,<3.1.0,>=2.0.0 in /usr/local/lib/python3.11/dist-packages (from ipython->educhain) (3.0.51)\n",
            "Requirement already satisfied: pygments in /usr/local/lib/python3.11/dist-packages (from ipython->educhain) (2.19.1)\n",
            "Requirement already satisfied: backcall in /usr/local/lib/python3.11/dist-packages (from ipython->educhain) (0.2.0)\n",
            "Requirement already satisfied: matplotlib-inline in /usr/local/lib/python3.11/dist-packages (from ipython->educhain) (0.1.7)\n",
            "Requirement already satisfied: pexpect>4.3 in /usr/local/lib/python3.11/dist-packages (from ipython->educhain) (4.9.0)\n",
            "Requirement already satisfied: langchain-core<1.0.0,>=0.3.66 in /usr/local/lib/python3.11/dist-packages (from langchain->educhain) (0.3.66)\n",
            "Requirement already satisfied: langchain-text-splitters<1.0.0,>=0.3.8 in /usr/local/lib/python3.11/dist-packages (from langchain->educhain) (0.3.8)\n",
            "Requirement already satisfied: langsmith>=0.1.17 in /usr/local/lib/python3.11/dist-packages (from langchain->educhain) (0.3.45)\n",
            "Requirement already satisfied: SQLAlchemy<3,>=1.4 in /usr/local/lib/python3.11/dist-packages (from langchain->educhain) (2.0.41)\n",
            "Requirement already satisfied: charset-normalizer<4,>=2 in /usr/local/lib/python3.11/dist-packages (from requests->educhain) (3.4.2)\n",
            "Requirement already satisfied: idna<4,>=2.5 in /usr/local/lib/python3.11/dist-packages (from requests->educhain) (3.10)\n",
            "Requirement already satisfied: urllib3<3,>=1.21.1 in /usr/local/lib/python3.11/dist-packages (from requests->educhain) (2.4.0)\n",
            "Requirement already satisfied: certifi>=2017.4.17 in /usr/local/lib/python3.11/dist-packages (from requests->educhain) (2025.6.15)\n",
            "Requirement already satisfied: dataclasses-json<0.7,>=0.5.7 in /usr/local/lib/python3.11/dist-packages (from langchain-community->educhain) (0.6.7)\n",
            "Requirement already satisfied: pydantic-settings<3.0.0,>=2.4.0 in /usr/local/lib/python3.11/dist-packages (from langchain-community->educhain) (2.9.1)\n",
            "Requirement already satisfied: httpx-sse<1.0.0,>=0.4.0 in /usr/local/lib/python3.11/dist-packages (from langchain-community->educhain) (0.4.0)\n",
            "Requirement already satisfied: filetype<2.0.0,>=1.2.0 in /usr/local/lib/python3.11/dist-packages (from langchain-google-genai->educhain) (1.2.0)\n",
            "Requirement already satisfied: google-ai-generativelanguage<0.7.0,>=0.6.18 in /usr/local/lib/python3.11/dist-packages (from langchain-google-genai->educhain) (0.6.18)\n",
            "Requirement already satisfied: tiktoken<1,>=0.7 in /usr/local/lib/python3.11/dist-packages (from langchain-openai->educhain) (0.9.0)\n",
            "Requirement already satisfied: anyio<5,>=3.5.0 in /usr/local/lib/python3.11/dist-packages (from openai->educhain) (4.9.0)\n",
            "Requirement already satisfied: distro<2,>=1.7.0 in /usr/local/lib/python3.11/dist-packages (from openai->educhain) (1.9.0)\n",
            "Requirement already satisfied: jiter<1,>=0.4.0 in /usr/local/lib/python3.11/dist-packages (from openai->educhain) (0.10.0)\n",
            "Requirement already satisfied: sniffio in /usr/local/lib/python3.11/dist-packages (from openai->educhain) (1.3.1)\n",
            "Requirement already satisfied: contourpy>=1.0.1 in /usr/local/lib/python3.11/dist-packages (from matplotlib->educhain) (1.3.2)\n",
            "Requirement already satisfied: cycler>=0.10 in /usr/local/lib/python3.11/dist-packages (from matplotlib->educhain) (0.12.1)\n",
            "Requirement already satisfied: fonttools>=4.22.0 in /usr/local/lib/python3.11/dist-packages (from matplotlib->educhain) (4.58.4)\n",
            "Requirement already satisfied: kiwisolver>=1.3.1 in /usr/local/lib/python3.11/dist-packages (from matplotlib->educhain) (1.4.8)\n",
            "Requirement already satisfied: pyparsing>=2.3.1 in /usr/local/lib/python3.11/dist-packages (from matplotlib->educhain) (3.2.3)\n",
            "Requirement already satisfied: defusedxml<0.8.0,>=0.7.1 in /usr/local/lib/python3.11/dist-packages (from youtube-transcript-api->educhain) (0.7.1)\n",
            "Requirement already satisfied: aiohappyeyeballs>=2.3.0 in /usr/local/lib/python3.11/dist-packages (from aiohttp>=3.10.2->dataframe-image->educhain) (2.6.1)\n",
            "Requirement already satisfied: aiosignal>=1.1.2 in /usr/local/lib/python3.11/dist-packages (from aiohttp>=3.10.2->dataframe-image->educhain) (1.3.2)\n",
            "Requirement already satisfied: attrs>=17.3.0 in /usr/local/lib/python3.11/dist-packages (from aiohttp>=3.10.2->dataframe-image->educhain) (25.3.0)\n",
            "Requirement already satisfied: frozenlist>=1.1.1 in /usr/local/lib/python3.11/dist-packages (from aiohttp>=3.10.2->dataframe-image->educhain) (1.7.0)\n",
            "Requirement already satisfied: multidict<7.0,>=4.5 in /usr/local/lib/python3.11/dist-packages (from aiohttp>=3.10.2->dataframe-image->educhain) (6.4.4)\n",
            "Requirement already satisfied: propcache>=0.2.0 in /usr/local/lib/python3.11/dist-packages (from aiohttp>=3.10.2->dataframe-image->educhain) (0.3.2)\n",
            "Requirement already satisfied: yarl<2.0,>=1.17.0 in /usr/local/lib/python3.11/dist-packages (from aiohttp>=3.10.2->dataframe-image->educhain) (1.20.1)\n",
            "Requirement already satisfied: pyproject_hooks in /usr/local/lib/python3.11/dist-packages (from build>=1.0.3->chromadb->educhain) (1.2.0)\n",
            "Requirement already satisfied: marshmallow<4.0.0,>=3.18.0 in /usr/local/lib/python3.11/dist-packages (from dataclasses-json<0.7,>=0.5.7->langchain-community->educhain) (3.26.1)\n",
            "Requirement already satisfied: typing-inspect<1,>=0.4.0 in /usr/local/lib/python3.11/dist-packages (from dataclasses-json<0.7,>=0.5.7->langchain-community->educhain) (0.9.0)\n",
            "Requirement already satisfied: google-api-core!=2.0.*,!=2.1.*,!=2.10.*,!=2.2.*,!=2.3.*,!=2.4.*,!=2.5.*,!=2.6.*,!=2.7.*,!=2.8.*,!=2.9.*,<3.0.0,>=1.34.1 in /usr/local/lib/python3.11/dist-packages (from google-api-core[grpc]!=2.0.*,!=2.1.*,!=2.10.*,!=2.2.*,!=2.3.*,!=2.4.*,!=2.5.*,!=2.6.*,!=2.7.*,!=2.8.*,!=2.9.*,<3.0.0,>=1.34.1->google-ai-generativelanguage<0.7.0,>=0.6.18->langchain-google-genai->educhain) (2.25.1)\n",
            "Requirement already satisfied: google-auth!=2.24.0,!=2.25.0,<3.0.0,>=2.14.1 in /usr/local/lib/python3.11/dist-packages (from google-ai-generativelanguage<0.7.0,>=0.6.18->langchain-google-genai->educhain) (2.38.0)\n",
            "Requirement already satisfied: proto-plus<2.0.0,>=1.22.3 in /usr/local/lib/python3.11/dist-packages (from google-ai-generativelanguage<0.7.0,>=0.6.18->langchain-google-genai->educhain) (1.26.1)\n",
            "Requirement already satisfied: httpcore==1.* in /usr/local/lib/python3.11/dist-packages (from httpx>=0.27.0->chromadb->educhain) (1.0.9)\n",
            "Requirement already satisfied: h11>=0.16 in /usr/local/lib/python3.11/dist-packages (from httpcore==1.*->httpx>=0.27.0->chromadb->educhain) (0.16.0)\n",
            "Requirement already satisfied: parso<0.9.0,>=0.8.4 in /usr/local/lib/python3.11/dist-packages (from jedi>=0.16->ipython->educhain) (0.8.4)\n",
            "Requirement already satisfied: jsonschema-specifications>=2023.03.6 in /usr/local/lib/python3.11/dist-packages (from jsonschema>=4.19.0->chromadb->educhain) (2025.4.1)\n",
            "Requirement already satisfied: referencing>=0.28.4 in /usr/local/lib/python3.11/dist-packages (from jsonschema>=4.19.0->chromadb->educhain) (0.36.2)\n",
            "Requirement already satisfied: rpds-py>=0.7.1 in /usr/local/lib/python3.11/dist-packages (from jsonschema>=4.19.0->chromadb->educhain) (0.25.1)\n",
            "Requirement already satisfied: six>=1.9.0 in /usr/local/lib/python3.11/dist-packages (from kubernetes>=28.1.0->chromadb->educhain) (1.17.0)\n",
            "Requirement already satisfied: websocket-client!=0.40.0,!=0.41.*,!=0.42.*,>=0.32.0 in /usr/local/lib/python3.11/dist-packages (from kubernetes>=28.1.0->chromadb->educhain) (1.8.0)\n",
            "Requirement already satisfied: requests-oauthlib in /usr/local/lib/python3.11/dist-packages (from kubernetes>=28.1.0->chromadb->educhain) (2.0.0)\n",
            "Requirement already satisfied: oauthlib>=3.2.2 in /usr/local/lib/python3.11/dist-packages (from kubernetes>=28.1.0->chromadb->educhain) (3.2.2)\n",
            "Requirement already satisfied: durationpy>=0.7 in /usr/local/lib/python3.11/dist-packages (from kubernetes>=28.1.0->chromadb->educhain) (0.10)\n",
            "Requirement already satisfied: jsonpatch<2.0,>=1.33 in /usr/local/lib/python3.11/dist-packages (from langchain-core<1.0.0,>=0.3.66->langchain->educhain) (1.33)\n",
            "Requirement already satisfied: requests-toolbelt<2.0.0,>=1.0.0 in /usr/local/lib/python3.11/dist-packages (from langsmith>=0.1.17->langchain->educhain) (1.0.0)\n",
            "Requirement already satisfied: zstandard<0.24.0,>=0.23.0 in /usr/local/lib/python3.11/dist-packages (from langsmith>=0.1.17->langchain->educhain) (0.23.0)\n",
            "Requirement already satisfied: bleach!=5.0.0 in /usr/local/lib/python3.11/dist-packages (from bleach[css]!=5.0.0->nbconvert>=5->dataframe-image->educhain) (6.2.0)\n",
            "Requirement already satisfied: jinja2>=3.0 in /usr/local/lib/python3.11/dist-packages (from nbconvert>=5->dataframe-image->educhain) (3.1.6)\n",
            "Requirement already satisfied: jupyter-core>=4.7 in /usr/local/lib/python3.11/dist-packages (from nbconvert>=5->dataframe-image->educhain) (5.8.1)\n",
            "Requirement already satisfied: jupyterlab-pygments in /usr/local/lib/python3.11/dist-packages (from nbconvert>=5->dataframe-image->educhain) (0.3.0)\n",
            "Requirement already satisfied: markupsafe>=2.0 in /usr/local/lib/python3.11/dist-packages (from nbconvert>=5->dataframe-image->educhain) (3.0.2)\n",
            "Requirement already satisfied: nbclient>=0.5.0 in /usr/local/lib/python3.11/dist-packages (from nbconvert>=5->dataframe-image->educhain) (0.10.2)\n",
            "Requirement already satisfied: nbformat>=5.7 in /usr/local/lib/python3.11/dist-packages (from nbconvert>=5->dataframe-image->educhain) (5.10.4)\n",
            "Requirement already satisfied: pandocfilters>=1.4.1 in /usr/local/lib/python3.11/dist-packages (from nbconvert>=5->dataframe-image->educhain) (1.5.1)\n",
            "Requirement already satisfied: coloredlogs in /usr/local/lib/python3.11/dist-packages (from onnxruntime>=1.14.1->chromadb->educhain) (15.0.1)\n",
            "Requirement already satisfied: flatbuffers in /usr/local/lib/python3.11/dist-packages (from onnxruntime>=1.14.1->chromadb->educhain) (25.2.10)\n",
            "Requirement already satisfied: sympy in /usr/local/lib/python3.11/dist-packages (from onnxruntime>=1.14.1->chromadb->educhain) (1.13.1)\n",
            "Requirement already satisfied: deprecated>=1.2.6 in /usr/local/lib/python3.11/dist-packages (from opentelemetry-api>=1.2.0->chromadb->educhain) (1.2.18)\n",
            "Requirement already satisfied: importlib-metadata<=8.4.0,>=6.0 in /usr/local/lib/python3.11/dist-packages (from opentelemetry-api>=1.2.0->chromadb->educhain) (8.4.0)\n",
            "Requirement already satisfied: googleapis-common-protos~=1.52 in /usr/local/lib/python3.11/dist-packages (from opentelemetry-exporter-otlp-proto-grpc>=1.2.0->chromadb->educhain) (1.70.0)\n",
            "Requirement already satisfied: opentelemetry-exporter-otlp-proto-common==1.27.0 in /usr/local/lib/python3.11/dist-packages (from opentelemetry-exporter-otlp-proto-grpc>=1.2.0->chromadb->educhain) (1.27.0)\n",
            "Requirement already satisfied: opentelemetry-proto==1.27.0 in /usr/local/lib/python3.11/dist-packages (from opentelemetry-exporter-otlp-proto-grpc>=1.2.0->chromadb->educhain) (1.27.0)\n",
            "Requirement already satisfied: opentelemetry-semantic-conventions==0.48b0 in /usr/local/lib/python3.11/dist-packages (from opentelemetry-sdk>=1.2.0->chromadb->educhain) (0.48b0)\n",
            "Requirement already satisfied: ptyprocess>=0.5 in /usr/local/lib/python3.11/dist-packages (from pexpect>4.3->ipython->educhain) (0.7.0)\n",
            "Requirement already satisfied: backoff>=1.10.0 in /usr/local/lib/python3.11/dist-packages (from posthog>=2.4.0->chromadb->educhain) (2.2.1)\n",
            "Requirement already satisfied: wcwidth in /usr/local/lib/python3.11/dist-packages (from prompt-toolkit!=3.0.0,!=3.0.1,<3.1.0,>=2.0.0->ipython->educhain) (0.2.13)\n",
            "Requirement already satisfied: markdown-it-py>=2.2.0 in /usr/local/lib/python3.11/dist-packages (from rich>=10.11.0->chromadb->educhain) (3.0.0)\n",
            "Requirement already satisfied: greenlet>=1 in /usr/local/lib/python3.11/dist-packages (from SQLAlchemy<3,>=1.4->langchain->educhain) (3.2.3)\n",
            "Requirement already satisfied: regex>=2022.1.18 in /usr/local/lib/python3.11/dist-packages (from tiktoken<1,>=0.7->langchain-openai->educhain) (2024.11.6)\n",
            "Requirement already satisfied: huggingface-hub<1.0,>=0.16.4 in /usr/local/lib/python3.11/dist-packages (from tokenizers>=0.13.2->chromadb->educhain) (0.33.0)\n",
            "Requirement already satisfied: click>=8.0.0 in /usr/local/lib/python3.11/dist-packages (from typer>=0.9.0->chromadb->educhain) (8.2.1)\n",
            "Requirement already satisfied: shellingham>=1.3.0 in /usr/local/lib/python3.11/dist-packages (from typer>=0.9.0->chromadb->educhain) (1.5.4)\n",
            "Requirement already satisfied: httptools>=0.6.3 in /usr/local/lib/python3.11/dist-packages (from uvicorn[standard]>=0.18.3->chromadb->educhain) (0.6.4)\n",
            "Requirement already satisfied: uvloop>=0.15.1 in /usr/local/lib/python3.11/dist-packages (from uvicorn[standard]>=0.18.3->chromadb->educhain) (0.21.0)\n",
            "Requirement already satisfied: watchfiles>=0.13 in /usr/local/lib/python3.11/dist-packages (from uvicorn[standard]>=0.18.3->chromadb->educhain) (1.1.0)\n",
            "Requirement already satisfied: websockets>=10.4 in /usr/local/lib/python3.11/dist-packages (from uvicorn[standard]>=0.18.3->chromadb->educhain) (15.0.1)\n",
            "Requirement already satisfied: more-itertools in /usr/local/lib/python3.11/dist-packages (from cssutils->dataframe-image->educhain) (10.7.0)\n",
            "Requirement already satisfied: pyee<14,>=13 in /usr/local/lib/python3.11/dist-packages (from playwright->dataframe-image->educhain) (13.0.0)\n",
            "Requirement already satisfied: webencodings in /usr/local/lib/python3.11/dist-packages (from bleach!=5.0.0->bleach[css]!=5.0.0->nbconvert>=5->dataframe-image->educhain) (0.5.1)\n",
            "Requirement already satisfied: tinycss2<1.5,>=1.1.0 in /usr/local/lib/python3.11/dist-packages (from bleach[css]!=5.0.0->nbconvert>=5->dataframe-image->educhain) (1.4.0)\n",
            "Requirement already satisfied: wrapt<2,>=1.10 in /usr/local/lib/python3.11/dist-packages (from deprecated>=1.2.6->opentelemetry-api>=1.2.0->chromadb->educhain) (1.17.2)\n",
            "Requirement already satisfied: grpcio-status<2.0.0,>=1.33.2 in /usr/local/lib/python3.11/dist-packages (from google-api-core[grpc]!=2.0.*,!=2.1.*,!=2.10.*,!=2.2.*,!=2.3.*,!=2.4.*,!=2.5.*,!=2.6.*,!=2.7.*,!=2.8.*,!=2.9.*,<3.0.0,>=1.34.1->google-ai-generativelanguage<0.7.0,>=0.6.18->langchain-google-genai->educhain) (1.62.3)\n",
            "Requirement already satisfied: cachetools<6.0,>=2.0.0 in /usr/local/lib/python3.11/dist-packages (from google-auth!=2.24.0,!=2.25.0,<3.0.0,>=2.14.1->google-ai-generativelanguage<0.7.0,>=0.6.18->langchain-google-genai->educhain) (5.5.2)\n",
            "Requirement already satisfied: pyasn1-modules>=0.2.1 in /usr/local/lib/python3.11/dist-packages (from google-auth!=2.24.0,!=2.25.0,<3.0.0,>=2.14.1->google-ai-generativelanguage<0.7.0,>=0.6.18->langchain-google-genai->educhain) (0.4.2)\n",
            "Requirement already satisfied: rsa<5,>=3.1.4 in /usr/local/lib/python3.11/dist-packages (from google-auth!=2.24.0,!=2.25.0,<3.0.0,>=2.14.1->google-ai-generativelanguage<0.7.0,>=0.6.18->langchain-google-genai->educhain) (4.9.1)\n",
            "Requirement already satisfied: filelock in /usr/local/lib/python3.11/dist-packages (from huggingface-hub<1.0,>=0.16.4->tokenizers>=0.13.2->chromadb->educhain) (3.18.0)\n",
            "Requirement already satisfied: fsspec>=2023.5.0 in /usr/local/lib/python3.11/dist-packages (from huggingface-hub<1.0,>=0.16.4->tokenizers>=0.13.2->chromadb->educhain) (2025.3.2)\n",
            "Requirement already satisfied: hf-xet<2.0.0,>=1.1.2 in /usr/local/lib/python3.11/dist-packages (from huggingface-hub<1.0,>=0.16.4->tokenizers>=0.13.2->chromadb->educhain) (1.1.3)\n",
            "Requirement already satisfied: zipp>=0.5 in /usr/local/lib/python3.11/dist-packages (from importlib-metadata<=8.4.0,>=6.0->opentelemetry-api>=1.2.0->chromadb->educhain) (3.23.0)\n",
            "Requirement already satisfied: jsonpointer>=1.9 in /usr/local/lib/python3.11/dist-packages (from jsonpatch<2.0,>=1.33->langchain-core<1.0.0,>=0.3.66->langchain->educhain) (3.0.0)\n",
            "Requirement already satisfied: platformdirs>=2.5 in /usr/local/lib/python3.11/dist-packages (from jupyter-core>=4.7->nbconvert>=5->dataframe-image->educhain) (4.3.8)\n",
            "Requirement already satisfied: mdurl~=0.1 in /usr/local/lib/python3.11/dist-packages (from markdown-it-py>=2.2.0->rich>=10.11.0->chromadb->educhain) (0.1.2)\n",
            "Requirement already satisfied: jupyter-client>=6.1.12 in /usr/local/lib/python3.11/dist-packages (from nbclient>=0.5.0->nbconvert>=5->dataframe-image->educhain) (6.1.12)\n",
            "Requirement already satisfied: fastjsonschema>=2.15 in /usr/local/lib/python3.11/dist-packages (from nbformat>=5.7->nbconvert>=5->dataframe-image->educhain) (2.21.1)\n",
            "Requirement already satisfied: mypy-extensions>=0.3.0 in /usr/local/lib/python3.11/dist-packages (from typing-inspect<1,>=0.4.0->dataclasses-json<0.7,>=0.5.7->langchain-community->educhain) (1.1.0)\n",
            "Requirement already satisfied: humanfriendly>=9.1 in /usr/local/lib/python3.11/dist-packages (from coloredlogs->onnxruntime>=1.14.1->chromadb->educhain) (10.0)\n",
            "Requirement already satisfied: mpmath<1.4,>=1.1.0 in /usr/local/lib/python3.11/dist-packages (from sympy->onnxruntime>=1.14.1->chromadb->educhain) (1.3.0)\n",
            "Requirement already satisfied: pyzmq>=13 in /usr/local/lib/python3.11/dist-packages (from jupyter-client>=6.1.12->nbclient>=0.5.0->nbconvert>=5->dataframe-image->educhain) (24.0.1)\n",
            "Requirement already satisfied: tornado>=4.1 in /usr/local/lib/python3.11/dist-packages (from jupyter-client>=6.1.12->nbclient>=0.5.0->nbconvert>=5->dataframe-image->educhain) (6.4.2)\n",
            "Requirement already satisfied: pyasn1<0.7.0,>=0.6.1 in /usr/local/lib/python3.11/dist-packages (from pyasn1-modules>=0.2.1->google-auth!=2.24.0,!=2.25.0,<3.0.0,>=2.14.1->google-ai-generativelanguage<0.7.0,>=0.6.18->langchain-google-genai->educhain) (0.6.1)\n"
          ]
        }
      ]
    },
    {
      "cell_type": "code",
      "source": [
        "from google.colab import userdata\n",
        "GOOGLE_API_KEY = userdata.get(\"GEMINI_KEY\")"
      ],
      "metadata": {
        "id": "Sy9cyDQHmf-0"
      },
      "execution_count": 1,
      "outputs": []
    },
    {
      "cell_type": "markdown",
      "source": [
        "### Setting up the Custom LLM. Here Gemini model is used for generating the content ahead."
      ],
      "metadata": {
        "id": "ndW_YxL9yPzl"
      }
    },
    {
      "cell_type": "code",
      "source": [
        "from educhain import Educhain, LLMConfig\n",
        "import google.generativeai as genai\n",
        "from langchain_google_genai import ChatGoogleGenerativeAI\n",
        "import os\n",
        "\n",
        "gemini_flash = ChatGoogleGenerativeAI(\n",
        "        model=\"gemini-2.0-flash\",\n",
        "        google_api_key=GOOGLE_API_KEY\n",
        ")\n",
        "flash_config = LLMConfig(custom_model=gemini_flash)\n",
        "client = Educhain(flash_config)"
      ],
      "metadata": {
        "id": "MPj_UgfSmYSv"
      },
      "execution_count": 2,
      "outputs": []
    },
    {
      "cell_type": "markdown",
      "source": [
        "### Core Functionality of the PYQ-to-Prep.\n",
        "- Generating Mock Questions from popular exams such as NEET, JEE, Class 10, Class 12\n",
        "- Generating explanation - doubt clearing from images\n",
        "- Generating related questions from PDFs\n",
        "- Generating questions related to a text block"
      ],
      "metadata": {
        "id": "u8NdQ_NDyZl7"
      }
    },
    {
      "cell_type": "code",
      "source": [
        "from PyPDF2 import PdfReader\n",
        "\n",
        "def extract_text_from_pdf(file_path):\n",
        "    \"\"\"\" Extracting Text from the provided PDF \"\"\"\n",
        "    reader = PdfReader(file_path)\n",
        "    text = \" \".join([page.extract_text() or \"\" for page in reader.pages])\n",
        "    return \" \".join(text.split())\n",
        "\n",
        "def generate_questions_from_text(text, num_q=10, doubt=None):\n",
        "    \"\"\" Generate Questions from the provided text \"\"\"\n",
        "    prompt = doubt if doubt else \"Generate diverse questions from this PYQ\"\n",
        "    result = client.qna_engine.generate_questions_from_data(\n",
        "        source=text,\n",
        "        source_type=\"text\",\n",
        "        num=num_q,\n",
        "        custom_instructions=(\n",
        "            \"Generate a mix of MCQs, True/False, Short and Long Answer questions based on this content. \"\n",
        "            \"Add Bloom's taxonomy & difficulty levels where relevant.\"\n",
        "        )\n",
        "    )\n",
        "    return result\n",
        "\n",
        "def generate_mock_questions(exam_type, subject, topic=\"\", num_q=10):\n",
        "    \"\"\" Generate Mock - Practice question topic-wise using Educhain and Gemini \"\"\"\n",
        "    topic_query = f\"{exam_type} {subject} {topic}\".strip()\n",
        "    result = client.qna_engine.generate_questions(\n",
        "        topic=topic_query,\n",
        "        num=num_q,\n",
        "        custom_instructions=(\n",
        "            \"Generate diverse PYQ-style MCQ, TF, Short and Long answer questions with explanations, \"\n",
        "            \"Bloom's levels, and difficulty rating.\"\n",
        "        )\n",
        "    )\n",
        "    return result\n",
        "\n",
        "def solve_image_doubt(image_path, prompt=\"Explain this image in detail\"):\n",
        "    \"\"\" Uses doubt_solver to explain the conept present in the provided image \"\"\"\n",
        "    explanation = client.qna_engine.solve_doubt(\n",
        "        image_source=image_path,\n",
        "        prompt=prompt,\n",
        "        detail_level=\"High\"\n",
        "    )\n",
        "    return explanation"
      ],
      "metadata": {
        "id": "_pfyDmshnlSl"
      },
      "execution_count": 8,
      "outputs": []
    },
    {
      "cell_type": "markdown",
      "metadata": {
        "id": "o1e1DR65w_SC"
      },
      "source": [
        "### 📚 Use Case 1(a): Generate Mock Questions by Exam Type and Subject"
      ]
    },
    {
      "cell_type": "markdown",
      "source": [
        "##### Generating 'NEET' related questions\n",
        "In the function **generate_mock_question** three attributes are passed:\n",
        "- exam_type : Stating which popular exam we are targetting [Required]\n",
        "- subject : Particular subject selection from the selected exam_type [Required]\n",
        "- topic : Particular topic for questions focusing on the stated topic [Optional]\n",
        "- num_q : Number of questions to be generated [Optional]\n",
        "\n",
        "Here, Educhain's ***qna_engine.generate_questions*** model is being used."
      ],
      "metadata": {
        "id": "iyLx9ImhzIkf"
      }
    },
    {
      "cell_type": "code",
      "source": [
        "mock = generate_mock_questions(exam_type=\"NEET\", subject=\"Biology\", topic=\"Photosynthesis\", num_q=3)\n",
        "\n",
        "for i, q in enumerate(mock.questions, 1):\n",
        "    print(f\"\\nQ{i}: {q.question}\")\n",
        "    if hasattr(q, \"options\") and q.options:\n",
        "        for j, opt in enumerate(q.options):\n",
        "            print(f\"  {chr(65 + j)}. {opt}\")\n",
        "        print(f\"Answer: {q.answer}\")\n",
        "    else:\n",
        "        print(f\"Answer: {q.answer}\")\n",
        "    if getattr(q, \"explanation\", None):\n",
        "        print(f\"Explanation: {q.explanation}\")"
      ],
      "metadata": {
        "colab": {
          "base_uri": "https://localhost:8080/"
        },
        "id": "tMfbDDs3w3Wt",
        "outputId": "55c8f2ee-428e-4c82-fc2e-10f93eaac1f0"
      },
      "execution_count": 10,
      "outputs": [
        {
          "output_type": "stream",
          "name": "stdout",
          "text": [
            "\n",
            "Q1: Which of the following is the primary function of the light-harvesting complex within the photosystems?\n",
            "  A. To directly split water molecules\n",
            "  B. To capture light energy and transfer it to the reaction center\n",
            "  C. To synthesize ATP\n",
            "  D. To fix carbon dioxide\n",
            "Answer: To capture light energy and transfer it to the reaction center\n",
            "Explanation: The light-harvesting complex contains pigment molecules that absorb light energy and transfer it to the reaction center, where the energy is used to excite electrons.\n",
            "\n",
            "Q2: In the C4 pathway, the primary CO2 acceptor is:\n",
            "  A. Ribulose-1,5-bisphosphate (RuBP)\n",
            "  B. Phosphoenolpyruvate (PEP)\n",
            "  C. Glyceraldehyde-3-phosphate (G3P)\n",
            "  D. 3-phosphoglycerate (3-PGA)\n",
            "Answer: Phosphoenolpyruvate (PEP)\n",
            "Explanation: In C4 plants, CO2 is initially fixed in the mesophyll cells by the enzyme PEP carboxylase, which catalyzes the carboxylation of phosphoenolpyruvate (PEP) to form oxaloacetate.\n",
            "\n",
            "Q3: Which of the following is NOT a product of the light-dependent reactions of photosynthesis?\n",
            "  A. ATP\n",
            "  B. NADPH\n",
            "  C. Oxygen\n",
            "  D. Glucose\n",
            "Answer: Glucose\n",
            "Explanation: The light-dependent reactions produce ATP, NADPH, and oxygen. Glucose is a product of the light-independent reactions (Calvin cycle).\n"
          ]
        }
      ]
    },
    {
      "cell_type": "markdown",
      "source": [
        "### 📚 Use Case 1(b): Generate Mock Questions by Exam Type and Subject"
      ],
      "metadata": {
        "id": "iGfugZGJxwfk"
      }
    },
    {
      "cell_type": "code",
      "source": [
        "mock = generate_mock_questions(exam_type=\"Class 12\", subject=\"English\", num_q=5)\n",
        "\n",
        "for i, q in enumerate(mock.questions, 1):\n",
        "    print(f\"\\nQ{i}: {q.question}\")\n",
        "    if hasattr(q, \"options\") and q.options:\n",
        "        for j, opt in enumerate(q.options):\n",
        "            print(f\"  {chr(65 + j)}. {opt}\")\n",
        "        print(f\"Answer: {q.answer}\")\n",
        "    else:\n",
        "        print(f\"Answer: {q.answer}\")\n",
        "    if getattr(q, \"explanation\", None):\n",
        "        print(f\"Explanation: {q.explanation}\")"
      ],
      "metadata": {
        "colab": {
          "base_uri": "https://localhost:8080/"
        },
        "id": "Wa6fPk2axw3S",
        "outputId": "1f5e8a80-2908-4665-8f63-fb0c3969d0d7"
      },
      "execution_count": 13,
      "outputs": [
        {
          "output_type": "stream",
          "name": "stdout",
          "text": [
            "\n",
            "Q1: In 'The Last Lesson,' what did Franz regret not learning?\n",
            "  A. German grammar\n",
            "  B. His French grammar\n",
            "  C. History\n",
            "  D. Mathematics\n",
            "Answer: His French grammar\n",
            "Explanation: Franz regrets not taking his lessons seriously and wasting time instead of learning his native language.\n",
            "\n",
            "Q2: What is the central theme of the poem 'Aunt Jennifer's Tigers'?\n",
            "  A. The beauty of nature\n",
            "  B. The constraints of married life on women\n",
            "  C. The power of art\n",
            "  D. The joys of embroidery\n",
            "Answer: The constraints of married life on women\n",
            "Explanation: The poem explores the oppression and lack of freedom experienced by women within the institution of marriage, using Aunt Jennifer's embroidered tigers as a symbol of freedom and power she lacks in her own life.\n",
            "\n",
            "Q3: In 'Lost Spring', what does Saheb look for in the garbage dumps?\n",
            "  A. Silver\n",
            "  B. Toys\n",
            "  C. Gold\n",
            "  D. Clothes\n",
            "Answer: Gold\n",
            "Explanation: Saheb searches the garbage dumps hoping to find something valuable, metaphorically referred to as 'gold'.\n",
            "\n",
            "Q4: What does the title 'Deep Water' signify in William Douglas's story?\n",
            "  A. The depth of the swimming pool\n",
            "  B. The profound fear of water Douglas experienced\n",
            "  C. The importance of learning to swim\n",
            "  D. The beauty of lakes and rivers\n",
            "Answer: The profound fear of water Douglas experienced\n",
            "Explanation: The title refers to the deep-seated and intense fear of water that William Douglas battled and eventually overcame.\n",
            "\n",
            "Q5: In 'The Rattrap', what does the peddler sell?\n",
            "  A. Wooden toys\n",
            "  B. Small rattraps made of wire\n",
            "  C. Matches\n",
            "  D. Newspapers\n",
            "Answer: Small rattraps made of wire\n",
            "Explanation: The peddler earns his living by selling small rattraps he makes from wire.\n"
          ]
        }
      ]
    },
    {
      "cell_type": "markdown",
      "source": [
        "### 🖼️ Use Case 2: Solve Doubts from Diagrams or Image Snapshots"
      ],
      "metadata": {
        "id": "JUGilAvExMUj"
      }
    },
    {
      "cell_type": "markdown",
      "source": [
        "##### Solving doubt or Generating explanation from Image Input\n",
        "In the function **solve_image_doubt** two attributes are passed:\n",
        "- image_path : Path to the image present in local environment [Required]\n",
        "- prompt : A custom prompt stating what actions to be perfromed [Optional]\n",
        "\n",
        "Here , Educhain's ***qna_engine.solve_doubt*** model is being used"
      ],
      "metadata": {
        "id": "I1z3kH_Vz8Ij"
      }
    },
    {
      "cell_type": "code",
      "source": [
        "img_path = \"/content/note1.jpg\" #Please do use your own Image to see the Result\n",
        "explanation = solve_image_doubt(image_path=img_path, prompt=\"Explain the image in simple terms\")\n",
        "print(explanation)\n"
      ],
      "metadata": {
        "colab": {
          "base_uri": "https://localhost:8080/"
        },
        "id": "plxex6ZwxMxJ",
        "outputId": "12940547-d982-4dfd-f1e7-557eb1458cad"
      },
      "execution_count": 11,
      "outputs": [
        {
          "output_type": "stream",
          "name": "stdout",
          "text": [
            "explanation=\"The image describes the concept of a 'Thread' in computer science, particularly within the context of operating systems. It explains what a thread is, its components, benefits, and the different states a thread can be in during its lifecycle. The image also includes a state diagram illustrating the transitions between these thread states.\" steps=['Definition of Thread: A process is divided into multiple lightweight processes, each referred to as a thread.', 'Components of a Thread: Threads consist of a Program Counter (tracks the next instruction to execute), a Register Set (holds currently used variables), and a Stack (stores execution history).', 'Sharing Resources: Multiple threads can share the same address space, open files, and other resources.', 'Examples of Threads: Small processes like typing, formatting, or spell-checking can be executed by different threads.', 'Benefits of Threads:  Reduced creation time compared to processes.  Faster termination time compared to processes.  Quicker switching between threads within a process.  Effective communication between threads.', 'Thread States:  Born: A thread has just been created.  Ready: The thread is waiting for the processor to be assigned.  Running: The system has assigned a processor to the thread, and it is executing.  Blocked: The thread is waiting for a specific event to occur.  Sleep: A sleeping thread is ready after its designated sleep time expires.  Dead: The execution of the thread has finished.', 'Thread State Diagram: A visual representation showing the transitions between thread states: Born -> Ready -> Running -> (Sleeping/Blocked/Dead) and transitions back to Ready from Sleeping/Blocked.'] additional_notes='Threads are a fundamental concept in concurrent programming, allowing multiple tasks to run seemingly simultaneously within a single process. Understanding the different thread states and transitions is crucial for managing and debugging multithreaded applications.'\n"
          ]
        }
      ]
    },
    {
      "cell_type": "markdown",
      "source": [
        "### 📄 Use Case 3: Generate Questions from a PYQ PDF"
      ],
      "metadata": {
        "id": "wGskxfVCx_3Z"
      }
    },
    {
      "cell_type": "markdown",
      "source": [
        "##### Generating Questions from PDF\n",
        "In the function **questions = generate_questions_from_text(text, num_q=5)** two attributes are passed:\n",
        "- text : Providing the String from which questions are required to be generated.  [Required]\n",
        "- num_q : No. of questions to be generated [Optional]\n",
        "\n",
        "Here , Educhain's ***qna_engine.generate_questions_from_data*** model is being used"
      ],
      "metadata": {
        "id": "60B3UQrX04-0"
      }
    },
    {
      "cell_type": "code",
      "source": [
        "pdf_path = \"/content/IDB_AfterMidem notes _sai.pdf\"\n",
        "text = extract_text_from_pdf(pdf_path)\n",
        "print(text)\n",
        "\n",
        "questions = generate_questions_from_text(text, num_q=5)\n",
        "\n",
        "for i, q in enumerate(questions.questions, 1):\n",
        "    print(f\"\\nQ{i}: {q.question}\")\n",
        "    if hasattr(q, \"options\") and q.options:\n",
        "        for j, opt in enumerate(q.options):\n",
        "            print(f\"  {chr(65 + j)}. {opt}\")\n",
        "        print(f\"Answer: {q.answer}\")\n",
        "    else:\n",
        "        print(f\"Answer: {q.answer}\")\n",
        "    if getattr(q, \"explanation\", None):\n",
        "        print(f\"Explanation: {q.explanation}\")"
      ],
      "metadata": {
        "id": "_4X2qTgZyFca"
      },
      "execution_count": null,
      "outputs": []
    },
    {
      "cell_type": "markdown",
      "source": [
        "### ✍️ Use Case 4: Generate Questions from Custom Text Block"
      ],
      "metadata": {
        "id": "kwM6M0HTxbxP"
      }
    },
    {
      "cell_type": "markdown",
      "source": [
        "##### Generating Questions from Text\n",
        "In the function **questions = generate_questions_from_text(text, num_q=5)** two attributes are passed:\n",
        "- text : Providing the String from which questions are required to be generated.  [Required]\n",
        "- num_q : No. of questions to be generated [Optional]\n",
        "\n",
        "Here , Educhain's ***qna_engine.generate_questions_from_data*** model is being used"
      ],
      "metadata": {
        "id": "rFCg6Cbd1bQg"
      }
    },
    {
      "cell_type": "code",
      "source": [
        "custom_text = \"\"\"\n",
        "Photosynthesis is a process used by plants and other organisms to convert light energy into chemical energy.\n",
        "The chemical energy is stored in carbohydrate molecules, such as sugars, which are synthesized from carbon dioxide and water.\n",
        "\"\"\"\n",
        "\n",
        "result = generate_questions_from_text(custom_text, num_q=3)\n",
        "\n",
        "for i, q in enumerate(result.questions, 1):\n",
        "    print(f\"\\nQ{i}: {q.question}\")\n",
        "    if hasattr(q, \"options\") and q.options:\n",
        "        for j, opt in enumerate(q.options):\n",
        "            print(f\"  {chr(65 + j)}. {opt}\")\n",
        "        print(f\"Answer: {q.answer}\")\n",
        "    else:\n",
        "        print(f\"Answer: {q.answer}\")\n",
        "    if getattr(q, \"explanation\", None):\n",
        "        print(f\"Explanation: {q.explanation}\")\n"
      ],
      "metadata": {
        "colab": {
          "base_uri": "https://localhost:8080/"
        },
        "id": "SX9Suq0pxcSH",
        "outputId": "a892c41e-f4b9-4d3d-9ce7-18a6217b29db"
      },
      "execution_count": 12,
      "outputs": [
        {
          "output_type": "stream",
          "name": "stdout",
          "text": [
            "\n",
            "Q1: What is the primary source of energy for photosynthesis?\n",
            "  A. Chemical energy\n",
            "  B. Heat energy\n",
            "  C. Light energy\n",
            "  D. Kinetic energy\n",
            "Answer: Light energy\n",
            "Explanation: Photosynthesis converts light energy into chemical energy.\n",
            "\n",
            "Q2: What are the main products synthesized during photosynthesis?\n",
            "  A. Proteins\n",
            "  B. Lipids\n",
            "  C. Carbohydrate molecules (sugars)\n",
            "  D. Nucleic acids\n",
            "Answer: Carbohydrate molecules (sugars)\n",
            "Explanation: The chemical energy from photosynthesis is stored in carbohydrate molecules, such as sugars.\n",
            "\n",
            "Q3: Which of the following are the reactants used in photosynthesis to produce sugars?\n",
            "  A. Oxygen and glucose\n",
            "  B. Nitrogen and methane\n",
            "  C. Carbon dioxide and water\n",
            "  D. Hydrogen and ammonia\n",
            "Answer: Carbon dioxide and water\n",
            "Explanation: Photosynthesis uses carbon dioxide and water to synthesize sugars.\n"
          ]
        }
      ]
    }
  ]
}