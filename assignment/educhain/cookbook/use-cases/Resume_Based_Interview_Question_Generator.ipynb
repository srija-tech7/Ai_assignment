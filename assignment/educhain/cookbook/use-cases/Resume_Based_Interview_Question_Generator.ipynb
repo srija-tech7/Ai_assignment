{
  "nbformat": 4,
  "nbformat_minor": 0,
  "metadata": {
    "colab": {
      "provenance": [],
      "gpuType": "T4"
    },
    "kernelspec": {
      "name": "python3",
      "display_name": "Python 3"
    },
    "language_info": {
      "name": "python"
    },
    "accelerator": "GPU"
  },
  "cells": [
    {
      "cell_type": "markdown",
      "source": [
        "<img src=\"https://github.com/Shubhwithai/GRE_Geometry_quiz/blob/main/Group%2042.png?raw=true\" width=\"\" height=\"50\">\n",
        "\n",
        "Educhain is a powerful Python package that leverages Generative AI to create\n",
        "engaging and personalized educational content. From generating multiple-choice questions to crafting comprehensive lesson plans, Educhain makes it easy to apply AI in various educational scenarios."
      ],
      "metadata": {
        "id": "3e9AXDiuhmWh"
      }
    },
    {
      "cell_type": "markdown",
      "source": [
        "[![Open In Colab](https://colab.research.google.com/assets/colab-badge.svg)](https://colab.research.google.com/drive/1zWxPpIvfVLf9Td7V_EC-ZsLE-OT7nGKY?usp=sharing)"
      ],
      "metadata": {
        "id": "Q-nMyDE6h_JT"
      }
    },
    {
      "cell_type": "markdown",
      "source": [
        "###🎯 Generate Interview Questions from Resume using Educhain\n",
        "\n",
        "Unlock the power of AI for hiring and career readiness with Educhain!\n",
        "This notebook demonstrates how to automatically generate tailored interview questions directly from resumes or profile documents using the Educhain Python package.\n",
        "\n",
        "###🔍 What is Educhain?\n",
        "Educhain is a robust Python toolkit that uses Generative AI to create customized and high-quality educational content. Whether you're preparing candidates for interviews or building HR automation tools, Educhain streamlines the process of generating intelligent, contextual interview questions.\n",
        "\n",
        "\n"
      ],
      "metadata": {
        "id": "6jiwrXJYMqTD"
      }
    },
    {
      "cell_type": "markdown",
      "source": [
        "###🚀 Key Features for Interview Question Generation:\n",
        "- ✅ Extract Questions from PDF Resumes\n",
        "Automatically parse and generate domain-specific questions from uploaded CVs or profiles.\n",
        "\n",
        "- 🎯 Customize Question Difficulty & Role Focus\n",
        "Adapt question complexity based on job level (e.g., entry-level, senior engineer, manager).\n",
        "\n",
        "- 🤖 Powered by Advanced LLMs\n",
        "Supports OpenAI, Gemini, Claude, and more for deep contextual understanding.\n",
        "\n",
        "- 🛠️ Flexible Output Formats\n",
        "Generate Multiple Choice, Short Answer, or Situational Interview questions.\n",
        "\n",
        "###📂 Example Use Cases:\n",
        "- HR screening automation\n",
        "\n",
        "- Technical interview preparation\n",
        "\n",
        "- Personalized mock interviews for students\n",
        "\n",
        "- Candidate skill-gap analysis\n"
      ],
      "metadata": {
        "id": "_eiufCmPht6o"
      }
    },
    {
      "cell_type": "markdown",
      "source": [
        "###**Library Setup**"
      ],
      "metadata": {
        "id": "Mj07wd7sNtKq"
      }
    },
    {
      "cell_type": "code",
      "execution_count": null,
      "metadata": {
        "id": "okQQr9Xm3CFP"
      },
      "outputs": [],
      "source": [
        "!pip install -qU educhain"
      ]
    },
    {
      "cell_type": "markdown",
      "source": [
        "###**Setup API Key**"
      ],
      "metadata": {
        "id": "CR4xWXdGN0zC"
      }
    },
    {
      "cell_type": "code",
      "source": [
        "import os\n",
        "from google.colab import userdata\n",
        "\n",
        "os.environ[\"GOOGLE_API_KEY\"] = userdata.get(\"GOOGLE_API_KEY\")"
      ],
      "metadata": {
        "id": "tDIuW1kc3oWB"
      },
      "execution_count": null,
      "outputs": []
    },
    {
      "cell_type": "markdown",
      "source": [
        "###**Configure Educhain with Gemini**"
      ],
      "metadata": {
        "id": "_YYvJzrtN5Sp"
      }
    },
    {
      "cell_type": "code",
      "source": [
        "from langchain_google_genai import ChatGoogleGenerativeAI\n",
        "from educhain import Educhain, LLMConfig\n",
        "from google.colab import userdata\n",
        "\n",
        "gemini = ChatGoogleGenerativeAI(\n",
        "    model=\"gemini-2.0-flash\",\n",
        "    google_api_key=\"GOOGLE_API_KEY\")\n",
        "\n",
        "gemini_config = LLMConfig(custom_model=gemini)\n",
        "\n",
        "client = Educhain(gemini_config)"
      ],
      "metadata": {
        "id": "-bBrseJu3GMY"
      },
      "execution_count": null,
      "outputs": []
    },
    {
      "cell_type": "markdown",
      "source": [
        "## **Generate Interview Questions from Resume**\n",
        "\n",
        "Here Difficulty is set : easy to medium , but in prompt we can pass difficulty via f\" \" string.\n",
        "\n",
        "From Resume key aspects like Projects and Work Experience is consider. AI generate Interview Quetions with key Resume content with Provided information (Defficulty , Job role and Description , Coustom Quetions).\n",
        "\n"
      ],
      "metadata": {
        "id": "VhUqZ6KgN-d6"
      }
    },
    {
      "cell_type": "markdown",
      "source": [
        "#### **Example 1:For Role = Python Intern**"
      ],
      "metadata": {
        "id": "Mdrd1vVaibza"
      }
    },
    {
      "cell_type": "code",
      "source": [
        "interview_questions_from_resume = client.qna_engine.generate_questions_from_data(\n",
        "    source=\"test.pdf\",\n",
        "    source_type=\"pdf\",\n",
        "    num=10,\n",
        "    custom_instructions = \"\"\"\n",
        "    You are an AI interview assistant helping to prepare technical interview questions.\n",
        "\n",
        "    Job Role: Python Intern\n",
        "\n",
        "    Your task is to **analyze the candidate's resume**, especially focusing on the **Projects** and **Work Experience** sections.\n",
        "\n",
        "    Based on the content in these sections, generate **10 personalized interview questions** that assess the candidate's readiness for the Python Intern role.\n",
        "\n",
        "\n",
        "    Guidelines:\n",
        "    - Align questions with the skills, tools, and technologies mentioned in the candidate’s **projects or experience**.\n",
        "    - Focus especially on areas like Python programming, automation, web development, data handling, or libraries/frameworks (e.g., Flask, Pandas, NumPy) if found.\n",
        "    - Ask questions that test both **conceptual understanding** (e.g., \"What is the difference between list and tuple in Python?\") and **practical application** (e.g., \"How would you optimize a slow Python script?\").\n",
        "    - Vary the difficulty (easy to moderate), simulating the flow of a real interview.\n",
        "    - Avoid generic or unrelated questions. Each question should feel specific to the candidate’s actual experience.\n",
        "    - If no technical content is found, fall back to basic Python or programming-related questions.\n",
        "    - Format questions clearly with optional bullet points or numbering.\n",
        "\n",
        "\n",
        "    Output format should be clear and structured.\n",
        "    \"\"\"\n",
        ")\n",
        "\n",
        "interview_questions_from_resume.show()\n"
      ],
      "metadata": {
        "id": "fAmsK53g3GJ4"
      },
      "execution_count": null,
      "outputs": []
    },
    {
      "cell_type": "markdown",
      "source": [
        "###**Example 2 : For Role = Data Analyst**"
      ],
      "metadata": {
        "id": "cBpIsTkAg7C6"
      }
    },
    {
      "cell_type": "code",
      "source": [
        "interview_questions_from_resume = client.qna_engine.generate_questions_from_data(\n",
        "    source=\"test.pdf\",\n",
        "    source_type=\"pdf\",\n",
        "    num=10,\n",
        "    custom_instructions = \"\"\"\n",
        "    You are an AI interview assistant helping to prepare technical interview questions.\n",
        "\n",
        "    Job Role: Data Analyst\n",
        "\n",
        "    Your task is to **analyze the candidate's resume**, especially focusing on the **Projects** and **Work Experience** sections.\n",
        "\n",
        "    Based on the content in these sections, generate **10 personalized interview questions** that assess the candidate's readiness for the Python Intern role.\n",
        "\n",
        "\n",
        "    Guidelines:\n",
        "    - Align questions with the skills, tools, and technologies mentioned in the candidate’s **projects or experience**.\n",
        "    - Focus especially on areas like Python programming, automation, web development, data handling, or libraries/frameworks (e.g., Flask, Pandas, NumPy) if found.\n",
        "    - Ask questions that test both **conceptual understanding** (e.g., \"What is the difference between list and tuple in Python?\") and **practical application** (e.g., \"How would you optimize a slow Python script?\").\n",
        "    - Vary the difficulty (easy to moderate), simulating the flow of a real interview.\n",
        "    - Avoid generic or unrelated questions. Each question should feel specific to the candidate’s actual experience.\n",
        "    - If no technical content is found, fall back to basic Python or programming-related questions.\n",
        "    - Format questions clearly with optional bullet points or numbering.\n",
        "\n",
        "\n",
        "    Output format should be clear and structured.\n",
        "    \"\"\"\n",
        ")\n",
        "\n",
        "interview_questions_from_resume.show()\n"
      ],
      "metadata": {
        "id": "Ko9zRiWI3GHJ"
      },
      "execution_count": null,
      "outputs": []
    },
    {
      "cell_type": "markdown",
      "source": [
        "###**Example 3 : For Role = Web Developer in Nextjs or Django**"
      ],
      "metadata": {
        "id": "T81nJjdEhLzN"
      }
    },
    {
      "cell_type": "code",
      "source": [
        "interview_questions_from_resume = client.qna_engine.generate_questions_from_data(\n",
        "    source=\"test.pdf\",\n",
        "    source_type=\"pdf\",\n",
        "    num=10,\n",
        "    custom_instructions = \"\"\"\n",
        "    You are an AI interview assistant helping to prepare technical interview questions.\n",
        "\n",
        "    Job Role: Web Developer in Nextjs or Django\n",
        "\n",
        "    Your task is to **analyze the candidate's resume**, especially focusing on the **Projects** and **Work Experience** sections.\n",
        "\n",
        "    Based on the content in these sections, generate **10 personalized interview questions** that assess the candidate's readiness for the Python Intern role.\n",
        "\n",
        "\n",
        "    Guidelines:\n",
        "    - Align questions with the skills, tools, and technologies mentioned in the candidate’s **projects or experience**.\n",
        "    - Focus especially on areas like Python programming, automation, web development, data handling, or libraries/frameworks (e.g., Flask, Pandas, NumPy) if found.\n",
        "    - Ask questions that test both **conceptual understanding** (e.g., \"What is the difference between list and tuple in Python?\") and **practical application** (e.g., \"How would you optimize a slow Python script?\").\n",
        "    - Vary the difficulty (easy to moderate), simulating the flow of a real interview.\n",
        "    - Avoid generic or unrelated questions. Each question should feel specific to the candidate’s actual experience.\n",
        "    - If no technical content is found, fall back to basic Python or programming-related questions.\n",
        "    - Format questions clearly with optional bullet points or numbering.\n",
        "\n",
        "\n",
        "    Output format should be clear and structured.\n",
        "    \"\"\"\n",
        ")\n",
        "\n",
        "interview_questions_from_resume.show()\n"
      ],
      "metadata": {
        "id": "lUV50fZD3GEp"
      },
      "execution_count": null,
      "outputs": []
    }
  ]
}
