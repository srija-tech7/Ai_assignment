{
  "cells": [
    {
      "cell_type": "markdown",
      "metadata": {},
      "source": [
        "<img src=\"https://github.com/Shubhwithai/GRE_Geometry_quiz/blob/main/Group%2042.png?raw=true\" width=\"\" height=\"50\">\n",
        "\n",
        "Educhain is a powerful Python package that leverages Generative AI to create engaging and personalized educational content. From generating multiple-choice questions to crafting comprehensive lesson plans, Educhain makes it easy to apply AI in various educational scenarios."
      ]
    },
    {
      "cell_type": "markdown",
      "metadata": {
        "id": "KzHK2RLHcw_E"
      },
      "source": [
        "[![Open In Colab](https://colab.research.google.com/assets/colab-badge.svg)](https://colab.research.google.com/drive/1xV9PZiEFTwTZJUtttk2bEvX6NKIGJzBd?usp=sharing)"
      ]
    },
    {
      "cell_type": "markdown",
      "metadata": {
        "id": "Eh0egNoRdb6F"
      },
      "source": [
        "## Generate MCQs from Data using [Educhain](https://github.com/satvik314/educhain)\n",
        "\n",
        "\n",
        "Explore the power of AI-driven education with Educhain! This notebook demonstrates how to create high-quality Multiple Choice Questions (MCQs) from various data sources using the Educhain package. ✅\n",
        "\n",
        "Key Features:\n",
        "- Generate MCQs from PDF files, web pages, and plain text\n",
        "- Customize difficulty levels and learning objectives\n",
        "- Leverage advanced language models for question generation\n",
        "\n",
        "Perfect for educators, content creators, and e-learning developers looking to automate and enhance their question creation process. Dive in to revolutionize your approach to educational content generation!\n",
        "\n"
      ]
    },
    {
      "cell_type": "code",
      "execution_count": null,
      "metadata": {
        "colab": {
          "base_uri": "https://localhost:8080/"
        },
        "id": "iVsx0ZrTcw08",
        "outputId": "d81b7976-59ae-4252-cac3-b8344974fdcb"
      },
      "outputs": [],
      "source": [
        "!pip install -qU educhain langchain-google-genai"
      ]
    },
    {
      "cell_type": "markdown",
      "metadata": {
        "id": "W1AOh8qd9wbq"
      },
      "source": [
        "### Initiating Educhain with Gemini Pro 002"
      ]
    },
    {
      "cell_type": "code",
      "execution_count": null,
      "metadata": {
        "id": "kkM9e1xM93hS"
      },
      "outputs": [],
      "source": [
        "from langchain_google_genai import ChatGoogleGenerativeAI\n",
        "from educhain import Educhain, LLMConfig\n",
        "from google.colab import userdata\n",
        "\n",
        "gemini = ChatGoogleGenerativeAI(\n",
        "    model=\"gemini-2.0-flash\",\n",
        "    api_key=userdata.get(\"GOOGLE_API_KEY\"))\n",
        "\n",
        "gemini_config = LLMConfig(custom_model=gemini)\n",
        "\n",
        "client = Educhain(gemini_config)"
      ]
    },
    {
      "cell_type": "markdown",
      "metadata": {
        "id": "pLKufnaS9qIv"
      },
      "source": [
        "### Generating MCQs from a PDF"
      ]
    },
    {
      "cell_type": "code",
      "execution_count": null,
      "metadata": {
        "colab": {
          "base_uri": "https://localhost:8080/"
        },
        "id": "zcMOtAdlAlxH",
        "outputId": "621b500c-9546-4dd6-a151-6152815a285f"
      },
      "outputs": [],
      "source": [
        "!wget https://arxiv.org/pdf/2306.05499.pdf"
      ]
    },
    {
      "cell_type": "code",
      "execution_count": null,
      "metadata": {
        "colab": {
          "base_uri": "https://localhost:8080/"
        },
        "id": "ABbLIaYiArLb",
        "outputId": "7a1b29ae-d746-4dbd-c8b6-dd03a80a181a"
      },
      "outputs": [],
      "source": [
        "%%time\n",
        "mcqs_from_url = client.qna_engine.generate_questions_from_data(\n",
        "        source=\"2306.05499.pdf\",\n",
        "        source_type=\"pdf\",\n",
        "        num=10\n",
        "    )\n",
        "\n",
        "mcqs_from_url.show()"
      ]
    },
    {
      "cell_type": "markdown",
      "metadata": {
        "id": "oTbvK5QkBR2n"
      },
      "source": [
        "### It also supports URLs "
      ]
    },
    {
      "cell_type": "code",
      "execution_count": null,
      "metadata": {
        "colab": {
          "base_uri": "https://localhost:8080/"
        },
        "id": "qHIPmn5c9txq",
        "outputId": "b68bf577-7927-4e9e-e6c1-122de1871c97"
      },
      "outputs": [],
      "source": [
        "mcqs_from_url = client.qna_engine.generate_questions_from_data(\n",
        "        source=\"https://en.wikipedia.org/wiki/Butterfly_effect\",\n",
        "        source_type=\"url\",\n",
        "        num=5\n",
        "    )\n",
        "\n",
        "mcqs_from_url.show()"
      ]
    }
  ],
  "metadata": {
    "colab": {
      "provenance": []
    },
    "kernelspec": {
      "display_name": "Python 3",
      "name": "python3"
    },
    "language_info": {
      "name": "python"
    }
  },
  "nbformat": 4,
  "nbformat_minor": 0
}
